{
 "cells": [
  {
   "cell_type": "code",
   "execution_count": 1,
   "id": "cc3de0a8",
   "metadata": {},
   "outputs": [],
   "source": [
    "import my_utils as mu\n",
    "import requests"
   ]
  },
  {
   "cell_type": "code",
   "execution_count": 2,
   "id": "b514a937",
   "metadata": {},
   "outputs": [],
   "source": [
    "api_key = 'RGAPI-f94a4128-cb3b-4303-b92b-0016fa59b5a8'"
   ]
  },
  {
   "cell_type": "code",
   "execution_count": 3,
   "id": "e27d0d5d",
   "metadata": {},
   "outputs": [],
   "source": [
    "puu_id = mu.get_puuid('깡통차기국내1위','KR1')"
   ]
  },
  {
   "cell_type": "code",
   "execution_count": 4,
   "id": "0745d301",
   "metadata": {},
   "outputs": [
    {
     "data": {
      "text/plain": [
       "'ILvForIkTc9AHZ7g2dAwzOp5MqiSP0o11m_I-4xRgvM640rprYRJuzSlWR3tMa99MqBf8UvO4pIlPA'"
      ]
     },
     "execution_count": 4,
     "metadata": {},
     "output_type": "execute_result"
    }
   ],
   "source": [
    "puu_id"
   ]
  },
  {
   "cell_type": "code",
   "execution_count": 5,
   "id": "8af08923",
   "metadata": {},
   "outputs": [
    {
     "ename": "TypeError",
     "evalue": "get_match_id() missing 1 required positional argument: 'num'",
     "output_type": "error",
     "traceback": [
      "\u001b[1;31m---------------------------------------------------------------------------\u001b[0m",
      "\u001b[1;31mTypeError\u001b[0m                                 Traceback (most recent call last)",
      "Cell \u001b[1;32mIn[5], line 1\u001b[0m\n\u001b[1;32m----> 1\u001b[0m match_list \u001b[38;5;241m=\u001b[39m mu\u001b[38;5;241m.\u001b[39mget_match_id(puu_id)\n",
      "\u001b[1;31mTypeError\u001b[0m: get_match_id() missing 1 required positional argument: 'num'"
     ]
    }
   ],
   "source": [
    "match_list = mu.get_match_id(puu_id)"
   ]
  },
  {
   "cell_type": "code",
   "execution_count": null,
   "id": "34753195",
   "metadata": {},
   "outputs": [],
   "source": [
    "match_list"
   ]
  },
  {
   "cell_type": "code",
   "execution_count": null,
   "id": "6b2fe5c6",
   "metadata": {},
   "outputs": [],
   "source": [
    "matches,timelines = mu.get_matches_timelines(match_list[0])"
   ]
  },
  {
   "cell_type": "code",
   "execution_count": null,
   "id": "e0a4c6b3",
   "metadata": {},
   "outputs": [],
   "source": []
  },
  {
   "cell_type": "code",
   "execution_count": null,
   "id": "3a2d656d",
   "metadata": {},
   "outputs": [],
   "source": []
  },
  {
   "cell_type": "code",
   "execution_count": null,
   "id": "876764f7",
   "metadata": {},
   "outputs": [],
   "source": [
    "url = f'https://kr.api.riotgames.com/lol/league/v4/entries/RANKED_SOLO_5x5/GOLD/IV?page=2&api_key={api_key}'"
   ]
  },
  {
   "cell_type": "code",
   "execution_count": null,
   "id": "aae0983c",
   "metadata": {},
   "outputs": [],
   "source": [
    "res = requests.get(url).json()"
   ]
  },
  {
   "cell_type": "code",
   "execution_count": null,
   "id": "316f830c",
   "metadata": {},
   "outputs": [],
   "source": [
    "summoner_id = res[0]['summonerId']"
   ]
  },
  {
   "cell_type": "code",
   "execution_count": null,
   "id": "be4b45b4",
   "metadata": {},
   "outputs": [],
   "source": [
    "url2 = f'https://kr.api.riotgames.com/lol/summoner/v4/summoners/{summoner_id}?api_key={api_key}'"
   ]
  },
  {
   "cell_type": "code",
   "execution_count": null,
   "id": "35a4068d",
   "metadata": {},
   "outputs": [],
   "source": [
    "res2 = requests.get(url2).json()"
   ]
  },
  {
   "cell_type": "code",
   "execution_count": null,
   "id": "5c049fef",
   "metadata": {},
   "outputs": [],
   "source": [
    "res2"
   ]
  },
  {
   "cell_type": "markdown",
   "id": "ff20af50",
   "metadata": {},
   "source": [
    "# get_rawdata(tier)\n",
    "# df columns = [Match_id,matches,timelines]"
   ]
  },
  {
   "cell_type": "code",
   "execution_count": null,
   "id": "81f343aa",
   "metadata": {},
   "outputs": [],
   "source": [
    "import random\n",
    "from tqdm import tqdm"
   ]
  },
  {
   "cell_type": "code",
   "execution_count": null,
   "id": "3981e80b",
   "metadata": {},
   "outputs": [],
   "source": [
    "def get_rawdata(tier):\n",
    "    division_list = ['I','II','III','IV']\n",
    "    lst = []\n",
    "    page = random.randrange(1,20)\n",
    "    print('get summonerId...')\n",
    "    for division in tqdm(division_list):\n",
    "        url = f'https://kr.api.riotgames.com/lol/league/v4/entries/RANKED_SOLO_5x5/{tier}/{division}?page={page}&api_key={api_key}'\n",
    "        res = requests.get(url).json()\n",
    "        lst += random.sample(res,4)\n",
    "    \n",
    "    List = []\n",
    "    for i in lst :\n",
    "        List.append(i['summonerId'])\n",
    "    \n",
    "    puuid = []\n",
    "    print('get puuId...')\n",
    "    for i in tqdm(List):\n",
    "        url1 = f'https://kr.api.riotgames.com/lol/summoner/v4/summoners/{i}?api_key={api_key}'\n",
    "        res1 = requests.get(url1).json()\n",
    "        puuid.append(res1['puuid'])\n",
    "    \n",
    "    march_id = []\n",
    "    print('get march_id...')\n",
    "    for i in puuid:\n",
    "        march_id += mu.get_match_id(i,3)\n",
    "        \n",
    "    getList= []\n",
    "    print('get matches&timeline...')\n",
    "    for i in tqdm(range(len(march_id))):\n",
    "        matches,timelines=mu.get_matches_timelines(march_id[i])\n",
    "        getList.append([march_id[i],matches,timelines])\n",
    "    \n",
    "    df = pd.DataFrame(getList,columns=['march_id','matches','timelines'])\n",
    "    return df"
   ]
  },
  {
   "cell_type": "code",
   "execution_count": null,
   "id": "bc065ea9",
   "metadata": {},
   "outputs": [],
   "source": [
    "get_rawdata('GOLD')"
   ]
  },
  {
   "cell_type": "code",
   "execution_count": null,
   "id": "5bd88c15",
   "metadata": {},
   "outputs": [],
   "source": [
    "def lst1():\n",
    "    List = []\n",
    "    for i in lst :\n",
    "        List.append(i['summonerId'])\n",
    "    return List"
   ]
  },
  {
   "cell_type": "code",
   "execution_count": null,
   "id": "048d6afa",
   "metadata": {},
   "outputs": [],
   "source": [
    "    tier = \"GOLD\"\n",
    "    division_list = ['I','II','III','IV']\n",
    "    lst = []\n",
    "    page = random.randrange(1,20)\n",
    "    print('get summonerId....')\n",
    "    for division in tqdm(division_list):\n",
    "        url = f'https://kr.api.riotgames.com/lol/league/v4/entries/RANKED_SOLO_5x5/{tier}/{division}?page={page}&api_key={api_key}'\n",
    "        res = requests.get(url).json()\n",
    "        lst += random.sample(res,4)\n",
    "    \n",
    "    List = []\n",
    "    for i in lst:\n",
    "        List.append(i['summonerId'])\n",
    "    \n",
    "    for i in lst:\n",
    "        url1 = f'https://kr.api.riotgames.com/lol/summoner/v4/summoners/{List[i]}?api_key={api_key}'\n",
    "        res1 = requests.get(url1).json()\n",
    "        puuid += res1['puuid']\n",
    "    \n",
    "    getList= []\n",
    "    for i in tqdm(range(len(march_id))):\n",
    "        matches,timelines=mu.get_matches_timelines(march_id[i])\n",
    "        getList.append([march_id[i],matches,timelines])\n",
    "    \n",
    "    df = pd.DataFrame(getList,columns=['march_id','matches','timelines'])\n",
    "    return"
   ]
  },
  {
   "cell_type": "code",
   "execution_count": null,
   "id": "27e6f471",
   "metadata": {},
   "outputs": [],
   "source": [
    "res1"
   ]
  },
  {
   "cell_type": "code",
   "execution_count": null,
   "id": "b1d2e6c1",
   "metadata": {},
   "outputs": [],
   "source": [
    "List = []\n",
    "for i in lst:\n",
    "    List.append(i['summonerId'])"
   ]
  },
  {
   "cell_type": "code",
   "execution_count": null,
   "id": "e0f5b2f5",
   "metadata": {},
   "outputs": [],
   "source": [
    "List"
   ]
  },
  {
   "cell_type": "code",
   "execution_count": null,
   "id": "37e70923",
   "metadata": {},
   "outputs": [],
   "source": [
    "puuid = []\n",
    "for i in List:\n",
    "    url1 = f'https://kr.api.riotgames.com/lol/summoner/v4/summoners/{i}?api_key={api_key}'\n",
    "    res1 = requests.get(url1).json()\n",
    "    puuid.append(res1['puuid'])"
   ]
  },
  {
   "cell_type": "code",
   "execution_count": null,
   "id": "6d8f5091",
   "metadata": {},
   "outputs": [],
   "source": [
    "puuid"
   ]
  },
  {
   "cell_type": "code",
   "execution_count": null,
   "id": "96d61a01",
   "metadata": {},
   "outputs": [],
   "source": [
    "march_id = []\n",
    "for i in puuid:\n",
    "    march_id += mu.get_match_id(i,3)"
   ]
  },
  {
   "cell_type": "code",
   "execution_count": null,
   "id": "c207f28b",
   "metadata": {},
   "outputs": [],
   "source": [
    "len(march_id)"
   ]
  },
  {
   "cell_type": "code",
   "execution_count": null,
   "id": "923b709d",
   "metadata": {},
   "outputs": [],
   "source": [
    "getList= []\n",
    "for i in tqdm(range(len(march_id))):\n",
    "    matches,timelines=mu.get_matches_timelines(march_id[i])\n",
    "    getList.append([march_id[i],matches,timelines])"
   ]
  },
  {
   "cell_type": "code",
   "execution_count": null,
   "id": "2f9b5a70",
   "metadata": {},
   "outputs": [],
   "source": [
    "sel_c = ['march_id','matches','timelines']"
   ]
  },
  {
   "cell_type": "code",
   "execution_count": null,
   "id": "c94f415c",
   "metadata": {},
   "outputs": [],
   "source": [
    "getList = DataF"
   ]
  },
  {
   "cell_type": "code",
   "execution_count": null,
   "id": "6b08c701",
   "metadata": {},
   "outputs": [],
   "source": [
    "df = pd.DataFrame(getList,columns=['march_id','matches','timelines'])"
   ]
  },
  {
   "cell_type": "code",
   "execution_count": null,
   "id": "ceac4a45",
   "metadata": {},
   "outputs": [],
   "source": [
    "df"
   ]
  },
  {
   "cell_type": "code",
   "execution_count": null,
   "id": "bd74038b",
   "metadata": {},
   "outputs": [],
   "source": [
    "    tier = \"GOLD\"\n",
    "    division_list = ['I','II','III','IV']\n",
    "    lst = []\n",
    "    puuid = []\n",
    "    summonerId = []\n",
    "    page = random.randrange(1,20)\n",
    "    print('get summonerId....')\n",
    "    for division in tqdm(division_list):\n",
    "        url = f'https://kr.api.riotgames.com/lol/league/v4/entries/RANKED_SOLO_5x5/{tier}/{division}?page={page}&api_key={api_key}'\n",
    "        res = requests.get(url).json()\n",
    "        lst += random.sample(res,4)\n",
    "        summonerId = i['summonerId']\n",
    "        for i in lst:\n",
    "            summonerId = i['summonerId']\n",
    "            url1 = f'https://kr.api.riotgames.com/lol/summoner/v4/summoners/{summonerId}?api_key={api_key}'\n",
    "            res1 = requests.get(url1).json()\n",
    "            puuid += res1\n",
    "#             summoner_id = lst[i]['summonerId']\n",
    "#             url1 = f'https://kr.api.riotgames.com/lol/summoner/v4/summoners/{summoner_id}?api_key={api_key}'\n",
    "#             res1 = requests.get(url1).json()\n",
    "#             summonerId += res1"
   ]
  },
  {
   "cell_type": "code",
   "execution_count": null,
   "id": "b8f0464c",
   "metadata": {},
   "outputs": [],
   "source": [
    "summonerId"
   ]
  },
  {
   "cell_type": "code",
   "execution_count": null,
   "id": "eae91fb4",
   "metadata": {
    "scrolled": true
   },
   "outputs": [],
   "source": [
    "summonerId"
   ]
  },
  {
   "cell_type": "code",
   "execution_count": null,
   "id": "7a9d1d71",
   "metadata": {},
   "outputs": [],
   "source": [
    "lst"
   ]
  },
  {
   "cell_type": "code",
   "execution_count": null,
   "id": "debc064d",
   "metadata": {},
   "outputs": [],
   "source": [
    "summonerId = []\n",
    "for i in lst:\n",
    "    summonerId = i['summonerId']"
   ]
  },
  {
   "cell_type": "code",
   "execution_count": null,
   "id": "8caa663d",
   "metadata": {},
   "outputs": [],
   "source": [
    "lst"
   ]
  },
  {
   "cell_type": "code",
   "execution_count": null,
   "id": "cc2f17af",
   "metadata": {},
   "outputs": [],
   "source": [
    "url0 = f'https://kr.api.riotgames.com/lol/summoner/v4/summoners/{summoner_id}?api_key={api_key}'"
   ]
  },
  {
   "cell_type": "code",
   "execution_count": null,
   "id": "7511fcae",
   "metadata": {},
   "outputs": [],
   "source": [
    "res0 = requests.get(url0).json()"
   ]
  },
  {
   "cell_type": "code",
   "execution_count": null,
   "id": "a355bacd",
   "metadata": {},
   "outputs": [],
   "source": [
    "res0['puuid']"
   ]
  },
  {
   "cell_type": "code",
   "execution_count": null,
   "id": "a6dc1b3b",
   "metadata": {},
   "outputs": [],
   "source": [
    "import pandas as pd"
   ]
  },
  {
   "cell_type": "code",
   "execution_count": null,
   "id": "1f3052a7",
   "metadata": {},
   "outputs": [],
   "source": [
    "pd.DataFrame"
   ]
  },
  {
   "cell_type": "code",
   "execution_count": null,
   "id": "47d3ab59",
   "metadata": {},
   "outputs": [],
   "source": []
  },
  {
   "cell_type": "code",
   "execution_count": null,
   "id": "7c8431fa",
   "metadata": {},
   "outputs": [],
   "source": []
  },
  {
   "cell_type": "code",
   "execution_count": null,
   "id": "e65e6145",
   "metadata": {},
   "outputs": [],
   "source": []
  },
  {
   "cell_type": "code",
   "execution_count": null,
   "id": "03b17bfa",
   "metadata": {},
   "outputs": [],
   "source": []
  },
  {
   "cell_type": "code",
   "execution_count": null,
   "id": "f2ac52e7",
   "metadata": {},
   "outputs": [],
   "source": []
  },
  {
   "cell_type": "code",
   "execution_count": null,
   "id": "04d397c1",
   "metadata": {},
   "outputs": [],
   "source": []
  },
  {
   "cell_type": "code",
   "execution_count": null,
   "id": "33e520a6",
   "metadata": {},
   "outputs": [],
   "source": []
  },
  {
   "cell_type": "code",
   "execution_count": null,
   "id": "9f147a3f",
   "metadata": {},
   "outputs": [],
   "source": []
  },
  {
   "cell_type": "code",
   "execution_count": null,
   "id": "ecb164bf",
   "metadata": {},
   "outputs": [],
   "source": []
  },
  {
   "cell_type": "code",
   "execution_count": null,
   "id": "2d4d5ebf",
   "metadata": {},
   "outputs": [],
   "source": []
  },
  {
   "cell_type": "code",
   "execution_count": null,
   "id": "fa35ca86",
   "metadata": {},
   "outputs": [],
   "source": []
  },
  {
   "cell_type": "code",
   "execution_count": null,
   "id": "495837f5",
   "metadata": {},
   "outputs": [],
   "source": []
  },
  {
   "cell_type": "code",
   "execution_count": null,
   "id": "f51ab93d",
   "metadata": {},
   "outputs": [],
   "source": []
  }
 ],
 "metadata": {
  "kernelspec": {
   "display_name": "Python 3 (ipykernel)",
   "language": "python",
   "name": "python3"
  },
  "language_info": {
   "codemirror_mode": {
    "name": "ipython",
    "version": 3
   },
   "file_extension": ".py",
   "mimetype": "text/x-python",
   "name": "python",
   "nbconvert_exporter": "python",
   "pygments_lexer": "ipython3",
   "version": "3.11.5"
  }
 },
 "nbformat": 4,
 "nbformat_minor": 5
}
