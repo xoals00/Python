{
 "cells": [
  {
   "cell_type": "code",
   "execution_count": 2,
   "id": "325a9dd7",
   "metadata": {},
   "outputs": [],
   "source": [
    "import pandas as pd\n",
    "from my_utils import *\n",
    "import matplotlib.pyplot as plt\n",
    "from matplotlib import font_manager, rc"
   ]
  },
  {
   "cell_type": "code",
   "execution_count": 3,
   "id": "320d9206",
   "metadata": {},
   "outputs": [],
   "source": [
    "font_path = \"C:/Windows/Fonts/gulim.ttc\"\n",
    "font = font_manager.FontProperties(fname=font_path).get_name()\n",
    "rc('font', family=font) # 윈도우"
   ]
  },
  {
   "cell_type": "code",
   "execution_count": 4,
   "id": "26e31fe6",
   "metadata": {},
   "outputs": [],
   "source": [
    "conn = connect_mysql()\n",
    "query = 'select * from lol_datas'\n",
    "df = pd.DataFrame(sql_execute_dict(conn,query))\n",
    "conn.close()"
   ]
  },
  {
   "cell_type": "code",
   "execution_count": 5,
   "id": "ed84c2aa",
   "metadata": {},
   "outputs": [
    {
     "data": {
      "text/plain": [
       "Index(['gameId', 'gameDuration', 'gameVersion', 'summonerName',\n",
       "       'summonerLevel', 'participantId', 'championName', 'champExperience',\n",
       "       'teamPosition', 'teamId', 'win', 'kills', 'deaths', 'assists',\n",
       "       'totalDamageDealtToChampions', 'totalDamageTaken', 'g_5', 'g_6', 'g_7',\n",
       "       'g_8', 'g_9', 'g_10', 'g_11', 'g_12', 'g_13', 'g_14', 'g_15', 'g_16',\n",
       "       'g_17', 'g_18', 'g_19', 'g_20', 'g_21', 'g_22', 'g_23', 'g_24', 'g_25'],\n",
       "      dtype='object')"
      ]
     },
     "execution_count": 5,
     "metadata": {},
     "output_type": "execute_result"
    }
   ],
   "source": [
    "df.columns"
   ]
  },
  {
   "cell_type": "code",
   "execution_count": 13,
   "id": "efcc81e0",
   "metadata": {},
   "outputs": [],
   "source": [
    "tmp = df[['teamPosition','totalDamageDealtToChampions','totalDamageTaken','g_15']]"
   ]
  },
  {
   "cell_type": "code",
   "execution_count": 14,
   "id": "008a5deb",
   "metadata": {},
   "outputs": [],
   "source": [
    "tmp = tmp[tmp.teamPosition != '']"
   ]
  },
  {
   "cell_type": "code",
   "execution_count": 15,
   "id": "4628a2f4",
   "metadata": {},
   "outputs": [
    {
     "data": {
      "text/html": [
       "<div>\n",
       "<style scoped>\n",
       "    .dataframe tbody tr th:only-of-type {\n",
       "        vertical-align: middle;\n",
       "    }\n",
       "\n",
       "    .dataframe tbody tr th {\n",
       "        vertical-align: top;\n",
       "    }\n",
       "\n",
       "    .dataframe thead th {\n",
       "        text-align: right;\n",
       "    }\n",
       "</style>\n",
       "<table border=\"1\" class=\"dataframe\">\n",
       "  <thead>\n",
       "    <tr style=\"text-align: right;\">\n",
       "      <th></th>\n",
       "      <th>teamPosition</th>\n",
       "      <th>totalDamageDealtToChampions</th>\n",
       "      <th>totalDamageTaken</th>\n",
       "      <th>g_15</th>\n",
       "    </tr>\n",
       "  </thead>\n",
       "  <tbody>\n",
       "    <tr>\n",
       "      <th>0</th>\n",
       "      <td>TOP</td>\n",
       "      <td>11717</td>\n",
       "      <td>13003</td>\n",
       "      <td>5150</td>\n",
       "    </tr>\n",
       "    <tr>\n",
       "      <th>1</th>\n",
       "      <td>UTILITY</td>\n",
       "      <td>8601</td>\n",
       "      <td>10004</td>\n",
       "      <td>4575</td>\n",
       "    </tr>\n",
       "    <tr>\n",
       "      <th>2</th>\n",
       "      <td>MIDDLE</td>\n",
       "      <td>9277</td>\n",
       "      <td>11439</td>\n",
       "      <td>5336</td>\n",
       "    </tr>\n",
       "    <tr>\n",
       "      <th>3</th>\n",
       "      <td>BOTTOM</td>\n",
       "      <td>14508</td>\n",
       "      <td>7359</td>\n",
       "      <td>9438</td>\n",
       "    </tr>\n",
       "    <tr>\n",
       "      <th>4</th>\n",
       "      <td>JUNGLE</td>\n",
       "      <td>11772</td>\n",
       "      <td>20831</td>\n",
       "      <td>6310</td>\n",
       "    </tr>\n",
       "    <tr>\n",
       "      <th>...</th>\n",
       "      <td>...</td>\n",
       "      <td>...</td>\n",
       "      <td>...</td>\n",
       "      <td>...</td>\n",
       "    </tr>\n",
       "    <tr>\n",
       "      <th>64629</th>\n",
       "      <td>TOP</td>\n",
       "      <td>37261</td>\n",
       "      <td>25449</td>\n",
       "      <td>4300</td>\n",
       "    </tr>\n",
       "    <tr>\n",
       "      <th>64630</th>\n",
       "      <td>JUNGLE</td>\n",
       "      <td>46901</td>\n",
       "      <td>58628</td>\n",
       "      <td>6431</td>\n",
       "    </tr>\n",
       "    <tr>\n",
       "      <th>64631</th>\n",
       "      <td>MIDDLE</td>\n",
       "      <td>42942</td>\n",
       "      <td>43038</td>\n",
       "      <td>5382</td>\n",
       "    </tr>\n",
       "    <tr>\n",
       "      <th>64632</th>\n",
       "      <td>BOTTOM</td>\n",
       "      <td>41788</td>\n",
       "      <td>28824</td>\n",
       "      <td>5033</td>\n",
       "    </tr>\n",
       "    <tr>\n",
       "      <th>64633</th>\n",
       "      <td>UTILITY</td>\n",
       "      <td>13086</td>\n",
       "      <td>41863</td>\n",
       "      <td>3449</td>\n",
       "    </tr>\n",
       "  </tbody>\n",
       "</table>\n",
       "<p>59167 rows × 4 columns</p>\n",
       "</div>"
      ],
      "text/plain": [
       "      teamPosition  totalDamageDealtToChampions  totalDamageTaken  g_15\n",
       "0              TOP                        11717             13003  5150\n",
       "1          UTILITY                         8601             10004  4575\n",
       "2           MIDDLE                         9277             11439  5336\n",
       "3           BOTTOM                        14508              7359  9438\n",
       "4           JUNGLE                        11772             20831  6310\n",
       "...            ...                          ...               ...   ...\n",
       "64629          TOP                        37261             25449  4300\n",
       "64630       JUNGLE                        46901             58628  6431\n",
       "64631       MIDDLE                        42942             43038  5382\n",
       "64632       BOTTOM                        41788             28824  5033\n",
       "64633      UTILITY                        13086             41863  3449\n",
       "\n",
       "[59167 rows x 4 columns]"
      ]
     },
     "execution_count": 15,
     "metadata": {},
     "output_type": "execute_result"
    }
   ],
   "source": [
    "tmp"
   ]
  },
  {
   "cell_type": "code",
   "execution_count": 16,
   "id": "fe97a10d",
   "metadata": {},
   "outputs": [],
   "source": [
    "group_df = tmp.groupby('teamPosition').mean().round()"
   ]
  },
  {
   "cell_type": "code",
   "execution_count": null,
   "id": "86b1e99a",
   "metadata": {},
   "outputs": [],
   "source": []
  },
  {
   "cell_type": "code",
   "execution_count": 17,
   "id": "3e832c18",
   "metadata": {},
   "outputs": [
    {
     "data": {
      "text/plain": [
       "totalDamageDealtToChampions    21536.0\n",
       "totalDamageTaken               19168.0\n",
       "g_15                            5953.0\n",
       "Name: BOTTOM, dtype: float64"
      ]
     },
     "execution_count": 17,
     "metadata": {},
     "output_type": "execute_result"
    }
   ],
   "source": [
    "group_df.loc['BOTTOM']"
   ]
  },
  {
   "cell_type": "code",
   "execution_count": 18,
   "id": "e10f21d4",
   "metadata": {},
   "outputs": [
    {
     "data": {
      "text/plain": [
       "Text(0.5, 1.0, '파이차트')"
      ]
     },
     "execution_count": 18,
     "metadata": {},
     "output_type": "execute_result"
    },
    {
     "data": {
      "image/png": "[encoded data removed]",
      "text/plain": [
       "<Figure size 640x480 with 1 Axes>"
      ]
     },
     "metadata": {},
     "output_type": "display_data"
    }
   ],
   "source": [
    "plt.figure()\n",
    "plt.pie(group_df.loc['BOTTOM'], labels = ['딜량','받은 피해량','15분 골드'],shadow=False, autopct='%1.1f%%'\n",
    "       ,explode = (0,0,0,) ,colors = ['r','g','b'])\n",
    "plt.grid(True)\n",
    "plt.legend(loc=3)\n",
    "plt.title('파이차트')"
   ]
  },
  {
   "cell_type": "code",
   "execution_count": 19,
   "id": "af6d4cd7",
   "metadata": {},
   "outputs": [],
   "source": [
    "my_tmp = tmp[['teamPosition','totalDamageDealtToChampions']]"
   ]
  },
  {
   "cell_type": "code",
   "execution_count": 20,
   "id": "31493b1d",
   "metadata": {},
   "outputs": [
    {
     "data": {
      "text/html": [
       "<div>\n",
       "<style scoped>\n",
       "    .dataframe tbody tr th:only-of-type {\n",
       "        vertical-align: middle;\n",
       "    }\n",
       "\n",
       "    .dataframe tbody tr th {\n",
       "        vertical-align: top;\n",
       "    }\n",
       "\n",
       "    .dataframe thead th {\n",
       "        text-align: right;\n",
       "    }\n",
       "</style>\n",
       "<table border=\"1\" class=\"dataframe\">\n",
       "  <thead>\n",
       "    <tr style=\"text-align: right;\">\n",
       "      <th></th>\n",
       "      <th>teamPosition</th>\n",
       "      <th>totalDamageDealtToChampions</th>\n",
       "    </tr>\n",
       "  </thead>\n",
       "  <tbody>\n",
       "    <tr>\n",
       "      <th>0</th>\n",
       "      <td>TOP</td>\n",
       "      <td>11717</td>\n",
       "    </tr>\n",
       "    <tr>\n",
       "      <th>1</th>\n",
       "      <td>UTILITY</td>\n",
       "      <td>8601</td>\n",
       "    </tr>\n",
       "    <tr>\n",
       "      <th>2</th>\n",
       "      <td>MIDDLE</td>\n",
       "      <td>9277</td>\n",
       "    </tr>\n",
       "    <tr>\n",
       "      <th>3</th>\n",
       "      <td>BOTTOM</td>\n",
       "      <td>14508</td>\n",
       "    </tr>\n",
       "    <tr>\n",
       "      <th>4</th>\n",
       "      <td>JUNGLE</td>\n",
       "      <td>11772</td>\n",
       "    </tr>\n",
       "    <tr>\n",
       "      <th>...</th>\n",
       "      <td>...</td>\n",
       "      <td>...</td>\n",
       "    </tr>\n",
       "    <tr>\n",
       "      <th>64629</th>\n",
       "      <td>TOP</td>\n",
       "      <td>37261</td>\n",
       "    </tr>\n",
       "    <tr>\n",
       "      <th>64630</th>\n",
       "      <td>JUNGLE</td>\n",
       "      <td>46901</td>\n",
       "    </tr>\n",
       "    <tr>\n",
       "      <th>64631</th>\n",
       "      <td>MIDDLE</td>\n",
       "      <td>42942</td>\n",
       "    </tr>\n",
       "    <tr>\n",
       "      <th>64632</th>\n",
       "      <td>BOTTOM</td>\n",
       "      <td>41788</td>\n",
       "    </tr>\n",
       "    <tr>\n",
       "      <th>64633</th>\n",
       "      <td>UTILITY</td>\n",
       "      <td>13086</td>\n",
       "    </tr>\n",
       "  </tbody>\n",
       "</table>\n",
       "<p>59167 rows × 2 columns</p>\n",
       "</div>"
      ],
      "text/plain": [
       "      teamPosition  totalDamageDealtToChampions\n",
       "0              TOP                        11717\n",
       "1          UTILITY                         8601\n",
       "2           MIDDLE                         9277\n",
       "3           BOTTOM                        14508\n",
       "4           JUNGLE                        11772\n",
       "...            ...                          ...\n",
       "64629          TOP                        37261\n",
       "64630       JUNGLE                        46901\n",
       "64631       MIDDLE                        42942\n",
       "64632       BOTTOM                        41788\n",
       "64633      UTILITY                        13086\n",
       "\n",
       "[59167 rows x 2 columns]"
      ]
     },
     "execution_count": 20,
     "metadata": {},
     "output_type": "execute_result"
    }
   ],
   "source": [
    "my_tmp"
   ]
  },
  {
   "cell_type": "code",
   "execution_count": 21,
   "id": "bb420fa7",
   "metadata": {},
   "outputs": [],
   "source": [
    "my_tmp.set_index('teamPosition',inplace=True)"
   ]
  },
  {
   "cell_type": "code",
   "execution_count": 22,
   "id": "cb40447c",
   "metadata": {},
   "outputs": [
    {
     "ename": "SyntaxError",
     "evalue": "invalid syntax (2649197104.py, line 1)",
     "output_type": "error",
     "traceback": [
      "\u001b[1;36m  Cell \u001b[1;32mIn[22], line 1\u001b[1;36m\u001b[0m\n\u001b[1;33m    my_tmp.in\u001b[0m\n\u001b[1;37m           ^\u001b[0m\n\u001b[1;31mSyntaxError\u001b[0m\u001b[1;31m:\u001b[0m invalid syntax\n"
     ]
    }
   ],
   "source": [
    "my_tmp.in"
   ]
  },
  {
   "cell_type": "code",
   "execution_count": 23,
   "id": "851d59a6",
   "metadata": {},
   "outputs": [
    {
     "data": {
      "image/png": "[encoded data removed]",
      "text/plain": [
       "<Figure size 800x600 with 1 Axes>"
      ]
     },
     "metadata": {},
     "output_type": "display_data"
    }
   ],
   "source": [
    "plt.figure(figsize=(8,6))\n",
    "plt.hist(my_tmp, bins = len(my_tmp), label='전 라인',rwidth=0.9)\n",
    "\n",
    "plt.xlabel ('딜량', size = 14)\n",
    "plt.ylabel ('빈도수', size = 14)\n",
    "plt.title('딜량 히스토그램')\n",
    "plt.legend(loc = 'upper right')\n",
    "plt.grid(axis='y' ,alpha = 0.3)"
   ]
  },
  {
   "cell_type": "code",
   "execution_count": 24,
   "id": "95494e58",
   "metadata": {},
   "outputs": [],
   "source": [
    "import seaborn as sns"
   ]
  },
  {
   "cell_type": "code",
   "execution_count": 25,
   "id": "b7441e59",
   "metadata": {},
   "outputs": [],
   "source": [
    "url = 'http://openapi.seoul.go.kr:8088/(인증키)/xml/GetParkInfo/1/5/'"
   ]
  },
  {
   "cell_type": "code",
   "execution_count": 26,
   "id": "eb80bca9",
   "metadata": {},
   "outputs": [],
   "source": [
    "df = get_df(url)"
   ]
  },
  {
   "cell_type": "code",
   "execution_count": 27,
   "id": "d976cfa6",
   "metadata": {
    "scrolled": true
   },
   "outputs": [
    {
     "data": {
      "text/plain": [
       "Index(['PARKING_NAME', 'ADDR', 'PARKING_CODE', 'PARKING_TYPE',\n",
       "       'PARKING_TYPE_NM', 'OPERATION_RULE', 'OPERATION_RULE_NM', 'TEL',\n",
       "       'QUE_STATUS', 'QUE_STATUS_NM', 'CAPACITY', 'PAY_YN', 'PAY_NM',\n",
       "       'NIGHT_FREE_OPEN', 'NIGHT_FREE_OPEN_NM', 'WEEKDAY_BEGIN_TIME',\n",
       "       'WEEKDAY_END_TIME', 'WEEKEND_BEGIN_TIME', 'WEEKEND_END_TIME',\n",
       "       'HOLIDAY_BEGIN_TIME', 'HOLIDAY_END_TIME', 'SYNC_TIME',\n",
       "       'SATURDAY_PAY_YN', 'SATURDAY_PAY_NM', 'HOLIDAY_PAY_YN',\n",
       "       'HOLIDAY_PAY_NM', 'FULLTIME_MONTHLY', 'GRP_PARKNM', 'RATES',\n",
       "       'TIME_RATE', 'ADD_RATES', 'ADD_TIME_RATE', 'BUS_RATES', 'BUS_TIME_RATE',\n",
       "       'BUS_ADD_TIME_RATE', 'BUS_ADD_RATES', 'DAY_MAXIMUM', 'LAT', 'LNG'],\n",
       "      dtype='object')"
      ]
     },
     "execution_count": 27,
     "metadata": {},
     "output_type": "execute_result"
    }
   ],
   "source": [
    "df.columns"
   ]
  },
  {
   "cell_type": "code",
   "execution_count": 28,
   "id": "1c33aeb3",
   "metadata": {},
   "outputs": [],
   "source": [
    "tmp = df[['PARKING_NAME','CAPACITY','PAY_NM','SATURDAY_PAY_NM','HOLIDAY_PAY_NM','FULLTIME_MONTHLY'\n",
    "         ,'RATES','ADD_RATES']]"
   ]
  },
  {
   "cell_type": "code",
   "execution_count": 29,
   "id": "146eebee",
   "metadata": {},
   "outputs": [
    {
     "data": {
      "text/html": [
       "<div>\n",
       "<style scoped>\n",
       "    .dataframe tbody tr th:only-of-type {\n",
       "        vertical-align: middle;\n",
       "    }\n",
       "\n",
       "    .dataframe tbody tr th {\n",
       "        vertical-align: top;\n",
       "    }\n",
       "\n",
       "    .dataframe thead th {\n",
       "        text-align: right;\n",
       "    }\n",
       "</style>\n",
       "<table border=\"1\" class=\"dataframe\">\n",
       "  <thead>\n",
       "    <tr style=\"text-align: right;\">\n",
       "      <th></th>\n",
       "      <th>PARKING_NAME</th>\n",
       "      <th>CAPACITY</th>\n",
       "      <th>PAY_NM</th>\n",
       "      <th>SATURDAY_PAY_NM</th>\n",
       "      <th>HOLIDAY_PAY_NM</th>\n",
       "      <th>FULLTIME_MONTHLY</th>\n",
       "      <th>RATES</th>\n",
       "      <th>ADD_RATES</th>\n",
       "    </tr>\n",
       "  </thead>\n",
       "  <tbody>\n",
       "    <tr>\n",
       "      <th>0</th>\n",
       "      <td>초안산근린공원주차장(구)</td>\n",
       "      <td>71.0</td>\n",
       "      <td>유료</td>\n",
       "      <td>무료</td>\n",
       "      <td>무료</td>\n",
       "      <td>0</td>\n",
       "      <td>0.0</td>\n",
       "      <td>300.0</td>\n",
       "    </tr>\n",
       "    <tr>\n",
       "      <th>1</th>\n",
       "      <td>마들스타디움(근린공원)(구)</td>\n",
       "      <td>177.0</td>\n",
       "      <td>유료</td>\n",
       "      <td>무료</td>\n",
       "      <td>무료</td>\n",
       "      <td>100000</td>\n",
       "      <td>150.0</td>\n",
       "      <td>150.0</td>\n",
       "    </tr>\n",
       "    <tr>\n",
       "      <th>2</th>\n",
       "      <td>마장동(건물) 공영주차장(구)</td>\n",
       "      <td>54.0</td>\n",
       "      <td>유료</td>\n",
       "      <td>무료</td>\n",
       "      <td>무료</td>\n",
       "      <td>50000</td>\n",
       "      <td>50.0</td>\n",
       "      <td>50.0</td>\n",
       "    </tr>\n",
       "    <tr>\n",
       "      <th>3</th>\n",
       "      <td>영등포여고 공영(구)</td>\n",
       "      <td>98.0</td>\n",
       "      <td>유료</td>\n",
       "      <td>무료</td>\n",
       "      <td>무료</td>\n",
       "      <td>65000</td>\n",
       "      <td>50.0</td>\n",
       "      <td>50.0</td>\n",
       "    </tr>\n",
       "    <tr>\n",
       "      <th>4</th>\n",
       "      <td>당산근린공원 공영(구)</td>\n",
       "      <td>190.0</td>\n",
       "      <td>유료</td>\n",
       "      <td>무료</td>\n",
       "      <td>무료</td>\n",
       "      <td>100000</td>\n",
       "      <td>150.0</td>\n",
       "      <td>150.0</td>\n",
       "    </tr>\n",
       "    <tr>\n",
       "      <th>...</th>\n",
       "      <td>...</td>\n",
       "      <td>...</td>\n",
       "      <td>...</td>\n",
       "      <td>...</td>\n",
       "      <td>...</td>\n",
       "      <td>...</td>\n",
       "      <td>...</td>\n",
       "      <td>...</td>\n",
       "    </tr>\n",
       "    <tr>\n",
       "      <th>995</th>\n",
       "      <td>낙산성곽 버스전용 주차장(구)</td>\n",
       "      <td>1.0</td>\n",
       "      <td>무료</td>\n",
       "      <td>유료</td>\n",
       "      <td>유료</td>\n",
       "      <td>0</td>\n",
       "      <td>0.0</td>\n",
       "      <td>0.0</td>\n",
       "    </tr>\n",
       "    <tr>\n",
       "      <th>996</th>\n",
       "      <td>낙산성곽 버스전용 주차장(구)</td>\n",
       "      <td>1.0</td>\n",
       "      <td>무료</td>\n",
       "      <td>유료</td>\n",
       "      <td>유료</td>\n",
       "      <td>0</td>\n",
       "      <td>0.0</td>\n",
       "      <td>0.0</td>\n",
       "    </tr>\n",
       "    <tr>\n",
       "      <th>997</th>\n",
       "      <td>낙산성곽 버스전용 주차장(구)</td>\n",
       "      <td>1.0</td>\n",
       "      <td>무료</td>\n",
       "      <td>유료</td>\n",
       "      <td>유료</td>\n",
       "      <td>0</td>\n",
       "      <td>0.0</td>\n",
       "      <td>0.0</td>\n",
       "    </tr>\n",
       "    <tr>\n",
       "      <th>998</th>\n",
       "      <td>낙산성곽 버스전용 주차장(구)</td>\n",
       "      <td>1.0</td>\n",
       "      <td>무료</td>\n",
       "      <td>유료</td>\n",
       "      <td>유료</td>\n",
       "      <td>0</td>\n",
       "      <td>0.0</td>\n",
       "      <td>0.0</td>\n",
       "    </tr>\n",
       "    <tr>\n",
       "      <th>999</th>\n",
       "      <td>낙산성곽 버스전용 주차장(구)</td>\n",
       "      <td>1.0</td>\n",
       "      <td>무료</td>\n",
       "      <td>유료</td>\n",
       "      <td>유료</td>\n",
       "      <td>0</td>\n",
       "      <td>0.0</td>\n",
       "      <td>0.0</td>\n",
       "    </tr>\n",
       "  </tbody>\n",
       "</table>\n",
       "<p>1000 rows × 8 columns</p>\n",
       "</div>"
      ],
      "text/plain": [
       "         PARKING_NAME  CAPACITY PAY_NM SATURDAY_PAY_NM HOLIDAY_PAY_NM  \\\n",
       "0       초안산근린공원주차장(구)      71.0     유료              무료             무료   \n",
       "1     마들스타디움(근린공원)(구)     177.0     유료              무료             무료   \n",
       "2    마장동(건물) 공영주차장(구)      54.0     유료              무료             무료   \n",
       "3         영등포여고 공영(구)      98.0     유료              무료             무료   \n",
       "4        당산근린공원 공영(구)     190.0     유료              무료             무료   \n",
       "..                ...       ...    ...             ...            ...   \n",
       "995  낙산성곽 버스전용 주차장(구)       1.0     무료              유료             유료   \n",
       "996  낙산성곽 버스전용 주차장(구)       1.0     무료              유료             유료   \n",
       "997  낙산성곽 버스전용 주차장(구)       1.0     무료              유료             유료   \n",
       "998  낙산성곽 버스전용 주차장(구)       1.0     무료              유료             유료   \n",
       "999  낙산성곽 버스전용 주차장(구)       1.0     무료              유료             유료   \n",
       "\n",
       "    FULLTIME_MONTHLY  RATES  ADD_RATES  \n",
       "0                  0    0.0      300.0  \n",
       "1             100000  150.0      150.0  \n",
       "2              50000   50.0       50.0  \n",
       "3              65000   50.0       50.0  \n",
       "4             100000  150.0      150.0  \n",
       "..               ...    ...        ...  \n",
       "995                0    0.0        0.0  \n",
       "996                0    0.0        0.0  \n",
       "997                0    0.0        0.0  \n",
       "998                0    0.0        0.0  \n",
       "999                0    0.0        0.0  \n",
       "\n",
       "[1000 rows x 8 columns]"
      ]
     },
     "execution_count": 29,
     "metadata": {},
     "output_type": "execute_result"
    }
   ],
   "source": [
    "tmp"
   ]
  },
  {
   "cell_type": "code",
   "execution_count": 30,
   "id": "61765c2c",
   "metadata": {},
   "outputs": [],
   "source": [
    "tmp.columns = ['주차장명','주차수','유무료','주말유무료','공휴일유무료',\n",
    "                 '월정기권금액','기본요금','추가요금']"
   ]
  },
  {
   "cell_type": "code",
   "execution_count": 31,
   "id": "3d167c32",
   "metadata": {},
   "outputs": [
    {
     "data": {
      "text/html": [
       "<div>\n",
       "<style scoped>\n",
       "    .dataframe tbody tr th:only-of-type {\n",
       "        vertical-align: middle;\n",
       "    }\n",
       "\n",
       "    .dataframe tbody tr th {\n",
       "        vertical-align: top;\n",
       "    }\n",
       "\n",
       "    .dataframe thead th {\n",
       "        text-align: right;\n",
       "    }\n",
       "</style>\n",
       "<table border=\"1\" class=\"dataframe\">\n",
       "  <thead>\n",
       "    <tr style=\"text-align: right;\">\n",
       "      <th></th>\n",
       "      <th>주차장명</th>\n",
       "      <th>주차수</th>\n",
       "      <th>유무료</th>\n",
       "      <th>주말유무료</th>\n",
       "      <th>공휴일유무료</th>\n",
       "      <th>월정기권금액</th>\n",
       "      <th>기본요금</th>\n",
       "      <th>추가요금</th>\n",
       "    </tr>\n",
       "  </thead>\n",
       "  <tbody>\n",
       "    <tr>\n",
       "      <th>0</th>\n",
       "      <td>초안산근린공원주차장(구)</td>\n",
       "      <td>71.0</td>\n",
       "      <td>유료</td>\n",
       "      <td>무료</td>\n",
       "      <td>무료</td>\n",
       "      <td>0</td>\n",
       "      <td>0.0</td>\n",
       "      <td>300.0</td>\n",
       "    </tr>\n",
       "    <tr>\n",
       "      <th>1</th>\n",
       "      <td>마들스타디움(근린공원)(구)</td>\n",
       "      <td>177.0</td>\n",
       "      <td>유료</td>\n",
       "      <td>무료</td>\n",
       "      <td>무료</td>\n",
       "      <td>100000</td>\n",
       "      <td>150.0</td>\n",
       "      <td>150.0</td>\n",
       "    </tr>\n",
       "    <tr>\n",
       "      <th>2</th>\n",
       "      <td>마장동(건물) 공영주차장(구)</td>\n",
       "      <td>54.0</td>\n",
       "      <td>유료</td>\n",
       "      <td>무료</td>\n",
       "      <td>무료</td>\n",
       "      <td>50000</td>\n",
       "      <td>50.0</td>\n",
       "      <td>50.0</td>\n",
       "    </tr>\n",
       "    <tr>\n",
       "      <th>3</th>\n",
       "      <td>영등포여고 공영(구)</td>\n",
       "      <td>98.0</td>\n",
       "      <td>유료</td>\n",
       "      <td>무료</td>\n",
       "      <td>무료</td>\n",
       "      <td>65000</td>\n",
       "      <td>50.0</td>\n",
       "      <td>50.0</td>\n",
       "    </tr>\n",
       "    <tr>\n",
       "      <th>4</th>\n",
       "      <td>당산근린공원 공영(구)</td>\n",
       "      <td>190.0</td>\n",
       "      <td>유료</td>\n",
       "      <td>무료</td>\n",
       "      <td>무료</td>\n",
       "      <td>100000</td>\n",
       "      <td>150.0</td>\n",
       "      <td>150.0</td>\n",
       "    </tr>\n",
       "    <tr>\n",
       "      <th>...</th>\n",
       "      <td>...</td>\n",
       "      <td>...</td>\n",
       "      <td>...</td>\n",
       "      <td>...</td>\n",
       "      <td>...</td>\n",
       "      <td>...</td>\n",
       "      <td>...</td>\n",
       "      <td>...</td>\n",
       "    </tr>\n",
       "    <tr>\n",
       "      <th>995</th>\n",
       "      <td>낙산성곽 버스전용 주차장(구)</td>\n",
       "      <td>1.0</td>\n",
       "      <td>무료</td>\n",
       "      <td>유료</td>\n",
       "      <td>유료</td>\n",
       "      <td>0</td>\n",
       "      <td>0.0</td>\n",
       "      <td>0.0</td>\n",
       "    </tr>\n",
       "    <tr>\n",
       "      <th>996</th>\n",
       "      <td>낙산성곽 버스전용 주차장(구)</td>\n",
       "      <td>1.0</td>\n",
       "      <td>무료</td>\n",
       "      <td>유료</td>\n",
       "      <td>유료</td>\n",
       "      <td>0</td>\n",
       "      <td>0.0</td>\n",
       "      <td>0.0</td>\n",
       "    </tr>\n",
       "    <tr>\n",
       "      <th>997</th>\n",
       "      <td>낙산성곽 버스전용 주차장(구)</td>\n",
       "      <td>1.0</td>\n",
       "      <td>무료</td>\n",
       "      <td>유료</td>\n",
       "      <td>유료</td>\n",
       "      <td>0</td>\n",
       "      <td>0.0</td>\n",
       "      <td>0.0</td>\n",
       "    </tr>\n",
       "    <tr>\n",
       "      <th>998</th>\n",
       "      <td>낙산성곽 버스전용 주차장(구)</td>\n",
       "      <td>1.0</td>\n",
       "      <td>무료</td>\n",
       "      <td>유료</td>\n",
       "      <td>유료</td>\n",
       "      <td>0</td>\n",
       "      <td>0.0</td>\n",
       "      <td>0.0</td>\n",
       "    </tr>\n",
       "    <tr>\n",
       "      <th>999</th>\n",
       "      <td>낙산성곽 버스전용 주차장(구)</td>\n",
       "      <td>1.0</td>\n",
       "      <td>무료</td>\n",
       "      <td>유료</td>\n",
       "      <td>유료</td>\n",
       "      <td>0</td>\n",
       "      <td>0.0</td>\n",
       "      <td>0.0</td>\n",
       "    </tr>\n",
       "  </tbody>\n",
       "</table>\n",
       "<p>1000 rows × 8 columns</p>\n",
       "</div>"
      ],
      "text/plain": [
       "                 주차장명    주차수 유무료 주말유무료 공휴일유무료  월정기권금액   기본요금   추가요금\n",
       "0       초안산근린공원주차장(구)   71.0  유료    무료     무료       0    0.0  300.0\n",
       "1     마들스타디움(근린공원)(구)  177.0  유료    무료     무료  100000  150.0  150.0\n",
       "2    마장동(건물) 공영주차장(구)   54.0  유료    무료     무료   50000   50.0   50.0\n",
       "3         영등포여고 공영(구)   98.0  유료    무료     무료   65000   50.0   50.0\n",
       "4        당산근린공원 공영(구)  190.0  유료    무료     무료  100000  150.0  150.0\n",
       "..                ...    ...  ..   ...    ...     ...    ...    ...\n",
       "995  낙산성곽 버스전용 주차장(구)    1.0  무료    유료     유료       0    0.0    0.0\n",
       "996  낙산성곽 버스전용 주차장(구)    1.0  무료    유료     유료       0    0.0    0.0\n",
       "997  낙산성곽 버스전용 주차장(구)    1.0  무료    유료     유료       0    0.0    0.0\n",
       "998  낙산성곽 버스전용 주차장(구)    1.0  무료    유료     유료       0    0.0    0.0\n",
       "999  낙산성곽 버스전용 주차장(구)    1.0  무료    유료     유료       0    0.0    0.0\n",
       "\n",
       "[1000 rows x 8 columns]"
      ]
     },
     "execution_count": 31,
     "metadata": {},
     "output_type": "execute_result"
    }
   ],
   "source": [
    "tmp"
   ]
  },
  {
   "cell_type": "code",
   "execution_count": 32,
   "id": "92949227",
   "metadata": {},
   "outputs": [
    {
     "data": {
      "text/plain": [
       "<Axes: title={'center': '주차장 유무료'}, xlabel='유무료', ylabel='count'>"
      ]
     },
     "execution_count": 32,
     "metadata": {},
     "output_type": "execute_result"
    },
    {
     "data": {
      "image/png": "[encoded data removed]",
      "text/plain": [
       "<Figure size 640x480 with 1 Axes>"
      ]
     },
     "metadata": {},
     "output_type": "display_data"
    }
   ],
   "source": [
    "plt.figure()\n",
    "plt.title('주차장 유무료')\n",
    "sns.countplot(x = '유무료' ,data = tmp, order=[\"유료\",'무료'])"
   ]
  },
  {
   "cell_type": "code",
   "execution_count": 33,
   "id": "9b68b379",
   "metadata": {},
   "outputs": [
    {
     "data": {
      "text/plain": [
       "<Axes: title={'center': '기본요금 히스토그램'}, xlabel='기본요금', ylabel='Count'>"
      ]
     },
     "execution_count": 33,
     "metadata": {},
     "output_type": "execute_result"
    },
    {
     "data": {
      "image/png": "[encoded data removed]",
      "text/plain": [
       "<Figure size 640x480 with 1 Axes>"
      ]
     },
     "metadata": {},
     "output_type": "display_data"
    }
   ],
   "source": [
    "plt.figure()\n",
    "plt.title('기본요금 히스토그램')\n",
    "sns.histplot(x= tmp['기본요금'])"
   ]
  },
  {
   "cell_type": "code",
   "execution_count": 34,
   "id": "a46c72b6",
   "metadata": {},
   "outputs": [
    {
     "data": {
      "text/plain": [
       "<Axes: xlabel='기본요금', ylabel='추가요금'>"
      ]
     },
     "execution_count": 34,
     "metadata": {},
     "output_type": "execute_result"
    },
    {
     "data": {
      "image/png": "[encoded data removed]",
      "text/plain": [
       "<Figure size 640x480 with 1 Axes>"
      ]
     },
     "metadata": {},
     "output_type": "display_data"
    }
   ],
   "source": [
    "sns.histplot(x=tmp['기본요금'], y=tmp['추가요금'])"
   ]
  },
  {
   "cell_type": "code",
   "execution_count": 35,
   "id": "5c0423d7",
   "metadata": {},
   "outputs": [
    {
     "data": {
      "text/plain": [
       "<Axes: xlabel='기본요금', ylabel='Density'>"
      ]
     },
     "execution_count": 35,
     "metadata": {},
     "output_type": "execute_result"
    },
    {
     "data": {
      "image/png": "[encoded data removed]",
      "text/plain": [
       "<Figure size 640x480 with 1 Axes>"
      ]
     },
     "metadata": {},
     "output_type": "display_data"
    }
   ],
   "source": [
    "plt.figure()\n",
    "sns.kdeplot(x=tmp['기본요금'])"
   ]
  },
  {
   "cell_type": "code",
   "execution_count": 36,
   "id": "f55e7f65",
   "metadata": {},
   "outputs": [],
   "source": [
    "conn = connect_mysql()\n",
    "query = 'select * from lol_datas'\n",
    "lol_df = pd.DataFrame(sql_execute_dict(conn,query))"
   ]
  },
  {
   "cell_type": "code",
   "execution_count": 37,
   "id": "4ea6c75a",
   "metadata": {},
   "outputs": [
    {
     "data": {
      "text/plain": [
       "Index(['gameId', 'gameDuration', 'gameVersion', 'summonerName',\n",
       "       'summonerLevel', 'participantId', 'championName', 'champExperience',\n",
       "       'teamPosition', 'teamId', 'win', 'kills', 'deaths', 'assists',\n",
       "       'totalDamageDealtToChampions', 'totalDamageTaken', 'g_5', 'g_6', 'g_7',\n",
       "       'g_8', 'g_9', 'g_10', 'g_11', 'g_12', 'g_13', 'g_14', 'g_15', 'g_16',\n",
       "       'g_17', 'g_18', 'g_19', 'g_20', 'g_21', 'g_22', 'g_23', 'g_24', 'g_25'],\n",
       "      dtype='object')"
      ]
     },
     "execution_count": 37,
     "metadata": {},
     "output_type": "execute_result"
    }
   ],
   "source": [
    "lol_df.columns"
   ]
  },
  {
   "cell_type": "code",
   "execution_count": 38,
   "id": "2bf34b84",
   "metadata": {},
   "outputs": [],
   "source": [
    "lol_tmp = lol_df[['teamPosition','g_15','g_20']]"
   ]
  },
  {
   "cell_type": "code",
   "execution_count": 40,
   "id": "d8145b86",
   "metadata": {},
   "outputs": [],
   "source": [
    "lol_tmp = lol_tmp[lol_tmp.teamPosition == 'JUNGLE']"
   ]
  },
  {
   "cell_type": "code",
   "execution_count": 41,
   "id": "00383381",
   "metadata": {},
   "outputs": [],
   "source": [
    "lol_tmp.columns = '포지션','15분 골드', '20분 골드'"
   ]
  },
  {
   "cell_type": "code",
   "execution_count": 42,
   "id": "df4082fd",
   "metadata": {},
   "outputs": [
    {
     "data": {
      "text/plain": [
       "<matplotlib.legend.Legend at 0x1cf09dd8090>"
      ]
     },
     "execution_count": 42,
     "metadata": {},
     "output_type": "execute_result"
    },
    {
     "data": {
      "image/png": "[encoded data removed]",
      "text/plain": [
       "<Figure size 640x480 with 1 Axes>"
      ]
     },
     "metadata": {},
     "output_type": "display_data"
    }
   ],
   "source": [
    "plt.figure()\n",
    "plt.title('정글 시간당 골드')\n",
    "sns.kdeplot(x=lol_tmp['15분 골드'], label = '15분 골드')\n",
    "sns.kdeplot(x=lol_tmp['20분 골드'], label = '20분 골드')\n",
    "plt.legend(loc=4)"
   ]
  },
  {
   "cell_type": "code",
   "execution_count": 43,
   "id": "2a5bc55d",
   "metadata": {},
   "outputs": [
    {
     "data": {
      "text/plain": [
       "<Axes: title={'center': '정글 시간당 골드'}, xlabel='20분 골드', ylabel='Density'>"
      ]
     },
     "execution_count": 43,
     "metadata": {},
     "output_type": "execute_result"
    },
    {
     "data": {
      "image/png": "[encoded data removed]",
      "text/plain": [
       "<Figure size 640x480 with 1 Axes>"
      ]
     },
     "metadata": {},
     "output_type": "display_data"
    }
   ],
   "source": [
    "plt.figure()\n",
    "plt.title('정글 시간당 골드')\n",
    "sns.kdeplot(x=lol_tmp['20분 골드'])"
   ]
  },
  {
   "cell_type": "code",
   "execution_count": 44,
   "id": "6dcea456",
   "metadata": {},
   "outputs": [],
   "source": [
    "import seaborn as sns"
   ]
  },
  {
   "cell_type": "code",
   "execution_count": 45,
   "id": "89e3186c",
   "metadata": {},
   "outputs": [],
   "source": [
    "url = 'http://openapi.seoul.go.kr:8088/(인증키)/xml/GetParkInfo/1/5/'"
   ]
  },
  {
   "cell_type": "code",
   "execution_count": 46,
   "id": "7f443a5c",
   "metadata": {},
   "outputs": [],
   "source": [
    "df = get_df(url)"
   ]
  },
  {
   "cell_type": "code",
   "execution_count": 47,
   "id": "0c3b75e3",
   "metadata": {
    "scrolled": true
   },
   "outputs": [
    {
     "data": {
      "text/plain": [
       "Index(['PARKING_NAME', 'ADDR', 'PARKING_CODE', 'PARKING_TYPE',\n",
       "       'PARKING_TYPE_NM', 'OPERATION_RULE', 'OPERATION_RULE_NM', 'TEL',\n",
       "       'QUE_STATUS', 'QUE_STATUS_NM', 'CAPACITY', 'PAY_YN', 'PAY_NM',\n",
       "       'NIGHT_FREE_OPEN', 'NIGHT_FREE_OPEN_NM', 'WEEKDAY_BEGIN_TIME',\n",
       "       'WEEKDAY_END_TIME', 'WEEKEND_BEGIN_TIME', 'WEEKEND_END_TIME',\n",
       "       'HOLIDAY_BEGIN_TIME', 'HOLIDAY_END_TIME', 'SYNC_TIME',\n",
       "       'SATURDAY_PAY_YN', 'SATURDAY_PAY_NM', 'HOLIDAY_PAY_YN',\n",
       "       'HOLIDAY_PAY_NM', 'FULLTIME_MONTHLY', 'GRP_PARKNM', 'RATES',\n",
       "       'TIME_RATE', 'ADD_RATES', 'ADD_TIME_RATE', 'BUS_RATES', 'BUS_TIME_RATE',\n",
       "       'BUS_ADD_TIME_RATE', 'BUS_ADD_RATES', 'DAY_MAXIMUM', 'LAT', 'LNG'],\n",
       "      dtype='object')"
      ]
     },
     "execution_count": 47,
     "metadata": {},
     "output_type": "execute_result"
    }
   ],
   "source": [
    "df.columns"
   ]
  },
  {
   "cell_type": "code",
   "execution_count": 48,
   "id": "b0750971",
   "metadata": {},
   "outputs": [],
   "source": [
    "tmp = df[['PARKING_NAME','CAPACITY','PAY_NM','SATURDAY_PAY_NM','HOLIDAY_PAY_NM','FULLTIME_MONTHLY'\n",
    "         ,'RATES','ADD_RATES']]"
   ]
  },
  {
   "cell_type": "code",
   "execution_count": 49,
   "id": "a77c347e",
   "metadata": {},
   "outputs": [
    {
     "data": {
      "text/html": [
       "<div>\n",
       "<style scoped>\n",
       "    .dataframe tbody tr th:only-of-type {\n",
       "        vertical-align: middle;\n",
       "    }\n",
       "\n",
       "    .dataframe tbody tr th {\n",
       "        vertical-align: top;\n",
       "    }\n",
       "\n",
       "    .dataframe thead th {\n",
       "        text-align: right;\n",
       "    }\n",
       "</style>\n",
       "<table border=\"1\" class=\"dataframe\">\n",
       "  <thead>\n",
       "    <tr style=\"text-align: right;\">\n",
       "      <th></th>\n",
       "      <th>PARKING_NAME</th>\n",
       "      <th>CAPACITY</th>\n",
       "      <th>PAY_NM</th>\n",
       "      <th>SATURDAY_PAY_NM</th>\n",
       "      <th>HOLIDAY_PAY_NM</th>\n",
       "      <th>FULLTIME_MONTHLY</th>\n",
       "      <th>RATES</th>\n",
       "      <th>ADD_RATES</th>\n",
       "    </tr>\n",
       "  </thead>\n",
       "  <tbody>\n",
       "    <tr>\n",
       "      <th>0</th>\n",
       "      <td>초안산근린공원주차장(구)</td>\n",
       "      <td>71.0</td>\n",
       "      <td>유료</td>\n",
       "      <td>무료</td>\n",
       "      <td>무료</td>\n",
       "      <td>0</td>\n",
       "      <td>0.0</td>\n",
       "      <td>300.0</td>\n",
       "    </tr>\n",
       "    <tr>\n",
       "      <th>1</th>\n",
       "      <td>마들스타디움(근린공원)(구)</td>\n",
       "      <td>177.0</td>\n",
       "      <td>유료</td>\n",
       "      <td>무료</td>\n",
       "      <td>무료</td>\n",
       "      <td>100000</td>\n",
       "      <td>150.0</td>\n",
       "      <td>150.0</td>\n",
       "    </tr>\n",
       "    <tr>\n",
       "      <th>2</th>\n",
       "      <td>마장동(건물) 공영주차장(구)</td>\n",
       "      <td>54.0</td>\n",
       "      <td>유료</td>\n",
       "      <td>무료</td>\n",
       "      <td>무료</td>\n",
       "      <td>50000</td>\n",
       "      <td>50.0</td>\n",
       "      <td>50.0</td>\n",
       "    </tr>\n",
       "    <tr>\n",
       "      <th>3</th>\n",
       "      <td>영등포여고 공영(구)</td>\n",
       "      <td>98.0</td>\n",
       "      <td>유료</td>\n",
       "      <td>무료</td>\n",
       "      <td>무료</td>\n",
       "      <td>65000</td>\n",
       "      <td>50.0</td>\n",
       "      <td>50.0</td>\n",
       "    </tr>\n",
       "    <tr>\n",
       "      <th>4</th>\n",
       "      <td>당산근린공원 공영(구)</td>\n",
       "      <td>190.0</td>\n",
       "      <td>유료</td>\n",
       "      <td>무료</td>\n",
       "      <td>무료</td>\n",
       "      <td>100000</td>\n",
       "      <td>150.0</td>\n",
       "      <td>150.0</td>\n",
       "    </tr>\n",
       "    <tr>\n",
       "      <th>...</th>\n",
       "      <td>...</td>\n",
       "      <td>...</td>\n",
       "      <td>...</td>\n",
       "      <td>...</td>\n",
       "      <td>...</td>\n",
       "      <td>...</td>\n",
       "      <td>...</td>\n",
       "      <td>...</td>\n",
       "    </tr>\n",
       "    <tr>\n",
       "      <th>995</th>\n",
       "      <td>낙산성곽 버스전용 주차장(구)</td>\n",
       "      <td>1.0</td>\n",
       "      <td>무료</td>\n",
       "      <td>유료</td>\n",
       "      <td>유료</td>\n",
       "      <td>0</td>\n",
       "      <td>0.0</td>\n",
       "      <td>0.0</td>\n",
       "    </tr>\n",
       "    <tr>\n",
       "      <th>996</th>\n",
       "      <td>낙산성곽 버스전용 주차장(구)</td>\n",
       "      <td>1.0</td>\n",
       "      <td>무료</td>\n",
       "      <td>유료</td>\n",
       "      <td>유료</td>\n",
       "      <td>0</td>\n",
       "      <td>0.0</td>\n",
       "      <td>0.0</td>\n",
       "    </tr>\n",
       "    <tr>\n",
       "      <th>997</th>\n",
       "      <td>낙산성곽 버스전용 주차장(구)</td>\n",
       "      <td>1.0</td>\n",
       "      <td>무료</td>\n",
       "      <td>유료</td>\n",
       "      <td>유료</td>\n",
       "      <td>0</td>\n",
       "      <td>0.0</td>\n",
       "      <td>0.0</td>\n",
       "    </tr>\n",
       "    <tr>\n",
       "      <th>998</th>\n",
       "      <td>낙산성곽 버스전용 주차장(구)</td>\n",
       "      <td>1.0</td>\n",
       "      <td>무료</td>\n",
       "      <td>유료</td>\n",
       "      <td>유료</td>\n",
       "      <td>0</td>\n",
       "      <td>0.0</td>\n",
       "      <td>0.0</td>\n",
       "    </tr>\n",
       "    <tr>\n",
       "      <th>999</th>\n",
       "      <td>낙산성곽 버스전용 주차장(구)</td>\n",
       "      <td>1.0</td>\n",
       "      <td>무료</td>\n",
       "      <td>유료</td>\n",
       "      <td>유료</td>\n",
       "      <td>0</td>\n",
       "      <td>0.0</td>\n",
       "      <td>0.0</td>\n",
       "    </tr>\n",
       "  </tbody>\n",
       "</table>\n",
       "<p>1000 rows × 8 columns</p>\n",
       "</div>"
      ],
      "text/plain": [
       "         PARKING_NAME  CAPACITY PAY_NM SATURDAY_PAY_NM HOLIDAY_PAY_NM  \\\n",
       "0       초안산근린공원주차장(구)      71.0     유료              무료             무료   \n",
       "1     마들스타디움(근린공원)(구)     177.0     유료              무료             무료   \n",
       "2    마장동(건물) 공영주차장(구)      54.0     유료              무료             무료   \n",
       "3         영등포여고 공영(구)      98.0     유료              무료             무료   \n",
       "4        당산근린공원 공영(구)     190.0     유료              무료             무료   \n",
       "..                ...       ...    ...             ...            ...   \n",
       "995  낙산성곽 버스전용 주차장(구)       1.0     무료              유료             유료   \n",
       "996  낙산성곽 버스전용 주차장(구)       1.0     무료              유료             유료   \n",
       "997  낙산성곽 버스전용 주차장(구)       1.0     무료              유료             유료   \n",
       "998  낙산성곽 버스전용 주차장(구)       1.0     무료              유료             유료   \n",
       "999  낙산성곽 버스전용 주차장(구)       1.0     무료              유료             유료   \n",
       "\n",
       "    FULLTIME_MONTHLY  RATES  ADD_RATES  \n",
       "0                  0    0.0      300.0  \n",
       "1             100000  150.0      150.0  \n",
       "2              50000   50.0       50.0  \n",
       "3              65000   50.0       50.0  \n",
       "4             100000  150.0      150.0  \n",
       "..               ...    ...        ...  \n",
       "995                0    0.0        0.0  \n",
       "996                0    0.0        0.0  \n",
       "997                0    0.0        0.0  \n",
       "998                0    0.0        0.0  \n",
       "999                0    0.0        0.0  \n",
       "\n",
       "[1000 rows x 8 columns]"
      ]
     },
     "execution_count": 49,
     "metadata": {},
     "output_type": "execute_result"
    }
   ],
   "source": [
    "tmp"
   ]
  },
  {
   "cell_type": "code",
   "execution_count": 50,
   "id": "7acf70fd",
   "metadata": {},
   "outputs": [],
   "source": [
    "tmp.columns = ['주차장명','주차수','유무료','주말유무료','공휴일유무료',\n",
    "                 '월정기권금액','기본요금','추가요금']"
   ]
  },
  {
   "cell_type": "code",
   "execution_count": 51,
   "id": "d7d53621",
   "metadata": {},
   "outputs": [
    {
     "name": "stderr",
     "output_type": "stream",
     "text": [
      "C:\\Users\\thdxo\\anaconda3\\Lib\\site-packages\\seaborn\\axisgrid.py:118: UserWarning: The figure layout has changed to tight\n",
      "  self._figure.tight_layout(*args, **kwargs)\n"
     ]
    },
    {
     "data": {
      "text/plain": [
       "<seaborn.axisgrid.FacetGrid at 0x1cf2dd8fc10>"
      ]
     },
     "execution_count": 51,
     "metadata": {},
     "output_type": "execute_result"
    },
    {
     "data": {
      "image/png": "[encoded data removed]",
      "text/plain": [
       "<Figure size 500x500 with 1 Axes>"
      ]
     },
     "metadata": {},
     "output_type": "display_data"
    }
   ],
   "source": [
    "sns.displot(x= tmp['추가요금'], kind = 'ecdf')"
   ]
  },
  {
   "cell_type": "code",
   "execution_count": 52,
   "id": "cb2bd1ba",
   "metadata": {},
   "outputs": [
    {
     "data": {
      "text/plain": [
       "<Axes: xlabel='기본요금', ylabel='Density'>"
      ]
     },
     "execution_count": 52,
     "metadata": {},
     "output_type": "execute_result"
    },
    {
     "data": {
      "image/png": "[encoded data removed]",
      "text/plain": [
       "<Figure size 640x480 with 1 Axes>"
      ]
     },
     "metadata": {},
     "output_type": "display_data"
    }
   ],
   "source": [
    "sns.kdeplot(x=tmp['기본요금'])\n",
    "sns.rugplot(x=tmp['기본요금'])"
   ]
  },
  {
   "cell_type": "code",
   "execution_count": 53,
   "id": "5fbf1ae0",
   "metadata": {},
   "outputs": [
    {
     "data": {
      "text/plain": [
       "<Axes: xlabel='주말유무료', ylabel='기본요금'>"
      ]
     },
     "execution_count": 53,
     "metadata": {},
     "output_type": "execute_result"
    },
    {
     "data": {
      "image/png": "[encoded data removed]",
      "text/plain": [
       "<Figure size 640x480 with 1 Axes>"
      ]
     },
     "metadata": {},
     "output_type": "display_data"
    }
   ],
   "source": [
    "sns.barplot(x=tmp['주말유무료'],y=tmp['기본요금'])"
   ]
  },
  {
   "cell_type": "code",
   "execution_count": 54,
   "id": "81e90a37",
   "metadata": {},
   "outputs": [
    {
     "data": {
      "text/plain": [
       "<Axes: xlabel='주말유무료', ylabel='count'>"
      ]
     },
     "execution_count": 54,
     "metadata": {},
     "output_type": "execute_result"
    },
    {
     "data": {
      "image/png": "[encoded data removed]",
      "text/plain": [
       "<Figure size 640x480 with 1 Axes>"
      ]
     },
     "metadata": {},
     "output_type": "display_data"
    }
   ],
   "source": [
    "sns.countplot(x=tmp['주말유무료'])"
   ]
  },
  {
   "cell_type": "code",
   "execution_count": 55,
   "id": "f6d72143",
   "metadata": {},
   "outputs": [
    {
     "data": {
      "text/plain": [
       "<Axes: xlabel='주말유무료', ylabel='기본요금'>"
      ]
     },
     "execution_count": 55,
     "metadata": {},
     "output_type": "execute_result"
    },
    {
     "data": {
      "image/png": "[encoded data removed]",
      "text/plain": [
       "<Figure size 640x480 with 1 Axes>"
      ]
     },
     "metadata": {},
     "output_type": "display_data"
    }
   ],
   "source": [
    "sns.violinplot(x=tmp['주말유무료'], y=tmp['기본요금'])"
   ]
  },
  {
   "cell_type": "code",
   "execution_count": 56,
   "id": "04d7a956",
   "metadata": {},
   "outputs": [
    {
     "data": {
      "text/plain": [
       "<Axes: xlabel='주말유무료', ylabel='기본요금'>"
      ]
     },
     "execution_count": 56,
     "metadata": {},
     "output_type": "execute_result"
    },
    {
     "data": {
      "image/png": "[encoded data removed]",
      "text/plain": [
       "<Figure size 640x480 with 1 Axes>"
      ]
     },
     "metadata": {},
     "output_type": "display_data"
    }
   ],
   "source": [
    "sns.stripplot(x = tmp['주말유무료'] , y = tmp['기본요금'])"
   ]
  },
  {
   "cell_type": "code",
   "execution_count": 57,
   "id": "62bb9e47",
   "metadata": {},
   "outputs": [],
   "source": [
    "tmp.set_index('주차장명',inplace=True)"
   ]
  },
  {
   "cell_type": "code",
   "execution_count": 58,
   "id": "b89ab412",
   "metadata": {},
   "outputs": [],
   "source": [
    "test = tmp[['주차수','기본요금','추가요금']]"
   ]
  },
  {
   "cell_type": "code",
   "execution_count": 59,
   "id": "998c6ddf",
   "metadata": {},
   "outputs": [
    {
     "data": {
      "text/plain": [
       "<Axes: >"
      ]
     },
     "execution_count": 59,
     "metadata": {},
     "output_type": "execute_result"
    },
    {
     "data": {
      "image/png": "[encoded data removed]",
      "text/plain": [
       "<Figure size 640x480 with 2 Axes>"
      ]
     },
     "metadata": {},
     "output_type": "display_data"
    }
   ],
   "source": [
    "sns.heatmap(test.corr(), annot=True,cmap='viridis')"
   ]
  },
  {
   "cell_type": "code",
   "execution_count": 60,
   "id": "129d6c4a",
   "metadata": {},
   "outputs": [
    {
     "data": {
      "text/plain": [
       "<seaborn.matrix.ClusterGrid at 0x1cf31766890>"
      ]
     },
     "execution_count": 60,
     "metadata": {},
     "output_type": "execute_result"
    },
    {
     "data": {
      "image/png": "[encoded data removed]",
      "text/plain": [
       "<Figure size 1000x1000 with 4 Axes>"
      ]
     },
     "metadata": {},
     "output_type": "display_data"
    }
   ],
   "source": [
    "sns.clustermap(test.corr(), annot=True,cmap='viridis')"
   ]
  },
  {
   "cell_type": "code",
   "execution_count": 61,
   "id": "4875a1d7",
   "metadata": {},
   "outputs": [
    {
     "name": "stderr",
     "output_type": "stream",
     "text": [
      "C:\\Users\\thdxo\\anaconda3\\Lib\\site-packages\\seaborn\\axisgrid.py:118: UserWarning: The figure layout has changed to tight\n",
      "  self._figure.tight_layout(*args, **kwargs)\n"
     ]
    },
    {
     "data": {
      "text/plain": [
       "<seaborn.axisgrid.FacetGrid at 0x1cf31cc7690>"
      ]
     },
     "execution_count": 61,
     "metadata": {},
     "output_type": "execute_result"
    },
    {
     "data": {
      "image/png": "[encoded data removed]",
      "text/plain": [
       "<Figure size 600x600 with 4 Axes>"
      ]
     },
     "metadata": {},
     "output_type": "display_data"
    }
   ],
   "source": [
    "sns.FacetGrid(tmp,col='주말유무료',row='공휴일유무료').map(plt.hist,'기본요금')"
   ]
  },
  {
   "cell_type": "code",
   "execution_count": 62,
   "id": "43449295",
   "metadata": {},
   "outputs": [
    {
     "data": {
      "text/plain": [
       "<seaborn.axisgrid.JointGrid at 0x1cf31d1f150>"
      ]
     },
     "execution_count": 62,
     "metadata": {},
     "output_type": "execute_result"
    },
    {
     "data": {
      "image/png": "[encoded data removed]",
      "text/plain": [
       "<Figure size 600x600 with 3 Axes>"
      ]
     },
     "metadata": {},
     "output_type": "display_data"
    }
   ],
   "source": [
    "sns.jointplot(x=tmp['기본요금'],y=tmp['추가요금'],kind = 'scatter')"
   ]
  },
  {
   "cell_type": "code",
   "execution_count": null,
   "id": "fc4b960a",
   "metadata": {},
   "outputs": [],
   "source": []
  },
  {
   "cell_type": "code",
   "execution_count": 63,
   "id": "6f9cb16c",
   "metadata": {},
   "outputs": [
    {
     "data": {
      "text/plain": [
       "<Axes: xlabel='기본요금', ylabel='추가요금'>"
      ]
     },
     "execution_count": 63,
     "metadata": {},
     "output_type": "execute_result"
    },
    {
     "data": {
      "image/png": "[encoded data removed]",
      "text/plain": [
       "<Figure size 640x480 with 1 Axes>"
      ]
     },
     "metadata": {},
     "output_type": "display_data"
    }
   ],
   "source": [
    "sns.regplot(x='기본요금',y='추가요금',data = tmp)"
   ]
  },
  {
   "cell_type": "code",
   "execution_count": 64,
   "id": "22ff3b79",
   "metadata": {},
   "outputs": [
    {
     "name": "stderr",
     "output_type": "stream",
     "text": [
      "C:\\Users\\thdxo\\anaconda3\\Lib\\site-packages\\seaborn\\axisgrid.py:118: UserWarning: The figure layout has changed to tight\n",
      "  self._figure.tight_layout(*args, **kwargs)\n"
     ]
    },
    {
     "data": {
      "text/plain": [
       "<seaborn.axisgrid.FacetGrid at 0x1cf34e4ca90>"
      ]
     },
     "execution_count": 64,
     "metadata": {},
     "output_type": "execute_result"
    },
    {
     "data": {
      "image/png": "[encoded data removed]",
      "text/plain": [
       "<Figure size 580.486x500 with 1 Axes>"
      ]
     },
     "metadata": {},
     "output_type": "display_data"
    }
   ],
   "source": [
    "sns.lmplot(x='기본요금',y='추가요금',data = tmp, hue = '주말유무료')"
   ]
  },
  {
   "cell_type": "code",
   "execution_count": 65,
   "id": "a730ddf3",
   "metadata": {},
   "outputs": [
    {
     "name": "stderr",
     "output_type": "stream",
     "text": [
      "C:\\Users\\thdxo\\anaconda3\\Lib\\site-packages\\seaborn\\axisgrid.py:118: UserWarning: The figure layout has changed to tight\n",
      "  self._figure.tight_layout(*args, **kwargs)\n"
     ]
    },
    {
     "data": {
      "text/plain": [
       "<seaborn.axisgrid.FacetGrid at 0x1cf34ee69d0>"
      ]
     },
     "execution_count": 65,
     "metadata": {},
     "output_type": "execute_result"
    },
    {
     "data": {
      "image/png": "[encoded data removed]",
      "text/plain": [
       "<Figure size 1082x1000 with 4 Axes>"
      ]
     },
     "metadata": {},
     "output_type": "display_data"
    }
   ],
   "source": [
    "sns.relplot(x='주차수',y='추가요금',hue = '기본요금',row='주말유무료',col='공휴일유무료',data=tmp)"
   ]
  },
  {
   "cell_type": "code",
   "execution_count": 66,
   "id": "478af282",
   "metadata": {},
   "outputs": [
    {
     "data": {
      "text/html": [
       "        <script type=\"text/javascript\">\n",
       "        window.PlotlyConfig = {MathJaxConfig: 'local'};\n",
       "        if (window.MathJax && window.MathJax.Hub && window.MathJax.Hub.Config) {window.MathJax.Hub.Config({SVG: {font: \"STIX-Web\"}});}\n",
       "        if (typeof require !== 'undefined') {\n",
       "        require.undef(\"plotly\");\n",
       "        requirejs.config({\n",
       "            paths: {\n",
       "                'plotly': ['https://cdn.plot.ly/plotly-2.12.1.min']\n",
       "            }\n",
       "        });\n",
       "        require(['plotly'], function(Plotly) {\n",
       "            window._Plotly = Plotly;\n",
       "        });\n",
       "        }\n",
       "        </script>\n",
       "        "
      ]
     },
     "metadata": {},
     "output_type": "display_data"
    }
   ],
   "source": [
    "import plotly\n",
    "import plotly.graph_objs as go\n",
    "plotly.offline.init_notebook_mode(connected=True)"
   ]
  },
  {
   "cell_type": "code",
   "execution_count": 67,
   "id": "9923ddce",
   "metadata": {},
   "outputs": [],
   "source": [
    "url = \"https://api.upbit.com/v1/candles/days\"\n",
    "coin_lst = ['KRW-BTC','KRW-ETH','KRW-XRP']\n",
    "headers = {\"Accept\": \"application/json\"}\n",
    "df = pd.DataFrame()\n",
    "for c in coin_lst:\n",
    "    querystring = {\"market\":c, \"count\":\"200\"}\n",
    "    response = requests.request(\"GET\", url, headers=headers, params=querystring)\n",
    "    df = pd.concat([df,pd.DataFrame(response.json())])"
   ]
  },
  {
   "cell_type": "code",
   "execution_count": 68,
   "id": "36279106",
   "metadata": {},
   "outputs": [
    {
     "data": {
      "text/html": [
       "<div>\n",
       "<style scoped>\n",
       "    .dataframe tbody tr th:only-of-type {\n",
       "        vertical-align: middle;\n",
       "    }\n",
       "\n",
       "    .dataframe tbody tr th {\n",
       "        vertical-align: top;\n",
       "    }\n",
       "\n",
       "    .dataframe thead th {\n",
       "        text-align: right;\n",
       "    }\n",
       "</style>\n",
       "<table border=\"1\" class=\"dataframe\">\n",
       "  <thead>\n",
       "    <tr style=\"text-align: right;\">\n",
       "      <th></th>\n",
       "      <th>market</th>\n",
       "      <th>candle_date_time_utc</th>\n",
       "      <th>candle_date_time_kst</th>\n",
       "      <th>opening_price</th>\n",
       "      <th>high_price</th>\n",
       "      <th>low_price</th>\n",
       "      <th>trade_price</th>\n",
       "      <th>timestamp</th>\n",
       "      <th>candle_acc_trade_price</th>\n",
       "      <th>candle_acc_trade_volume</th>\n",
       "      <th>prev_closing_price</th>\n",
       "      <th>change_price</th>\n",
       "      <th>change_rate</th>\n",
       "    </tr>\n",
       "  </thead>\n",
       "  <tbody>\n",
       "    <tr>\n",
       "      <th>0</th>\n",
       "      <td>KRW-BTC</td>\n",
       "      <td>2023-12-29T00:00:00</td>\n",
       "      <td>2023-12-29T09:00:00</td>\n",
       "      <td>56904000.0</td>\n",
       "      <td>57095000.0</td>\n",
       "      <td>56447000.0</td>\n",
       "      <td>56661000.0</td>\n",
       "      <td>1703812209216</td>\n",
       "      <td>2.125216e+10</td>\n",
       "      <td>3.743770e+02</td>\n",
       "      <td>56907000.0</td>\n",
       "      <td>-246000.0</td>\n",
       "      <td>-0.004323</td>\n",
       "    </tr>\n",
       "    <tr>\n",
       "      <th>1</th>\n",
       "      <td>KRW-BTC</td>\n",
       "      <td>2023-12-28T00:00:00</td>\n",
       "      <td>2023-12-28T09:00:00</td>\n",
       "      <td>57920000.0</td>\n",
       "      <td>58468000.0</td>\n",
       "      <td>56700000.0</td>\n",
       "      <td>56907000.0</td>\n",
       "      <td>1703807999951</td>\n",
       "      <td>2.269573e+11</td>\n",
       "      <td>3.958817e+03</td>\n",
       "      <td>57920000.0</td>\n",
       "      <td>-1013000.0</td>\n",
       "      <td>-0.017490</td>\n",
       "    </tr>\n",
       "    <tr>\n",
       "      <th>2</th>\n",
       "      <td>KRW-BTC</td>\n",
       "      <td>2023-12-27T00:00:00</td>\n",
       "      <td>2023-12-27T09:00:00</td>\n",
       "      <td>57032000.0</td>\n",
       "      <td>58212000.0</td>\n",
       "      <td>56349000.0</td>\n",
       "      <td>57920000.0</td>\n",
       "      <td>1703721598803</td>\n",
       "      <td>2.270096e+11</td>\n",
       "      <td>3.965843e+03</td>\n",
       "      <td>57032000.0</td>\n",
       "      <td>888000.0</td>\n",
       "      <td>0.015570</td>\n",
       "    </tr>\n",
       "    <tr>\n",
       "      <th>3</th>\n",
       "      <td>KRW-BTC</td>\n",
       "      <td>2023-12-26T00:00:00</td>\n",
       "      <td>2023-12-26T09:00:00</td>\n",
       "      <td>58042000.0</td>\n",
       "      <td>58140000.0</td>\n",
       "      <td>56349000.0</td>\n",
       "      <td>57032000.0</td>\n",
       "      <td>1703635199803</td>\n",
       "      <td>2.708228e+11</td>\n",
       "      <td>4.735230e+03</td>\n",
       "      <td>58042000.0</td>\n",
       "      <td>-1010000.0</td>\n",
       "      <td>-0.017401</td>\n",
       "    </tr>\n",
       "    <tr>\n",
       "      <th>4</th>\n",
       "      <td>KRW-BTC</td>\n",
       "      <td>2023-12-25T00:00:00</td>\n",
       "      <td>2023-12-25T09:00:00</td>\n",
       "      <td>58002000.0</td>\n",
       "      <td>58659000.0</td>\n",
       "      <td>57464000.0</td>\n",
       "      <td>58042000.0</td>\n",
       "      <td>1703548799890</td>\n",
       "      <td>2.721330e+11</td>\n",
       "      <td>4.687209e+03</td>\n",
       "      <td>58002000.0</td>\n",
       "      <td>40000.0</td>\n",
       "      <td>0.000690</td>\n",
       "    </tr>\n",
       "    <tr>\n",
       "      <th>...</th>\n",
       "      <td>...</td>\n",
       "      <td>...</td>\n",
       "      <td>...</td>\n",
       "      <td>...</td>\n",
       "      <td>...</td>\n",
       "      <td>...</td>\n",
       "      <td>...</td>\n",
       "      <td>...</td>\n",
       "      <td>...</td>\n",
       "      <td>...</td>\n",
       "      <td>...</td>\n",
       "      <td>...</td>\n",
       "      <td>...</td>\n",
       "    </tr>\n",
       "    <tr>\n",
       "      <th>195</th>\n",
       "      <td>KRW-XRP</td>\n",
       "      <td>2023-06-17T00:00:00</td>\n",
       "      <td>2023-06-17T09:00:00</td>\n",
       "      <td>624.0</td>\n",
       "      <td>637.0</td>\n",
       "      <td>615.0</td>\n",
       "      <td>629.0</td>\n",
       "      <td>1687046399585</td>\n",
       "      <td>9.285423e+10</td>\n",
       "      <td>1.480452e+08</td>\n",
       "      <td>624.0</td>\n",
       "      <td>5.0</td>\n",
       "      <td>0.008013</td>\n",
       "    </tr>\n",
       "    <tr>\n",
       "      <th>196</th>\n",
       "      <td>KRW-XRP</td>\n",
       "      <td>2023-06-16T00:00:00</td>\n",
       "      <td>2023-06-16T09:00:00</td>\n",
       "      <td>627.0</td>\n",
       "      <td>630.0</td>\n",
       "      <td>602.0</td>\n",
       "      <td>624.0</td>\n",
       "      <td>1686959997094</td>\n",
       "      <td>1.610391e+11</td>\n",
       "      <td>2.616515e+08</td>\n",
       "      <td>627.0</td>\n",
       "      <td>-3.0</td>\n",
       "      <td>-0.004785</td>\n",
       "    </tr>\n",
       "    <tr>\n",
       "      <th>197</th>\n",
       "      <td>KRW-XRP</td>\n",
       "      <td>2023-06-15T00:00:00</td>\n",
       "      <td>2023-06-15T09:00:00</td>\n",
       "      <td>630.0</td>\n",
       "      <td>638.0</td>\n",
       "      <td>612.0</td>\n",
       "      <td>627.0</td>\n",
       "      <td>1686873599460</td>\n",
       "      <td>1.663204e+11</td>\n",
       "      <td>2.660830e+08</td>\n",
       "      <td>631.0</td>\n",
       "      <td>-4.0</td>\n",
       "      <td>-0.006339</td>\n",
       "    </tr>\n",
       "    <tr>\n",
       "      <th>198</th>\n",
       "      <td>KRW-XRP</td>\n",
       "      <td>2023-06-14T00:00:00</td>\n",
       "      <td>2023-06-14T09:00:00</td>\n",
       "      <td>678.0</td>\n",
       "      <td>681.0</td>\n",
       "      <td>609.0</td>\n",
       "      <td>631.0</td>\n",
       "      <td>1686787200001</td>\n",
       "      <td>2.592919e+11</td>\n",
       "      <td>3.998507e+08</td>\n",
       "      <td>679.0</td>\n",
       "      <td>-48.0</td>\n",
       "      <td>-0.070692</td>\n",
       "    </tr>\n",
       "    <tr>\n",
       "      <th>199</th>\n",
       "      <td>KRW-XRP</td>\n",
       "      <td>2023-06-13T00:00:00</td>\n",
       "      <td>2023-06-13T09:00:00</td>\n",
       "      <td>689.0</td>\n",
       "      <td>735.0</td>\n",
       "      <td>664.0</td>\n",
       "      <td>679.0</td>\n",
       "      <td>1686700799794</td>\n",
       "      <td>4.851964e+11</td>\n",
       "      <td>6.910409e+08</td>\n",
       "      <td>689.0</td>\n",
       "      <td>-10.0</td>\n",
       "      <td>-0.014514</td>\n",
       "    </tr>\n",
       "  </tbody>\n",
       "</table>\n",
       "<p>600 rows × 13 columns</p>\n",
       "</div>"
      ],
      "text/plain": [
       "      market candle_date_time_utc candle_date_time_kst  opening_price  \\\n",
       "0    KRW-BTC  2023-12-29T00:00:00  2023-12-29T09:00:00     56904000.0   \n",
       "1    KRW-BTC  2023-12-28T00:00:00  2023-12-28T09:00:00     57920000.0   \n",
       "2    KRW-BTC  2023-12-27T00:00:00  2023-12-27T09:00:00     57032000.0   \n",
       "3    KRW-BTC  2023-12-26T00:00:00  2023-12-26T09:00:00     58042000.0   \n",
       "4    KRW-BTC  2023-12-25T00:00:00  2023-12-25T09:00:00     58002000.0   \n",
       "..       ...                  ...                  ...            ...   \n",
       "195  KRW-XRP  2023-06-17T00:00:00  2023-06-17T09:00:00          624.0   \n",
       "196  KRW-XRP  2023-06-16T00:00:00  2023-06-16T09:00:00          627.0   \n",
       "197  KRW-XRP  2023-06-15T00:00:00  2023-06-15T09:00:00          630.0   \n",
       "198  KRW-XRP  2023-06-14T00:00:00  2023-06-14T09:00:00          678.0   \n",
       "199  KRW-XRP  2023-06-13T00:00:00  2023-06-13T09:00:00          689.0   \n",
       "\n",
       "     high_price   low_price  trade_price      timestamp  \\\n",
       "0    57095000.0  56447000.0   56661000.0  1703812209216   \n",
       "1    58468000.0  56700000.0   56907000.0  1703807999951   \n",
       "2    58212000.0  56349000.0   57920000.0  1703721598803   \n",
       "3    58140000.0  56349000.0   57032000.0  1703635199803   \n",
       "4    58659000.0  57464000.0   58042000.0  1703548799890   \n",
       "..          ...         ...          ...            ...   \n",
       "195       637.0       615.0        629.0  1687046399585   \n",
       "196       630.0       602.0        624.0  1686959997094   \n",
       "197       638.0       612.0        627.0  1686873599460   \n",
       "198       681.0       609.0        631.0  1686787200001   \n",
       "199       735.0       664.0        679.0  1686700799794   \n",
       "\n",
       "     candle_acc_trade_price  candle_acc_trade_volume  prev_closing_price  \\\n",
       "0              2.125216e+10             3.743770e+02          56907000.0   \n",
       "1              2.269573e+11             3.958817e+03          57920000.0   \n",
       "2              2.270096e+11             3.965843e+03          57032000.0   \n",
       "3              2.708228e+11             4.735230e+03          58042000.0   \n",
       "4              2.721330e+11             4.687209e+03          58002000.0   \n",
       "..                      ...                      ...                 ...   \n",
       "195            9.285423e+10             1.480452e+08               624.0   \n",
       "196            1.610391e+11             2.616515e+08               627.0   \n",
       "197            1.663204e+11             2.660830e+08               631.0   \n",
       "198            2.592919e+11             3.998507e+08               679.0   \n",
       "199            4.851964e+11             6.910409e+08               689.0   \n",
       "\n",
       "     change_price  change_rate  \n",
       "0       -246000.0    -0.004323  \n",
       "1      -1013000.0    -0.017490  \n",
       "2        888000.0     0.015570  \n",
       "3      -1010000.0    -0.017401  \n",
       "4         40000.0     0.000690  \n",
       "..            ...          ...  \n",
       "195           5.0     0.008013  \n",
       "196          -3.0    -0.004785  \n",
       "197          -4.0    -0.006339  \n",
       "198         -48.0    -0.070692  \n",
       "199         -10.0    -0.014514  \n",
       "\n",
       "[600 rows x 13 columns]"
      ]
     },
     "execution_count": 68,
     "metadata": {},
     "output_type": "execute_result"
    }
   ],
   "source": [
    "df"
   ]
  },
  {
   "cell_type": "code",
   "execution_count": 69,
   "id": "5ae9a6bf",
   "metadata": {},
   "outputs": [
    {
     "data": {
      "text/html": [
       "<div>\n",
       "<style scoped>\n",
       "    .dataframe tbody tr th:only-of-type {\n",
       "        vertical-align: middle;\n",
       "    }\n",
       "\n",
       "    .dataframe tbody tr th {\n",
       "        vertical-align: top;\n",
       "    }\n",
       "\n",
       "    .dataframe thead th {\n",
       "        text-align: right;\n",
       "    }\n",
       "</style>\n",
       "<table border=\"1\" class=\"dataframe\">\n",
       "  <thead>\n",
       "    <tr style=\"text-align: right;\">\n",
       "      <th></th>\n",
       "      <th>market</th>\n",
       "      <th>candle_date_time_kst</th>\n",
       "      <th>opening_price</th>\n",
       "      <th>high_price</th>\n",
       "      <th>low_price</th>\n",
       "      <th>trade_price</th>\n",
       "      <th>candle_acc_trade_price</th>\n",
       "      <th>candle_acc_trade_volume</th>\n",
       "    </tr>\n",
       "  </thead>\n",
       "  <tbody>\n",
       "    <tr>\n",
       "      <th>0</th>\n",
       "      <td>KRW-BTC</td>\n",
       "      <td>2023-12-29T09:00:00</td>\n",
       "      <td>56904000.0</td>\n",
       "      <td>57095000.0</td>\n",
       "      <td>56447000.0</td>\n",
       "      <td>56661000.0</td>\n",
       "      <td>2.125216e+10</td>\n",
       "      <td>3.743770e+02</td>\n",
       "    </tr>\n",
       "    <tr>\n",
       "      <th>1</th>\n",
       "      <td>KRW-BTC</td>\n",
       "      <td>2023-12-28T09:00:00</td>\n",
       "      <td>57920000.0</td>\n",
       "      <td>58468000.0</td>\n",
       "      <td>56700000.0</td>\n",
       "      <td>56907000.0</td>\n",
       "      <td>2.269573e+11</td>\n",
       "      <td>3.958817e+03</td>\n",
       "    </tr>\n",
       "    <tr>\n",
       "      <th>2</th>\n",
       "      <td>KRW-BTC</td>\n",
       "      <td>2023-12-27T09:00:00</td>\n",
       "      <td>57032000.0</td>\n",
       "      <td>58212000.0</td>\n",
       "      <td>56349000.0</td>\n",
       "      <td>57920000.0</td>\n",
       "      <td>2.270096e+11</td>\n",
       "      <td>3.965843e+03</td>\n",
       "    </tr>\n",
       "    <tr>\n",
       "      <th>3</th>\n",
       "      <td>KRW-BTC</td>\n",
       "      <td>2023-12-26T09:00:00</td>\n",
       "      <td>58042000.0</td>\n",
       "      <td>58140000.0</td>\n",
       "      <td>56349000.0</td>\n",
       "      <td>57032000.0</td>\n",
       "      <td>2.708228e+11</td>\n",
       "      <td>4.735230e+03</td>\n",
       "    </tr>\n",
       "    <tr>\n",
       "      <th>4</th>\n",
       "      <td>KRW-BTC</td>\n",
       "      <td>2023-12-25T09:00:00</td>\n",
       "      <td>58002000.0</td>\n",
       "      <td>58659000.0</td>\n",
       "      <td>57464000.0</td>\n",
       "      <td>58042000.0</td>\n",
       "      <td>2.721330e+11</td>\n",
       "      <td>4.687209e+03</td>\n",
       "    </tr>\n",
       "    <tr>\n",
       "      <th>...</th>\n",
       "      <td>...</td>\n",
       "      <td>...</td>\n",
       "      <td>...</td>\n",
       "      <td>...</td>\n",
       "      <td>...</td>\n",
       "      <td>...</td>\n",
       "      <td>...</td>\n",
       "      <td>...</td>\n",
       "    </tr>\n",
       "    <tr>\n",
       "      <th>195</th>\n",
       "      <td>KRW-XRP</td>\n",
       "      <td>2023-06-17T09:00:00</td>\n",
       "      <td>624.0</td>\n",
       "      <td>637.0</td>\n",
       "      <td>615.0</td>\n",
       "      <td>629.0</td>\n",
       "      <td>9.285423e+10</td>\n",
       "      <td>1.480452e+08</td>\n",
       "    </tr>\n",
       "    <tr>\n",
       "      <th>196</th>\n",
       "      <td>KRW-XRP</td>\n",
       "      <td>2023-06-16T09:00:00</td>\n",
       "      <td>627.0</td>\n",
       "      <td>630.0</td>\n",
       "      <td>602.0</td>\n",
       "      <td>624.0</td>\n",
       "      <td>1.610391e+11</td>\n",
       "      <td>2.616515e+08</td>\n",
       "    </tr>\n",
       "    <tr>\n",
       "      <th>197</th>\n",
       "      <td>KRW-XRP</td>\n",
       "      <td>2023-06-15T09:00:00</td>\n",
       "      <td>630.0</td>\n",
       "      <td>638.0</td>\n",
       "      <td>612.0</td>\n",
       "      <td>627.0</td>\n",
       "      <td>1.663204e+11</td>\n",
       "      <td>2.660830e+08</td>\n",
       "    </tr>\n",
       "    <tr>\n",
       "      <th>198</th>\n",
       "      <td>KRW-XRP</td>\n",
       "      <td>2023-06-14T09:00:00</td>\n",
       "      <td>678.0</td>\n",
       "      <td>681.0</td>\n",
       "      <td>609.0</td>\n",
       "      <td>631.0</td>\n",
       "      <td>2.592919e+11</td>\n",
       "      <td>3.998507e+08</td>\n",
       "    </tr>\n",
       "    <tr>\n",
       "      <th>199</th>\n",
       "      <td>KRW-XRP</td>\n",
       "      <td>2023-06-13T09:00:00</td>\n",
       "      <td>689.0</td>\n",
       "      <td>735.0</td>\n",
       "      <td>664.0</td>\n",
       "      <td>679.0</td>\n",
       "      <td>4.851964e+11</td>\n",
       "      <td>6.910409e+08</td>\n",
       "    </tr>\n",
       "  </tbody>\n",
       "</table>\n",
       "<p>600 rows × 8 columns</p>\n",
       "</div>"
      ],
      "text/plain": [
       "      market candle_date_time_kst  opening_price  high_price   low_price  \\\n",
       "0    KRW-BTC  2023-12-29T09:00:00     56904000.0  57095000.0  56447000.0   \n",
       "1    KRW-BTC  2023-12-28T09:00:00     57920000.0  58468000.0  56700000.0   \n",
       "2    KRW-BTC  2023-12-27T09:00:00     57032000.0  58212000.0  56349000.0   \n",
       "3    KRW-BTC  2023-12-26T09:00:00     58042000.0  58140000.0  56349000.0   \n",
       "4    KRW-BTC  2023-12-25T09:00:00     58002000.0  58659000.0  57464000.0   \n",
       "..       ...                  ...            ...         ...         ...   \n",
       "195  KRW-XRP  2023-06-17T09:00:00          624.0       637.0       615.0   \n",
       "196  KRW-XRP  2023-06-16T09:00:00          627.0       630.0       602.0   \n",
       "197  KRW-XRP  2023-06-15T09:00:00          630.0       638.0       612.0   \n",
       "198  KRW-XRP  2023-06-14T09:00:00          678.0       681.0       609.0   \n",
       "199  KRW-XRP  2023-06-13T09:00:00          689.0       735.0       664.0   \n",
       "\n",
       "     trade_price  candle_acc_trade_price  candle_acc_trade_volume  \n",
       "0     56661000.0            2.125216e+10             3.743770e+02  \n",
       "1     56907000.0            2.269573e+11             3.958817e+03  \n",
       "2     57920000.0            2.270096e+11             3.965843e+03  \n",
       "3     57032000.0            2.708228e+11             4.735230e+03  \n",
       "4     58042000.0            2.721330e+11             4.687209e+03  \n",
       "..           ...                     ...                      ...  \n",
       "195        629.0            9.285423e+10             1.480452e+08  \n",
       "196        624.0            1.610391e+11             2.616515e+08  \n",
       "197        627.0            1.663204e+11             2.660830e+08  \n",
       "198        631.0            2.592919e+11             3.998507e+08  \n",
       "199        679.0            4.851964e+11             6.910409e+08  \n",
       "\n",
       "[600 rows x 8 columns]"
      ]
     },
     "execution_count": 69,
     "metadata": {},
     "output_type": "execute_result"
    }
   ],
   "source": [
    "my_df = df[['market','candle_date_time_kst','opening_price','high_price',\n",
    "            'low_price','trade_price','candle_acc_trade_price','candle_acc_trade_volume']].copy()\n",
    "my_df"
   ]
  },
  {
   "cell_type": "markdown",
   "id": "cda2dd52",
   "metadata": {},
   "source": [
    "# 첫번째 전처리 - market에서 코인의 이름만 남기기\n",
    "# 두번째 전처리 - candle_date_time_kst 날짜만 남기기"
   ]
  },
  {
   "cell_type": "markdown",
   "id": "1629c1ee",
   "metadata": {},
   "source": [
    "- blue팀 정글포지션인 사람들만 꺼내서 [GAMEID,CHAMPIONNAME,WIN].RENAME(CHAMPIONID -> j_champ) (테이블 이름 - blue_jungle)\n",
    "- blue팀 탑포지션인 사람들만 꺼내서 [GAMEID,CHAMPIONNAME,WIN].RENAME(CHAMPIONID -> t_champ) (테이블 이름 - blue_top)\n",
    "- blue팀끼리 merge \n",
    "\n",
    "- red 동일하게 정글, 탑 뽑아내서 merge\n",
    "\n",
    "\n",
    "- blue팀과 red팀의 데이터를 merge하기 위해서 enemy_blue / enemy_red 라는 데이터프레임 제작 \n",
    "- 이후 championName들을 rename을 통해 각각 enemy_j_champ_cham enemy_t_champ으로 변환\n",
    "\n",
    "\n",
    "- blue팀입장에서 red팀의 데이터 merge\n",
    "- red 팀 입장에서 blue팀 데이터 merge\n",
    "\n",
    "- 위에서 만들어진 merge테이블을 concat을 이용해서 하나의 데이터 테이블로 만들기\n",
    "- games와 win의 횟수를 구하고 win_rate(승률) 컬럼을 추가한 result 테이블 "
   ]
  },
  {
   "cell_type": "code",
   "execution_count": 70,
   "id": "f34c3114",
   "metadata": {},
   "outputs": [
    {
     "data": {
      "text/html": [
       "<div>\n",
       "<style scoped>\n",
       "    .dataframe tbody tr th:only-of-type {\n",
       "        vertical-align: middle;\n",
       "    }\n",
       "\n",
       "    .dataframe tbody tr th {\n",
       "        vertical-align: top;\n",
       "    }\n",
       "\n",
       "    .dataframe thead th {\n",
       "        text-align: right;\n",
       "    }\n",
       "</style>\n",
       "<table border=\"1\" class=\"dataframe\">\n",
       "  <thead>\n",
       "    <tr style=\"text-align: right;\">\n",
       "      <th></th>\n",
       "      <th>gameId</th>\n",
       "      <th>gameDuration</th>\n",
       "      <th>gameVersion</th>\n",
       "      <th>summonerName</th>\n",
       "      <th>summonerLevel</th>\n",
       "      <th>participantId</th>\n",
       "      <th>championName</th>\n",
       "      <th>champExperience</th>\n",
       "      <th>teamPosition</th>\n",
       "      <th>teamId</th>\n",
       "      <th>...</th>\n",
       "      <th>g_16</th>\n",
       "      <th>g_17</th>\n",
       "      <th>g_18</th>\n",
       "      <th>g_19</th>\n",
       "      <th>g_20</th>\n",
       "      <th>g_21</th>\n",
       "      <th>g_22</th>\n",
       "      <th>g_23</th>\n",
       "      <th>g_24</th>\n",
       "      <th>g_25</th>\n",
       "    </tr>\n",
       "  </thead>\n",
       "  <tbody>\n",
       "    <tr>\n",
       "      <th>0</th>\n",
       "      <td>KR_6606773837</td>\n",
       "      <td>1105</td>\n",
       "      <td>13.14.520.6878</td>\n",
       "      <td>광년 일라오이</td>\n",
       "      <td>282</td>\n",
       "      <td>1</td>\n",
       "      <td>Shyvana</td>\n",
       "      <td>10434</td>\n",
       "      <td>TOP</td>\n",
       "      <td>100</td>\n",
       "      <td>...</td>\n",
       "      <td>6023</td>\n",
       "      <td>6501</td>\n",
       "      <td>8217</td>\n",
       "      <td>8471</td>\n",
       "      <td>0</td>\n",
       "      <td>0</td>\n",
       "      <td>0</td>\n",
       "      <td>0</td>\n",
       "      <td>0</td>\n",
       "      <td>0</td>\n",
       "    </tr>\n",
       "    <tr>\n",
       "      <th>1</th>\n",
       "      <td>KR_6606773837</td>\n",
       "      <td>1105</td>\n",
       "      <td>13.14.520.6878</td>\n",
       "      <td>아아에 얼음많이</td>\n",
       "      <td>41</td>\n",
       "      <td>2</td>\n",
       "      <td>Gragas</td>\n",
       "      <td>6226</td>\n",
       "      <td>UTILITY</td>\n",
       "      <td>100</td>\n",
       "      <td>...</td>\n",
       "      <td>4985</td>\n",
       "      <td>5366</td>\n",
       "      <td>6131</td>\n",
       "      <td>6338</td>\n",
       "      <td>0</td>\n",
       "      <td>0</td>\n",
       "      <td>0</td>\n",
       "      <td>0</td>\n",
       "      <td>0</td>\n",
       "      <td>0</td>\n",
       "    </tr>\n",
       "    <tr>\n",
       "      <th>2</th>\n",
       "      <td>KR_6606773837</td>\n",
       "      <td>1105</td>\n",
       "      <td>13.14.520.6878</td>\n",
       "      <td>킬각 Artist</td>\n",
       "      <td>191</td>\n",
       "      <td>3</td>\n",
       "      <td>Yone</td>\n",
       "      <td>9309</td>\n",
       "      <td>MIDDLE</td>\n",
       "      <td>100</td>\n",
       "      <td>...</td>\n",
       "      <td>6264</td>\n",
       "      <td>6711</td>\n",
       "      <td>7224</td>\n",
       "      <td>7805</td>\n",
       "      <td>0</td>\n",
       "      <td>0</td>\n",
       "      <td>0</td>\n",
       "      <td>0</td>\n",
       "      <td>0</td>\n",
       "      <td>0</td>\n",
       "    </tr>\n",
       "    <tr>\n",
       "      <th>3</th>\n",
       "      <td>KR_6606773837</td>\n",
       "      <td>1105</td>\n",
       "      <td>13.14.520.6878</td>\n",
       "      <td>mkim437</td>\n",
       "      <td>169</td>\n",
       "      <td>4</td>\n",
       "      <td>Varus</td>\n",
       "      <td>9336</td>\n",
       "      <td>BOTTOM</td>\n",
       "      <td>100</td>\n",
       "      <td>...</td>\n",
       "      <td>9960</td>\n",
       "      <td>10406</td>\n",
       "      <td>11095</td>\n",
       "      <td>11576</td>\n",
       "      <td>0</td>\n",
       "      <td>0</td>\n",
       "      <td>0</td>\n",
       "      <td>0</td>\n",
       "      <td>0</td>\n",
       "      <td>0</td>\n",
       "    </tr>\n",
       "    <tr>\n",
       "      <th>4</th>\n",
       "      <td>KR_6606773837</td>\n",
       "      <td>1105</td>\n",
       "      <td>13.14.520.6878</td>\n",
       "      <td>2024년7월8일</td>\n",
       "      <td>314</td>\n",
       "      <td>5</td>\n",
       "      <td>Sylas</td>\n",
       "      <td>9063</td>\n",
       "      <td>JUNGLE</td>\n",
       "      <td>100</td>\n",
       "      <td>...</td>\n",
       "      <td>6717</td>\n",
       "      <td>6918</td>\n",
       "      <td>7810</td>\n",
       "      <td>8164</td>\n",
       "      <td>0</td>\n",
       "      <td>0</td>\n",
       "      <td>0</td>\n",
       "      <td>0</td>\n",
       "      <td>0</td>\n",
       "      <td>0</td>\n",
       "    </tr>\n",
       "    <tr>\n",
       "      <th>...</th>\n",
       "      <td>...</td>\n",
       "      <td>...</td>\n",
       "      <td>...</td>\n",
       "      <td>...</td>\n",
       "      <td>...</td>\n",
       "      <td>...</td>\n",
       "      <td>...</td>\n",
       "      <td>...</td>\n",
       "      <td>...</td>\n",
       "      <td>...</td>\n",
       "      <td>...</td>\n",
       "      <td>...</td>\n",
       "      <td>...</td>\n",
       "      <td>...</td>\n",
       "      <td>...</td>\n",
       "      <td>...</td>\n",
       "      <td>...</td>\n",
       "      <td>...</td>\n",
       "      <td>...</td>\n",
       "      <td>...</td>\n",
       "      <td>...</td>\n",
       "    </tr>\n",
       "    <tr>\n",
       "      <th>64637</th>\n",
       "      <td>KR_6871754477</td>\n",
       "      <td>1047</td>\n",
       "      <td>13.24.547.9214</td>\n",
       "      <td>dlawlstn1</td>\n",
       "      <td>78</td>\n",
       "      <td>4</td>\n",
       "      <td>Darius</td>\n",
       "      <td>12500</td>\n",
       "      <td></td>\n",
       "      <td>200</td>\n",
       "      <td>...</td>\n",
       "      <td>12750</td>\n",
       "      <td>12750</td>\n",
       "      <td>12750</td>\n",
       "      <td>0</td>\n",
       "      <td>0</td>\n",
       "      <td>0</td>\n",
       "      <td>0</td>\n",
       "      <td>0</td>\n",
       "      <td>0</td>\n",
       "      <td>0</td>\n",
       "    </tr>\n",
       "    <tr>\n",
       "      <th>64638</th>\n",
       "      <td>KR_6871754477</td>\n",
       "      <td>1047</td>\n",
       "      <td>13.24.547.9214</td>\n",
       "      <td>범지야 잘 좀 해</td>\n",
       "      <td>70</td>\n",
       "      <td>5</td>\n",
       "      <td>Vayne</td>\n",
       "      <td>17000</td>\n",
       "      <td></td>\n",
       "      <td>100</td>\n",
       "      <td>...</td>\n",
       "      <td>19800</td>\n",
       "      <td>20150</td>\n",
       "      <td>20500</td>\n",
       "      <td>0</td>\n",
       "      <td>0</td>\n",
       "      <td>0</td>\n",
       "      <td>0</td>\n",
       "      <td>0</td>\n",
       "      <td>0</td>\n",
       "      <td>0</td>\n",
       "    </tr>\n",
       "    <tr>\n",
       "      <th>64639</th>\n",
       "      <td>KR_6871754477</td>\n",
       "      <td>1047</td>\n",
       "      <td>13.24.547.9214</td>\n",
       "      <td>평콩이</td>\n",
       "      <td>419</td>\n",
       "      <td>6</td>\n",
       "      <td>Trundle</td>\n",
       "      <td>17000</td>\n",
       "      <td></td>\n",
       "      <td>100</td>\n",
       "      <td>...</td>\n",
       "      <td>19800</td>\n",
       "      <td>20150</td>\n",
       "      <td>20500</td>\n",
       "      <td>0</td>\n",
       "      <td>0</td>\n",
       "      <td>0</td>\n",
       "      <td>0</td>\n",
       "      <td>0</td>\n",
       "      <td>0</td>\n",
       "      <td>0</td>\n",
       "    </tr>\n",
       "    <tr>\n",
       "      <th>64640</th>\n",
       "      <td>KR_6871754477</td>\n",
       "      <td>1047</td>\n",
       "      <td>13.24.547.9214</td>\n",
       "      <td>아칼리에이를갈음</td>\n",
       "      <td>38</td>\n",
       "      <td>7</td>\n",
       "      <td>Akali</td>\n",
       "      <td>17000</td>\n",
       "      <td></td>\n",
       "      <td>100</td>\n",
       "      <td>...</td>\n",
       "      <td>19450</td>\n",
       "      <td>19800</td>\n",
       "      <td>19800</td>\n",
       "      <td>0</td>\n",
       "      <td>0</td>\n",
       "      <td>0</td>\n",
       "      <td>0</td>\n",
       "      <td>0</td>\n",
       "      <td>0</td>\n",
       "      <td>0</td>\n",
       "    </tr>\n",
       "    <tr>\n",
       "      <th>64641</th>\n",
       "      <td>KR_6871754477</td>\n",
       "      <td>1047</td>\n",
       "      <td>13.24.547.9214</td>\n",
       "      <td>정지때쓰는계정</td>\n",
       "      <td>115</td>\n",
       "      <td>8</td>\n",
       "      <td>Urgot</td>\n",
       "      <td>17000</td>\n",
       "      <td></td>\n",
       "      <td>100</td>\n",
       "      <td>...</td>\n",
       "      <td>19450</td>\n",
       "      <td>19800</td>\n",
       "      <td>19800</td>\n",
       "      <td>0</td>\n",
       "      <td>0</td>\n",
       "      <td>0</td>\n",
       "      <td>0</td>\n",
       "      <td>0</td>\n",
       "      <td>0</td>\n",
       "      <td>0</td>\n",
       "    </tr>\n",
       "  </tbody>\n",
       "</table>\n",
       "<p>64642 rows × 37 columns</p>\n",
       "</div>"
      ],
      "text/plain": [
       "              gameId  gameDuration     gameVersion summonerName  \\\n",
       "0      KR_6606773837          1105  13.14.520.6878      광년 일라오이   \n",
       "1      KR_6606773837          1105  13.14.520.6878     아아에 얼음많이   \n",
       "2      KR_6606773837          1105  13.14.520.6878    킬각 Artist   \n",
       "3      KR_6606773837          1105  13.14.520.6878      mkim437   \n",
       "4      KR_6606773837          1105  13.14.520.6878    2024년7월8일   \n",
       "...              ...           ...             ...          ...   \n",
       "64637  KR_6871754477          1047  13.24.547.9214    dlawlstn1   \n",
       "64638  KR_6871754477          1047  13.24.547.9214    범지야 잘 좀 해   \n",
       "64639  KR_6871754477          1047  13.24.547.9214          평콩이   \n",
       "64640  KR_6871754477          1047  13.24.547.9214     아칼리에이를갈음   \n",
       "64641  KR_6871754477          1047  13.24.547.9214      정지때쓰는계정   \n",
       "\n",
       "       summonerLevel  participantId championName  champExperience  \\\n",
       "0                282              1      Shyvana            10434   \n",
       "1                 41              2       Gragas             6226   \n",
       "2                191              3         Yone             9309   \n",
       "3                169              4        Varus             9336   \n",
       "4                314              5        Sylas             9063   \n",
       "...              ...            ...          ...              ...   \n",
       "64637             78              4       Darius            12500   \n",
       "64638             70              5        Vayne            17000   \n",
       "64639            419              6      Trundle            17000   \n",
       "64640             38              7        Akali            17000   \n",
       "64641            115              8        Urgot            17000   \n",
       "\n",
       "      teamPosition  teamId  ...   g_16   g_17   g_18   g_19  g_20  g_21  g_22  \\\n",
       "0              TOP     100  ...   6023   6501   8217   8471     0     0     0   \n",
       "1          UTILITY     100  ...   4985   5366   6131   6338     0     0     0   \n",
       "2           MIDDLE     100  ...   6264   6711   7224   7805     0     0     0   \n",
       "3           BOTTOM     100  ...   9960  10406  11095  11576     0     0     0   \n",
       "4           JUNGLE     100  ...   6717   6918   7810   8164     0     0     0   \n",
       "...            ...     ...  ...    ...    ...    ...    ...   ...   ...   ...   \n",
       "64637                  200  ...  12750  12750  12750      0     0     0     0   \n",
       "64638                  100  ...  19800  20150  20500      0     0     0     0   \n",
       "64639                  100  ...  19800  20150  20500      0     0     0     0   \n",
       "64640                  100  ...  19450  19800  19800      0     0     0     0   \n",
       "64641                  100  ...  19450  19800  19800      0     0     0     0   \n",
       "\n",
       "       g_23  g_24  g_25  \n",
       "0         0     0     0  \n",
       "1         0     0     0  \n",
       "2         0     0     0  \n",
       "3         0     0     0  \n",
       "4         0     0     0  \n",
       "...     ...   ...   ...  \n",
       "64637     0     0     0  \n",
       "64638     0     0     0  \n",
       "64639     0     0     0  \n",
       "64640     0     0     0  \n",
       "64641     0     0     0  \n",
       "\n",
       "[64642 rows x 37 columns]"
      ]
     },
     "execution_count": 70,
     "metadata": {},
     "output_type": "execute_result"
    }
   ],
   "source": [
    "lol_df"
   ]
  },
  {
   "cell_type": "code",
   "execution_count": 78,
   "id": "9fa2db58",
   "metadata": {},
   "outputs": [],
   "source": [
    "blue_team1 = lol_df[lol_df.teamId == 100]\n",
    "blue_team2 = lol_df[lol_df.teamId == 100]"
   ]
  },
  {
   "cell_type": "code",
   "execution_count": 84,
   "id": "ca9137eb",
   "metadata": {},
   "outputs": [],
   "source": [
    "red_team1 = lol_df[lol_df.teamId == 200]\n",
    "red_team2 = lol_df[lol_df.teamId == 200]"
   ]
  },
  {
   "cell_type": "code",
   "execution_count": 79,
   "id": "e62e4e4f",
   "metadata": {},
   "outputs": [],
   "source": [
    "blue_team1 = blue_team1[blue_team1.teamPosition == 'TOP']\n",
    "blue_team2 = blue_team2[blue_team2.teamPosition == 'JUNGLE']"
   ]
  },
  {
   "cell_type": "code",
   "execution_count": 85,
   "id": "764658a4",
   "metadata": {},
   "outputs": [],
   "source": [
    "red_team1 = red_team1[red_team1.teamPosition == 'TOP']\n",
    "red_team2 = red_team2[red_team2.teamPosition == 'JUNGLE']"
   ]
  },
  {
   "cell_type": "code",
   "execution_count": 87,
   "id": "aefb1728",
   "metadata": {},
   "outputs": [
    {
     "data": {
      "text/plain": [
       "Index(['gameId', 'gameDuration', 'gameVersion', 'summonerName',\n",
       "       'summonerLevel', 'participantId', 'championName', 'champExperience',\n",
       "       'teamPosition', 'teamId', 'win', 'kills', 'deaths', 'assists',\n",
       "       'totalDamageDealtToChampions', 'totalDamageTaken', 'g_5', 'g_6', 'g_7',\n",
       "       'g_8', 'g_9', 'g_10', 'g_11', 'g_12', 'g_13', 'g_14', 'g_15', 'g_16',\n",
       "       'g_17', 'g_18', 'g_19', 'g_20', 'g_21', 'g_22', 'g_23', 'g_24', 'g_25'],\n",
       "      dtype='object')"
      ]
     },
     "execution_count": 87,
     "metadata": {},
     "output_type": "execute_result"
    }
   ],
   "source": [
    "red_team2.columns"
   ]
  },
  {
   "cell_type": "code",
   "execution_count": 73,
   "id": "45282e90",
   "metadata": {},
   "outputs": [
    {
     "data": {
      "text/plain": [
       "Index(['gameId', 'gameDuration', 'gameVersion', 'summonerName',\n",
       "       'summonerLevel', 'participantId', 'championName', 'champExperience',\n",
       "       'teamPosition', 'teamId', 'win', 'kills', 'deaths', 'assists',\n",
       "       'totalDamageDealtToChampions', 'totalDamageTaken', 'g_5', 'g_6', 'g_7',\n",
       "       'g_8', 'g_9', 'g_10', 'g_11', 'g_12', 'g_13', 'g_14', 'g_15', 'g_16',\n",
       "       'g_17', 'g_18', 'g_19', 'g_20', 'g_21', 'g_22', 'g_23', 'g_24', 'g_25'],\n",
       "      dtype='object')"
      ]
     },
     "execution_count": 73,
     "metadata": {},
     "output_type": "execute_result"
    }
   ],
   "source": [
    "blue_team2.columns"
   ]
  },
  {
   "cell_type": "code",
   "execution_count": 103,
   "id": "bc6dfb79",
   "metadata": {},
   "outputs": [],
   "source": [
    "blue_top = blue_team1[['gameId','championName','win']]\n",
    "blue_jungle = blue_team2[['gameId','championName','win']]"
   ]
  },
  {
   "cell_type": "code",
   "execution_count": 104,
   "id": "a984c0a1",
   "metadata": {},
   "outputs": [],
   "source": [
    "red_top = red_team1[['gameId','championName','win']]\n",
    "red_jungle = red_team2[['gameId','championName','win']]"
   ]
  },
  {
   "cell_type": "code",
   "execution_count": 110,
   "id": "f7620362",
   "metadata": {},
   "outputs": [],
   "source": [
    "blue_top.columns = 'gameId','t_champ','win'\n",
    "blue_jungle.columns ='gameId','j_champ','win'"
   ]
  },
  {
   "cell_type": "code",
   "execution_count": 105,
   "id": "cdeeb87b",
   "metadata": {},
   "outputs": [],
   "source": [
    "red_top.columns = 'gameId','t_champ','win'\n",
    "red_jungle.columns ='gameId','j_champ','win'"
   ]
  },
  {
   "cell_type": "code",
   "execution_count": 106,
   "id": "d7572273",
   "metadata": {},
   "outputs": [
    {
     "data": {
      "text/html": [
       "<div>\n",
       "<style scoped>\n",
       "    .dataframe tbody tr th:only-of-type {\n",
       "        vertical-align: middle;\n",
       "    }\n",
       "\n",
       "    .dataframe tbody tr th {\n",
       "        vertical-align: top;\n",
       "    }\n",
       "\n",
       "    .dataframe thead th {\n",
       "        text-align: right;\n",
       "    }\n",
       "</style>\n",
       "<table border=\"1\" class=\"dataframe\">\n",
       "  <thead>\n",
       "    <tr style=\"text-align: right;\">\n",
       "      <th></th>\n",
       "      <th>gameId</th>\n",
       "      <th>t_champ</th>\n",
       "      <th>win</th>\n",
       "    </tr>\n",
       "  </thead>\n",
       "  <tbody>\n",
       "    <tr>\n",
       "      <th>5</th>\n",
       "      <td>KR_6606773837</td>\n",
       "      <td>Aatrox</td>\n",
       "      <td>False</td>\n",
       "    </tr>\n",
       "    <tr>\n",
       "      <th>15</th>\n",
       "      <td>KR_6606820276</td>\n",
       "      <td>Renekton</td>\n",
       "      <td>True</td>\n",
       "    </tr>\n",
       "    <tr>\n",
       "      <th>25</th>\n",
       "      <td>KR_6606823701</td>\n",
       "      <td>Illaoi</td>\n",
       "      <td>False</td>\n",
       "    </tr>\n",
       "    <tr>\n",
       "      <th>35</th>\n",
       "      <td>KR_6606877275</td>\n",
       "      <td>Irelia</td>\n",
       "      <td>False</td>\n",
       "    </tr>\n",
       "    <tr>\n",
       "      <th>45</th>\n",
       "      <td>KR_6606923700</td>\n",
       "      <td>Varus</td>\n",
       "      <td>True</td>\n",
       "    </tr>\n",
       "    <tr>\n",
       "      <th>...</th>\n",
       "      <td>...</td>\n",
       "      <td>...</td>\n",
       "      <td>...</td>\n",
       "    </tr>\n",
       "    <tr>\n",
       "      <th>64589</th>\n",
       "      <td>KR_6871722335</td>\n",
       "      <td>Garen</td>\n",
       "      <td>True</td>\n",
       "    </tr>\n",
       "    <tr>\n",
       "      <th>64599</th>\n",
       "      <td>KR_6871725629</td>\n",
       "      <td>Pantheon</td>\n",
       "      <td>True</td>\n",
       "    </tr>\n",
       "    <tr>\n",
       "      <th>64609</th>\n",
       "      <td>KR_6871728109</td>\n",
       "      <td>Nasus</td>\n",
       "      <td>True</td>\n",
       "    </tr>\n",
       "    <tr>\n",
       "      <th>64619</th>\n",
       "      <td>KR_6871734464</td>\n",
       "      <td>Nasus</td>\n",
       "      <td>False</td>\n",
       "    </tr>\n",
       "    <tr>\n",
       "      <th>64629</th>\n",
       "      <td>KR_6871744855</td>\n",
       "      <td>Teemo</td>\n",
       "      <td>True</td>\n",
       "    </tr>\n",
       "  </tbody>\n",
       "</table>\n",
       "<p>5917 rows × 3 columns</p>\n",
       "</div>"
      ],
      "text/plain": [
       "              gameId   t_champ    win\n",
       "5      KR_6606773837    Aatrox  False\n",
       "15     KR_6606820276  Renekton   True\n",
       "25     KR_6606823701    Illaoi  False\n",
       "35     KR_6606877275    Irelia  False\n",
       "45     KR_6606923700     Varus   True\n",
       "...              ...       ...    ...\n",
       "64589  KR_6871722335     Garen   True\n",
       "64599  KR_6871725629  Pantheon   True\n",
       "64609  KR_6871728109     Nasus   True\n",
       "64619  KR_6871734464     Nasus  False\n",
       "64629  KR_6871744855     Teemo   True\n",
       "\n",
       "[5917 rows x 3 columns]"
      ]
     },
     "execution_count": 106,
     "metadata": {},
     "output_type": "execute_result"
    }
   ],
   "source": [
    "red_top"
   ]
  },
  {
   "cell_type": "code",
   "execution_count": 118,
   "id": "84f8137a",
   "metadata": {},
   "outputs": [
    {
     "data": {
      "text/html": [
       "<div>\n",
       "<style scoped>\n",
       "    .dataframe tbody tr th:only-of-type {\n",
       "        vertical-align: middle;\n",
       "    }\n",
       "\n",
       "    .dataframe tbody tr th {\n",
       "        vertical-align: top;\n",
       "    }\n",
       "\n",
       "    .dataframe thead th {\n",
       "        text-align: right;\n",
       "    }\n",
       "</style>\n",
       "<table border=\"1\" class=\"dataframe\">\n",
       "  <thead>\n",
       "    <tr style=\"text-align: right;\">\n",
       "      <th></th>\n",
       "      <th>gameId</th>\n",
       "      <th>j_champ</th>\n",
       "      <th>win</th>\n",
       "    </tr>\n",
       "  </thead>\n",
       "  <tbody>\n",
       "    <tr>\n",
       "      <th>4</th>\n",
       "      <td>KR_6606773837</td>\n",
       "      <td>Sylas</td>\n",
       "      <td>True</td>\n",
       "    </tr>\n",
       "    <tr>\n",
       "      <th>11</th>\n",
       "      <td>KR_6606820276</td>\n",
       "      <td>Nidalee</td>\n",
       "      <td>False</td>\n",
       "    </tr>\n",
       "    <tr>\n",
       "      <th>21</th>\n",
       "      <td>KR_6606823701</td>\n",
       "      <td>Evelynn</td>\n",
       "      <td>True</td>\n",
       "    </tr>\n",
       "    <tr>\n",
       "      <th>31</th>\n",
       "      <td>KR_6606877275</td>\n",
       "      <td>Zac</td>\n",
       "      <td>True</td>\n",
       "    </tr>\n",
       "    <tr>\n",
       "      <th>40</th>\n",
       "      <td>KR_6606923700</td>\n",
       "      <td>LeeSin</td>\n",
       "      <td>False</td>\n",
       "    </tr>\n",
       "    <tr>\n",
       "      <th>...</th>\n",
       "      <td>...</td>\n",
       "      <td>...</td>\n",
       "      <td>...</td>\n",
       "    </tr>\n",
       "    <tr>\n",
       "      <th>64585</th>\n",
       "      <td>KR_6871722335</td>\n",
       "      <td>Karthus</td>\n",
       "      <td>False</td>\n",
       "    </tr>\n",
       "    <tr>\n",
       "      <th>64595</th>\n",
       "      <td>KR_6871725629</td>\n",
       "      <td>LeeSin</td>\n",
       "      <td>False</td>\n",
       "    </tr>\n",
       "    <tr>\n",
       "      <th>64605</th>\n",
       "      <td>KR_6871728109</td>\n",
       "      <td>Sejuani</td>\n",
       "      <td>False</td>\n",
       "    </tr>\n",
       "    <tr>\n",
       "      <th>64615</th>\n",
       "      <td>KR_6871734464</td>\n",
       "      <td>Vi</td>\n",
       "      <td>True</td>\n",
       "    </tr>\n",
       "    <tr>\n",
       "      <th>64625</th>\n",
       "      <td>KR_6871744855</td>\n",
       "      <td>Graves</td>\n",
       "      <td>False</td>\n",
       "    </tr>\n",
       "  </tbody>\n",
       "</table>\n",
       "<p>5917 rows × 3 columns</p>\n",
       "</div>"
      ],
      "text/plain": [
       "              gameId  j_champ    win\n",
       "4      KR_6606773837    Sylas   True\n",
       "11     KR_6606820276  Nidalee  False\n",
       "21     KR_6606823701  Evelynn   True\n",
       "31     KR_6606877275      Zac   True\n",
       "40     KR_6606923700   LeeSin  False\n",
       "...              ...      ...    ...\n",
       "64585  KR_6871722335  Karthus  False\n",
       "64595  KR_6871725629   LeeSin  False\n",
       "64605  KR_6871728109  Sejuani  False\n",
       "64615  KR_6871734464       Vi   True\n",
       "64625  KR_6871744855   Graves  False\n",
       "\n",
       "[5917 rows x 3 columns]"
      ]
     },
     "execution_count": 118,
     "metadata": {},
     "output_type": "execute_result"
    }
   ],
   "source": [
    "blue_jungle"
   ]
  },
  {
   "cell_type": "code",
   "execution_count": 132,
   "id": "1f154608",
   "metadata": {},
   "outputs": [],
   "source": [
    "blue_df = pd.merge(blue_top,blue_jungle,on=['gameId','win'])\n",
    "red_df = pd.merge(red_top,red_jungle, on = ['gameId','win'])"
   ]
  },
  {
   "cell_type": "code",
   "execution_count": 138,
   "id": "673084ac",
   "metadata": {},
   "outputs": [
    {
     "data": {
      "text/html": [
       "<div>\n",
       "<style scoped>\n",
       "    .dataframe tbody tr th:only-of-type {\n",
       "        vertical-align: middle;\n",
       "    }\n",
       "\n",
       "    .dataframe tbody tr th {\n",
       "        vertical-align: top;\n",
       "    }\n",
       "\n",
       "    .dataframe thead th {\n",
       "        text-align: right;\n",
       "    }\n",
       "</style>\n",
       "<table border=\"1\" class=\"dataframe\">\n",
       "  <thead>\n",
       "    <tr style=\"text-align: right;\">\n",
       "      <th></th>\n",
       "      <th>gameId</th>\n",
       "      <th>t_champ</th>\n",
       "      <th>win</th>\n",
       "      <th>j_champ</th>\n",
       "    </tr>\n",
       "  </thead>\n",
       "  <tbody>\n",
       "    <tr>\n",
       "      <th>0</th>\n",
       "      <td>KR_6606773837</td>\n",
       "      <td>Aatrox</td>\n",
       "      <td>False</td>\n",
       "      <td>LeeSin</td>\n",
       "    </tr>\n",
       "    <tr>\n",
       "      <th>1</th>\n",
       "      <td>KR_6606820276</td>\n",
       "      <td>Renekton</td>\n",
       "      <td>True</td>\n",
       "      <td>Graves</td>\n",
       "    </tr>\n",
       "    <tr>\n",
       "      <th>2</th>\n",
       "      <td>KR_6606823701</td>\n",
       "      <td>Illaoi</td>\n",
       "      <td>False</td>\n",
       "      <td>Hecarim</td>\n",
       "    </tr>\n",
       "    <tr>\n",
       "      <th>3</th>\n",
       "      <td>KR_6606877275</td>\n",
       "      <td>Irelia</td>\n",
       "      <td>False</td>\n",
       "      <td>Diana</td>\n",
       "    </tr>\n",
       "    <tr>\n",
       "      <th>4</th>\n",
       "      <td>KR_6606923700</td>\n",
       "      <td>Varus</td>\n",
       "      <td>True</td>\n",
       "      <td>Sejuani</td>\n",
       "    </tr>\n",
       "    <tr>\n",
       "      <th>...</th>\n",
       "      <td>...</td>\n",
       "      <td>...</td>\n",
       "      <td>...</td>\n",
       "      <td>...</td>\n",
       "    </tr>\n",
       "    <tr>\n",
       "      <th>5912</th>\n",
       "      <td>KR_6871722335</td>\n",
       "      <td>Garen</td>\n",
       "      <td>True</td>\n",
       "      <td>LeeSin</td>\n",
       "    </tr>\n",
       "    <tr>\n",
       "      <th>5913</th>\n",
       "      <td>KR_6871725629</td>\n",
       "      <td>Pantheon</td>\n",
       "      <td>True</td>\n",
       "      <td>Lillia</td>\n",
       "    </tr>\n",
       "    <tr>\n",
       "      <th>5914</th>\n",
       "      <td>KR_6871728109</td>\n",
       "      <td>Nasus</td>\n",
       "      <td>True</td>\n",
       "      <td>Shaco</td>\n",
       "    </tr>\n",
       "    <tr>\n",
       "      <th>5915</th>\n",
       "      <td>KR_6871734464</td>\n",
       "      <td>Nasus</td>\n",
       "      <td>False</td>\n",
       "      <td>Nocturne</td>\n",
       "    </tr>\n",
       "    <tr>\n",
       "      <th>5916</th>\n",
       "      <td>KR_6871744855</td>\n",
       "      <td>Teemo</td>\n",
       "      <td>True</td>\n",
       "      <td>Zac</td>\n",
       "    </tr>\n",
       "  </tbody>\n",
       "</table>\n",
       "<p>5917 rows × 4 columns</p>\n",
       "</div>"
      ],
      "text/plain": [
       "             gameId   t_champ    win   j_champ\n",
       "0     KR_6606773837    Aatrox  False    LeeSin\n",
       "1     KR_6606820276  Renekton   True    Graves\n",
       "2     KR_6606823701    Illaoi  False   Hecarim\n",
       "3     KR_6606877275    Irelia  False     Diana\n",
       "4     KR_6606923700     Varus   True   Sejuani\n",
       "...             ...       ...    ...       ...\n",
       "5912  KR_6871722335     Garen   True    LeeSin\n",
       "5913  KR_6871725629  Pantheon   True    Lillia\n",
       "5914  KR_6871728109     Nasus   True     Shaco\n",
       "5915  KR_6871734464     Nasus  False  Nocturne\n",
       "5916  KR_6871744855     Teemo   True       Zac\n",
       "\n",
       "[5917 rows x 4 columns]"
      ]
     },
     "execution_count": 138,
     "metadata": {},
     "output_type": "execute_result"
    }
   ],
   "source": [
    "red_df"
   ]
  },
  {
   "cell_type": "code",
   "execution_count": 142,
   "id": "5da3c14e",
   "metadata": {},
   "outputs": [
    {
     "data": {
      "text/html": [
       "<div>\n",
       "<style scoped>\n",
       "    .dataframe tbody tr th:only-of-type {\n",
       "        vertical-align: middle;\n",
       "    }\n",
       "\n",
       "    .dataframe tbody tr th {\n",
       "        vertical-align: top;\n",
       "    }\n",
       "\n",
       "    .dataframe thead th {\n",
       "        text-align: right;\n",
       "    }\n",
       "</style>\n",
       "<table border=\"1\" class=\"dataframe\">\n",
       "  <thead>\n",
       "    <tr style=\"text-align: right;\">\n",
       "      <th></th>\n",
       "      <th>gameId</th>\n",
       "      <th>t_champ</th>\n",
       "      <th>win</th>\n",
       "      <th>j_champ</th>\n",
       "    </tr>\n",
       "  </thead>\n",
       "  <tbody>\n",
       "    <tr>\n",
       "      <th>0</th>\n",
       "      <td>KR_6606773837</td>\n",
       "      <td>Shyvana</td>\n",
       "      <td>True</td>\n",
       "      <td>Sylas</td>\n",
       "    </tr>\n",
       "    <tr>\n",
       "      <th>1</th>\n",
       "      <td>KR_6606820276</td>\n",
       "      <td>Gnar</td>\n",
       "      <td>False</td>\n",
       "      <td>Nidalee</td>\n",
       "    </tr>\n",
       "    <tr>\n",
       "      <th>2</th>\n",
       "      <td>KR_6606823701</td>\n",
       "      <td>KSante</td>\n",
       "      <td>True</td>\n",
       "      <td>Evelynn</td>\n",
       "    </tr>\n",
       "    <tr>\n",
       "      <th>3</th>\n",
       "      <td>KR_6606877275</td>\n",
       "      <td>Darius</td>\n",
       "      <td>True</td>\n",
       "      <td>Zac</td>\n",
       "    </tr>\n",
       "    <tr>\n",
       "      <th>4</th>\n",
       "      <td>KR_6606923700</td>\n",
       "      <td>Yone</td>\n",
       "      <td>False</td>\n",
       "      <td>LeeSin</td>\n",
       "    </tr>\n",
       "    <tr>\n",
       "      <th>...</th>\n",
       "      <td>...</td>\n",
       "      <td>...</td>\n",
       "      <td>...</td>\n",
       "      <td>...</td>\n",
       "    </tr>\n",
       "    <tr>\n",
       "      <th>5912</th>\n",
       "      <td>KR_6871722335</td>\n",
       "      <td>Qiyana</td>\n",
       "      <td>False</td>\n",
       "      <td>Karthus</td>\n",
       "    </tr>\n",
       "    <tr>\n",
       "      <th>5913</th>\n",
       "      <td>KR_6871725629</td>\n",
       "      <td>Aatrox</td>\n",
       "      <td>False</td>\n",
       "      <td>LeeSin</td>\n",
       "    </tr>\n",
       "    <tr>\n",
       "      <th>5914</th>\n",
       "      <td>KR_6871728109</td>\n",
       "      <td>Renekton</td>\n",
       "      <td>False</td>\n",
       "      <td>Sejuani</td>\n",
       "    </tr>\n",
       "    <tr>\n",
       "      <th>5915</th>\n",
       "      <td>KR_6871734464</td>\n",
       "      <td>Qiyana</td>\n",
       "      <td>True</td>\n",
       "      <td>Vi</td>\n",
       "    </tr>\n",
       "    <tr>\n",
       "      <th>5916</th>\n",
       "      <td>KR_6871744855</td>\n",
       "      <td>Jax</td>\n",
       "      <td>False</td>\n",
       "      <td>Graves</td>\n",
       "    </tr>\n",
       "  </tbody>\n",
       "</table>\n",
       "<p>5917 rows × 4 columns</p>\n",
       "</div>"
      ],
      "text/plain": [
       "             gameId   t_champ    win  j_champ\n",
       "0     KR_6606773837   Shyvana   True    Sylas\n",
       "1     KR_6606820276      Gnar  False  Nidalee\n",
       "2     KR_6606823701    KSante   True  Evelynn\n",
       "3     KR_6606877275    Darius   True      Zac\n",
       "4     KR_6606923700      Yone  False   LeeSin\n",
       "...             ...       ...    ...      ...\n",
       "5912  KR_6871722335    Qiyana  False  Karthus\n",
       "5913  KR_6871725629    Aatrox  False   LeeSin\n",
       "5914  KR_6871728109  Renekton  False  Sejuani\n",
       "5915  KR_6871734464    Qiyana   True       Vi\n",
       "5916  KR_6871744855       Jax  False   Graves\n",
       "\n",
       "[5917 rows x 4 columns]"
      ]
     },
     "execution_count": 142,
     "metadata": {},
     "output_type": "execute_result"
    }
   ],
   "source": [
    "blue_df"
   ]
  },
  {
   "cell_type": "code",
   "execution_count": 139,
   "id": "48b0970d",
   "metadata": {},
   "outputs": [],
   "source": [
    "enemy_blue_df = blue_df.copy()"
   ]
  },
  {
   "cell_type": "code",
   "execution_count": 140,
   "id": "f9b257a4",
   "metadata": {},
   "outputs": [],
   "source": [
    "enemy_red_df = red_df.copy()"
   ]
  },
  {
   "cell_type": "code",
   "execution_count": 141,
   "id": "f5891da9",
   "metadata": {},
   "outputs": [],
   "source": [
    "enemy_blue_df.columns = 'gameId','enemy_t_champ','win','enemy_j_champ'\n",
    "enemy_red_df.columns = 'gameId','enemy_t_champ','win','enemy_j_champ'"
   ]
  },
  {
   "cell_type": "code",
   "execution_count": 149,
   "id": "e873d1a4",
   "metadata": {},
   "outputs": [],
   "source": [
    "team_blue = pd.merge(blue_df,enemy_red_df, on=['gameId'])\n",
    "team_red = pd.merge(red_df,enemy_blue_df, on=['gameId'])"
   ]
  },
  {
   "cell_type": "code",
   "execution_count": 155,
   "id": "ceff014b",
   "metadata": {},
   "outputs": [
    {
     "data": {
      "text/html": [
       "<div>\n",
       "<style scoped>\n",
       "    .dataframe tbody tr th:only-of-type {\n",
       "        vertical-align: middle;\n",
       "    }\n",
       "\n",
       "    .dataframe tbody tr th {\n",
       "        vertical-align: top;\n",
       "    }\n",
       "\n",
       "    .dataframe thead th {\n",
       "        text-align: right;\n",
       "    }\n",
       "</style>\n",
       "<table border=\"1\" class=\"dataframe\">\n",
       "  <thead>\n",
       "    <tr style=\"text-align: right;\">\n",
       "      <th></th>\n",
       "      <th>gameId</th>\n",
       "      <th>t_champ</th>\n",
       "      <th>win</th>\n",
       "      <th>j_champ</th>\n",
       "      <th>enemy_t_champ</th>\n",
       "      <th>enemy_j_champ</th>\n",
       "    </tr>\n",
       "  </thead>\n",
       "  <tbody>\n",
       "    <tr>\n",
       "      <th>0</th>\n",
       "      <td>KR_6606773837</td>\n",
       "      <td>Aatrox</td>\n",
       "      <td>False</td>\n",
       "      <td>LeeSin</td>\n",
       "      <td>Shyvana</td>\n",
       "      <td>Sylas</td>\n",
       "    </tr>\n",
       "    <tr>\n",
       "      <th>1</th>\n",
       "      <td>KR_6606820276</td>\n",
       "      <td>Renekton</td>\n",
       "      <td>True</td>\n",
       "      <td>Graves</td>\n",
       "      <td>Gnar</td>\n",
       "      <td>Nidalee</td>\n",
       "    </tr>\n",
       "    <tr>\n",
       "      <th>2</th>\n",
       "      <td>KR_6606823701</td>\n",
       "      <td>Illaoi</td>\n",
       "      <td>False</td>\n",
       "      <td>Hecarim</td>\n",
       "      <td>KSante</td>\n",
       "      <td>Evelynn</td>\n",
       "    </tr>\n",
       "    <tr>\n",
       "      <th>3</th>\n",
       "      <td>KR_6606877275</td>\n",
       "      <td>Irelia</td>\n",
       "      <td>False</td>\n",
       "      <td>Diana</td>\n",
       "      <td>Darius</td>\n",
       "      <td>Zac</td>\n",
       "    </tr>\n",
       "    <tr>\n",
       "      <th>4</th>\n",
       "      <td>KR_6606923700</td>\n",
       "      <td>Varus</td>\n",
       "      <td>True</td>\n",
       "      <td>Sejuani</td>\n",
       "      <td>Yone</td>\n",
       "      <td>LeeSin</td>\n",
       "    </tr>\n",
       "    <tr>\n",
       "      <th>...</th>\n",
       "      <td>...</td>\n",
       "      <td>...</td>\n",
       "      <td>...</td>\n",
       "      <td>...</td>\n",
       "      <td>...</td>\n",
       "      <td>...</td>\n",
       "    </tr>\n",
       "    <tr>\n",
       "      <th>5912</th>\n",
       "      <td>KR_6871722335</td>\n",
       "      <td>Garen</td>\n",
       "      <td>True</td>\n",
       "      <td>LeeSin</td>\n",
       "      <td>Qiyana</td>\n",
       "      <td>Karthus</td>\n",
       "    </tr>\n",
       "    <tr>\n",
       "      <th>5913</th>\n",
       "      <td>KR_6871725629</td>\n",
       "      <td>Pantheon</td>\n",
       "      <td>True</td>\n",
       "      <td>Lillia</td>\n",
       "      <td>Aatrox</td>\n",
       "      <td>LeeSin</td>\n",
       "    </tr>\n",
       "    <tr>\n",
       "      <th>5914</th>\n",
       "      <td>KR_6871728109</td>\n",
       "      <td>Nasus</td>\n",
       "      <td>True</td>\n",
       "      <td>Shaco</td>\n",
       "      <td>Renekton</td>\n",
       "      <td>Sejuani</td>\n",
       "    </tr>\n",
       "    <tr>\n",
       "      <th>5915</th>\n",
       "      <td>KR_6871734464</td>\n",
       "      <td>Nasus</td>\n",
       "      <td>False</td>\n",
       "      <td>Nocturne</td>\n",
       "      <td>Qiyana</td>\n",
       "      <td>Vi</td>\n",
       "    </tr>\n",
       "    <tr>\n",
       "      <th>5916</th>\n",
       "      <td>KR_6871744855</td>\n",
       "      <td>Teemo</td>\n",
       "      <td>True</td>\n",
       "      <td>Zac</td>\n",
       "      <td>Jax</td>\n",
       "      <td>Graves</td>\n",
       "    </tr>\n",
       "  </tbody>\n",
       "</table>\n",
       "<p>5917 rows × 6 columns</p>\n",
       "</div>"
      ],
      "text/plain": [
       "             gameId   t_champ    win   j_champ enemy_t_champ enemy_j_champ\n",
       "0     KR_6606773837    Aatrox  False    LeeSin       Shyvana         Sylas\n",
       "1     KR_6606820276  Renekton   True    Graves          Gnar       Nidalee\n",
       "2     KR_6606823701    Illaoi  False   Hecarim        KSante       Evelynn\n",
       "3     KR_6606877275    Irelia  False     Diana        Darius           Zac\n",
       "4     KR_6606923700     Varus   True   Sejuani          Yone        LeeSin\n",
       "...             ...       ...    ...       ...           ...           ...\n",
       "5912  KR_6871722335     Garen   True    LeeSin        Qiyana       Karthus\n",
       "5913  KR_6871725629  Pantheon   True    Lillia        Aatrox        LeeSin\n",
       "5914  KR_6871728109     Nasus   True     Shaco      Renekton       Sejuani\n",
       "5915  KR_6871734464     Nasus  False  Nocturne        Qiyana            Vi\n",
       "5916  KR_6871744855     Teemo   True       Zac           Jax        Graves\n",
       "\n",
       "[5917 rows x 6 columns]"
      ]
     },
     "execution_count": 155,
     "metadata": {},
     "output_type": "execute_result"
    }
   ],
   "source": [
    "team_red"
   ]
  },
  {
   "cell_type": "code",
   "execution_count": 152,
   "id": "158415ef",
   "metadata": {},
   "outputs": [],
   "source": [
    "team_red = team_red.rename(columns={'win_x':'win'})\n",
    "team_blue = team_blue.rename(columns={'win_x':'win'})"
   ]
  },
  {
   "cell_type": "code",
   "execution_count": 154,
   "id": "2018aafa",
   "metadata": {},
   "outputs": [],
   "source": [
    "team_blue = team_blue.drop(columns='win_y',axis=1)\n",
    "team_red = team_red.drop(columns='win_y',axis=1)"
   ]
  },
  {
   "cell_type": "code",
   "execution_count": 156,
   "id": "3a82b9cf",
   "metadata": {},
   "outputs": [],
   "source": [
    "tmp = pd.concat([team_red,team_blue])"
   ]
  },
  {
   "cell_type": "code",
   "execution_count": 159,
   "id": "270ae1ec",
   "metadata": {},
   "outputs": [
    {
     "data": {
      "text/html": [
       "<div>\n",
       "<style scoped>\n",
       "    .dataframe tbody tr th:only-of-type {\n",
       "        vertical-align: middle;\n",
       "    }\n",
       "\n",
       "    .dataframe tbody tr th {\n",
       "        vertical-align: top;\n",
       "    }\n",
       "\n",
       "    .dataframe thead th {\n",
       "        text-align: right;\n",
       "    }\n",
       "</style>\n",
       "<table border=\"1\" class=\"dataframe\">\n",
       "  <thead>\n",
       "    <tr style=\"text-align: right;\">\n",
       "      <th></th>\n",
       "      <th>gameId</th>\n",
       "      <th>t_champ</th>\n",
       "      <th>win</th>\n",
       "      <th>j_champ</th>\n",
       "      <th>enemy_t_champ</th>\n",
       "      <th>enemy_j_champ</th>\n",
       "    </tr>\n",
       "  </thead>\n",
       "  <tbody>\n",
       "    <tr>\n",
       "      <th>0</th>\n",
       "      <td>KR_6606773837</td>\n",
       "      <td>Aatrox</td>\n",
       "      <td>0</td>\n",
       "      <td>LeeSin</td>\n",
       "      <td>Shyvana</td>\n",
       "      <td>Sylas</td>\n",
       "    </tr>\n",
       "    <tr>\n",
       "      <th>1</th>\n",
       "      <td>KR_6606820276</td>\n",
       "      <td>Renekton</td>\n",
       "      <td>1</td>\n",
       "      <td>Graves</td>\n",
       "      <td>Gnar</td>\n",
       "      <td>Nidalee</td>\n",
       "    </tr>\n",
       "    <tr>\n",
       "      <th>2</th>\n",
       "      <td>KR_6606823701</td>\n",
       "      <td>Illaoi</td>\n",
       "      <td>0</td>\n",
       "      <td>Hecarim</td>\n",
       "      <td>KSante</td>\n",
       "      <td>Evelynn</td>\n",
       "    </tr>\n",
       "    <tr>\n",
       "      <th>3</th>\n",
       "      <td>KR_6606877275</td>\n",
       "      <td>Irelia</td>\n",
       "      <td>0</td>\n",
       "      <td>Diana</td>\n",
       "      <td>Darius</td>\n",
       "      <td>Zac</td>\n",
       "    </tr>\n",
       "    <tr>\n",
       "      <th>4</th>\n",
       "      <td>KR_6606923700</td>\n",
       "      <td>Varus</td>\n",
       "      <td>1</td>\n",
       "      <td>Sejuani</td>\n",
       "      <td>Yone</td>\n",
       "      <td>LeeSin</td>\n",
       "    </tr>\n",
       "    <tr>\n",
       "      <th>...</th>\n",
       "      <td>...</td>\n",
       "      <td>...</td>\n",
       "      <td>...</td>\n",
       "      <td>...</td>\n",
       "      <td>...</td>\n",
       "      <td>...</td>\n",
       "    </tr>\n",
       "    <tr>\n",
       "      <th>5912</th>\n",
       "      <td>KR_6871722335</td>\n",
       "      <td>Qiyana</td>\n",
       "      <td>0</td>\n",
       "      <td>Karthus</td>\n",
       "      <td>Garen</td>\n",
       "      <td>LeeSin</td>\n",
       "    </tr>\n",
       "    <tr>\n",
       "      <th>5913</th>\n",
       "      <td>KR_6871725629</td>\n",
       "      <td>Aatrox</td>\n",
       "      <td>0</td>\n",
       "      <td>LeeSin</td>\n",
       "      <td>Pantheon</td>\n",
       "      <td>Lillia</td>\n",
       "    </tr>\n",
       "    <tr>\n",
       "      <th>5914</th>\n",
       "      <td>KR_6871728109</td>\n",
       "      <td>Renekton</td>\n",
       "      <td>0</td>\n",
       "      <td>Sejuani</td>\n",
       "      <td>Nasus</td>\n",
       "      <td>Shaco</td>\n",
       "    </tr>\n",
       "    <tr>\n",
       "      <th>5915</th>\n",
       "      <td>KR_6871734464</td>\n",
       "      <td>Qiyana</td>\n",
       "      <td>1</td>\n",
       "      <td>Vi</td>\n",
       "      <td>Nasus</td>\n",
       "      <td>Nocturne</td>\n",
       "    </tr>\n",
       "    <tr>\n",
       "      <th>5916</th>\n",
       "      <td>KR_6871744855</td>\n",
       "      <td>Jax</td>\n",
       "      <td>0</td>\n",
       "      <td>Graves</td>\n",
       "      <td>Teemo</td>\n",
       "      <td>Zac</td>\n",
       "    </tr>\n",
       "  </tbody>\n",
       "</table>\n",
       "<p>11834 rows × 6 columns</p>\n",
       "</div>"
      ],
      "text/plain": [
       "             gameId   t_champ  win  j_champ enemy_t_champ enemy_j_champ\n",
       "0     KR_6606773837    Aatrox    0   LeeSin       Shyvana         Sylas\n",
       "1     KR_6606820276  Renekton    1   Graves          Gnar       Nidalee\n",
       "2     KR_6606823701    Illaoi    0  Hecarim        KSante       Evelynn\n",
       "3     KR_6606877275    Irelia    0    Diana        Darius           Zac\n",
       "4     KR_6606923700     Varus    1  Sejuani          Yone        LeeSin\n",
       "...             ...       ...  ...      ...           ...           ...\n",
       "5912  KR_6871722335    Qiyana    0  Karthus         Garen        LeeSin\n",
       "5913  KR_6871725629    Aatrox    0   LeeSin      Pantheon        Lillia\n",
       "5914  KR_6871728109  Renekton    0  Sejuani         Nasus         Shaco\n",
       "5915  KR_6871734464    Qiyana    1       Vi         Nasus      Nocturne\n",
       "5916  KR_6871744855       Jax    0   Graves         Teemo           Zac\n",
       "\n",
       "[11834 rows x 6 columns]"
      ]
     },
     "execution_count": 159,
     "metadata": {},
     "output_type": "execute_result"
    }
   ],
   "source": [
    "tmp"
   ]
  },
  {
   "cell_type": "code",
   "execution_count": 158,
   "id": "2d8eafb9",
   "metadata": {},
   "outputs": [],
   "source": [
    "tmp['win'] = tmp.apply(lambda x :1 if x.win == 'True' else 0,axis=1)"
   ]
  },
  {
   "cell_type": "code",
   "execution_count": null,
   "id": "665953f1",
   "metadata": {},
   "outputs": [],
   "source": [
    "games와 win의 횟수를 구하고 win_rate(승률) 컬럼을 추가한 result 테이블"
   ]
  },
  {
   "cell_type": "code",
   "execution_count": 160,
   "id": "dd15baa3",
   "metadata": {},
   "outputs": [],
   "source": [
    "games = tmp[['t_champ','j_champ','enemy_t_champ','enemy_j_champ','win']].groupby(['t_champ','j_champ','enemy_t_champ','enemy_j_champ']).count().rename(columns={'win':'cnt'})"
   ]
  },
  {
   "cell_type": "code",
   "execution_count": 161,
   "id": "3e5cc826",
   "metadata": {},
   "outputs": [],
   "source": [
    "win = tmp[['t_champ','j_champ','enemy_t_champ','enemy_j_champ','win']].groupby(['t_champ','j_champ','enemy_t_champ','enemy_j_champ']).sum().rename(columns={'win':'win_cnt'})"
   ]
  },
  {
   "cell_type": "code",
   "execution_count": 162,
   "id": "4e109927",
   "metadata": {},
   "outputs": [],
   "source": [
    "games = games.sort_values('cnt',ascending=False)"
   ]
  },
  {
   "cell_type": "code",
   "execution_count": 163,
   "id": "a89d6b1d",
   "metadata": {},
   "outputs": [
    {
     "data": {
      "text/html": [
       "<div>\n",
       "<style scoped>\n",
       "    .dataframe tbody tr th:only-of-type {\n",
       "        vertical-align: middle;\n",
       "    }\n",
       "\n",
       "    .dataframe tbody tr th {\n",
       "        vertical-align: top;\n",
       "    }\n",
       "\n",
       "    .dataframe thead th {\n",
       "        text-align: right;\n",
       "    }\n",
       "</style>\n",
       "<table border=\"1\" class=\"dataframe\">\n",
       "  <thead>\n",
       "    <tr style=\"text-align: right;\">\n",
       "      <th></th>\n",
       "      <th></th>\n",
       "      <th></th>\n",
       "      <th></th>\n",
       "      <th>cnt</th>\n",
       "    </tr>\n",
       "    <tr>\n",
       "      <th>t_champ</th>\n",
       "      <th>j_champ</th>\n",
       "      <th>enemy_t_champ</th>\n",
       "      <th>enemy_j_champ</th>\n",
       "      <th></th>\n",
       "    </tr>\n",
       "  </thead>\n",
       "  <tbody>\n",
       "    <tr>\n",
       "      <th>Yone</th>\n",
       "      <th>LeeSin</th>\n",
       "      <th>Aatrox</th>\n",
       "      <th>Graves</th>\n",
       "      <td>3</td>\n",
       "    </tr>\n",
       "    <tr>\n",
       "      <th>Trundle</th>\n",
       "      <th>Graves</th>\n",
       "      <th>Jax</th>\n",
       "      <th>LeeSin</th>\n",
       "      <td>3</td>\n",
       "    </tr>\n",
       "    <tr>\n",
       "      <th>Aatrox</th>\n",
       "      <th>Graves</th>\n",
       "      <th>Jax</th>\n",
       "      <th>LeeSin</th>\n",
       "      <td>3</td>\n",
       "    </tr>\n",
       "    <tr>\n",
       "      <th>Jax</th>\n",
       "      <th>LeeSin</th>\n",
       "      <th>Trundle</th>\n",
       "      <th>Graves</th>\n",
       "      <td>3</td>\n",
       "    </tr>\n",
       "    <tr>\n",
       "      <th>Aatrox</th>\n",
       "      <th>Graves</th>\n",
       "      <th>Yone</th>\n",
       "      <th>LeeSin</th>\n",
       "      <td>3</td>\n",
       "    </tr>\n",
       "    <tr>\n",
       "      <th>...</th>\n",
       "      <th>...</th>\n",
       "      <th>...</th>\n",
       "      <th>...</th>\n",
       "      <td>...</td>\n",
       "    </tr>\n",
       "    <tr>\n",
       "      <th rowspan=\"4\" valign=\"top\">Irelia</th>\n",
       "      <th rowspan=\"4\" valign=\"top\">Kayn</th>\n",
       "      <th>Gwen</th>\n",
       "      <th>Shaco</th>\n",
       "      <td>1</td>\n",
       "    </tr>\n",
       "    <tr>\n",
       "      <th>Jax</th>\n",
       "      <th>LeeSin</th>\n",
       "      <td>1</td>\n",
       "    </tr>\n",
       "    <tr>\n",
       "      <th>Nasus</th>\n",
       "      <th>MonkeyKing</th>\n",
       "      <td>1</td>\n",
       "    </tr>\n",
       "    <tr>\n",
       "      <th>Renekton</th>\n",
       "      <th>Shaco</th>\n",
       "      <td>1</td>\n",
       "    </tr>\n",
       "    <tr>\n",
       "      <th>Zilean</th>\n",
       "      <th>Rammus</th>\n",
       "      <th>Jax</th>\n",
       "      <th>Nocturne</th>\n",
       "      <td>1</td>\n",
       "    </tr>\n",
       "  </tbody>\n",
       "</table>\n",
       "<p>11686 rows × 1 columns</p>\n",
       "</div>"
      ],
      "text/plain": [
       "                                             cnt\n",
       "t_champ j_champ enemy_t_champ enemy_j_champ     \n",
       "Yone    LeeSin  Aatrox        Graves           3\n",
       "Trundle Graves  Jax           LeeSin           3\n",
       "Aatrox  Graves  Jax           LeeSin           3\n",
       "Jax     LeeSin  Trundle       Graves           3\n",
       "Aatrox  Graves  Yone          LeeSin           3\n",
       "...                                          ...\n",
       "Irelia  Kayn    Gwen          Shaco            1\n",
       "                Jax           LeeSin           1\n",
       "                Nasus         MonkeyKing       1\n",
       "                Renekton      Shaco            1\n",
       "Zilean  Rammus  Jax           Nocturne         1\n",
       "\n",
       "[11686 rows x 1 columns]"
      ]
     },
     "execution_count": 163,
     "metadata": {},
     "output_type": "execute_result"
    }
   ],
   "source": [
    "games"
   ]
  },
  {
   "cell_type": "code",
   "execution_count": 164,
   "id": "d9756350",
   "metadata": {},
   "outputs": [],
   "source": [
    "win = win.sort_values('win_cnt',ascending=False)"
   ]
  },
  {
   "cell_type": "code",
   "execution_count": 166,
   "id": "8cfb2bea",
   "metadata": {},
   "outputs": [],
   "source": [
    "result = games.join(win)"
   ]
  },
  {
   "cell_type": "code",
   "execution_count": 167,
   "id": "003aed7b",
   "metadata": {},
   "outputs": [
    {
     "data": {
      "text/html": [
       "<div>\n",
       "<style scoped>\n",
       "    .dataframe tbody tr th:only-of-type {\n",
       "        vertical-align: middle;\n",
       "    }\n",
       "\n",
       "    .dataframe tbody tr th {\n",
       "        vertical-align: top;\n",
       "    }\n",
       "\n",
       "    .dataframe thead th {\n",
       "        text-align: right;\n",
       "    }\n",
       "</style>\n",
       "<table border=\"1\" class=\"dataframe\">\n",
       "  <thead>\n",
       "    <tr style=\"text-align: right;\">\n",
       "      <th></th>\n",
       "      <th></th>\n",
       "      <th></th>\n",
       "      <th></th>\n",
       "      <th>cnt</th>\n",
       "      <th>win_cnt</th>\n",
       "    </tr>\n",
       "    <tr>\n",
       "      <th>t_champ</th>\n",
       "      <th>j_champ</th>\n",
       "      <th>enemy_t_champ</th>\n",
       "      <th>enemy_j_champ</th>\n",
       "      <th></th>\n",
       "      <th></th>\n",
       "    </tr>\n",
       "  </thead>\n",
       "  <tbody>\n",
       "    <tr>\n",
       "      <th>Yone</th>\n",
       "      <th>LeeSin</th>\n",
       "      <th>Aatrox</th>\n",
       "      <th>Graves</th>\n",
       "      <td>3</td>\n",
       "      <td>2</td>\n",
       "    </tr>\n",
       "    <tr>\n",
       "      <th>Trundle</th>\n",
       "      <th>Graves</th>\n",
       "      <th>Jax</th>\n",
       "      <th>LeeSin</th>\n",
       "      <td>3</td>\n",
       "      <td>1</td>\n",
       "    </tr>\n",
       "    <tr>\n",
       "      <th>Aatrox</th>\n",
       "      <th>Graves</th>\n",
       "      <th>Jax</th>\n",
       "      <th>LeeSin</th>\n",
       "      <td>3</td>\n",
       "      <td>1</td>\n",
       "    </tr>\n",
       "    <tr>\n",
       "      <th>Jax</th>\n",
       "      <th>LeeSin</th>\n",
       "      <th>Trundle</th>\n",
       "      <th>Graves</th>\n",
       "      <td>3</td>\n",
       "      <td>2</td>\n",
       "    </tr>\n",
       "    <tr>\n",
       "      <th>Aatrox</th>\n",
       "      <th>Graves</th>\n",
       "      <th>Yone</th>\n",
       "      <th>LeeSin</th>\n",
       "      <td>3</td>\n",
       "      <td>1</td>\n",
       "    </tr>\n",
       "    <tr>\n",
       "      <th>...</th>\n",
       "      <th>...</th>\n",
       "      <th>...</th>\n",
       "      <th>...</th>\n",
       "      <td>...</td>\n",
       "      <td>...</td>\n",
       "    </tr>\n",
       "    <tr>\n",
       "      <th rowspan=\"4\" valign=\"top\">Irelia</th>\n",
       "      <th rowspan=\"4\" valign=\"top\">Kayn</th>\n",
       "      <th>Gwen</th>\n",
       "      <th>Shaco</th>\n",
       "      <td>1</td>\n",
       "      <td>0</td>\n",
       "    </tr>\n",
       "    <tr>\n",
       "      <th>Jax</th>\n",
       "      <th>LeeSin</th>\n",
       "      <td>1</td>\n",
       "      <td>0</td>\n",
       "    </tr>\n",
       "    <tr>\n",
       "      <th>Nasus</th>\n",
       "      <th>MonkeyKing</th>\n",
       "      <td>1</td>\n",
       "      <td>1</td>\n",
       "    </tr>\n",
       "    <tr>\n",
       "      <th>Renekton</th>\n",
       "      <th>Shaco</th>\n",
       "      <td>1</td>\n",
       "      <td>1</td>\n",
       "    </tr>\n",
       "    <tr>\n",
       "      <th>Zilean</th>\n",
       "      <th>Rammus</th>\n",
       "      <th>Jax</th>\n",
       "      <th>Nocturne</th>\n",
       "      <td>1</td>\n",
       "      <td>1</td>\n",
       "    </tr>\n",
       "  </tbody>\n",
       "</table>\n",
       "<p>11686 rows × 2 columns</p>\n",
       "</div>"
      ],
      "text/plain": [
       "                                             cnt  win_cnt\n",
       "t_champ j_champ enemy_t_champ enemy_j_champ              \n",
       "Yone    LeeSin  Aatrox        Graves           3        2\n",
       "Trundle Graves  Jax           LeeSin           3        1\n",
       "Aatrox  Graves  Jax           LeeSin           3        1\n",
       "Jax     LeeSin  Trundle       Graves           3        2\n",
       "Aatrox  Graves  Yone          LeeSin           3        1\n",
       "...                                          ...      ...\n",
       "Irelia  Kayn    Gwen          Shaco            1        0\n",
       "                Jax           LeeSin           1        0\n",
       "                Nasus         MonkeyKing       1        1\n",
       "                Renekton      Shaco            1        1\n",
       "Zilean  Rammus  Jax           Nocturne         1        1\n",
       "\n",
       "[11686 rows x 2 columns]"
      ]
     },
     "execution_count": 167,
     "metadata": {},
     "output_type": "execute_result"
    }
   ],
   "source": [
    "result"
   ]
  },
  {
   "cell_type": "code",
   "execution_count": null,
   "id": "3e2a4490",
   "metadata": {},
   "outputs": [],
   "source": [
    "win"
   ]
  },
  {
   "cell_type": "code",
   "execution_count": null,
   "id": "e3985b1e",
   "metadata": {},
   "outputs": [],
   "source": [
    "result"
   ]
  },
  {
   "cell_type": "code",
   "execution_count": 168,
   "id": "bca76efc",
   "metadata": {},
   "outputs": [],
   "source": [
    "result['win_rate'] = result.apply(lambda x: x.win_cnt/x.cnt, axis=1)"
   ]
  },
  {
   "cell_type": "code",
   "execution_count": 169,
   "id": "036ec719",
   "metadata": {},
   "outputs": [
    {
     "data": {
      "text/html": [
       "<div>\n",
       "<style scoped>\n",
       "    .dataframe tbody tr th:only-of-type {\n",
       "        vertical-align: middle;\n",
       "    }\n",
       "\n",
       "    .dataframe tbody tr th {\n",
       "        vertical-align: top;\n",
       "    }\n",
       "\n",
       "    .dataframe thead th {\n",
       "        text-align: right;\n",
       "    }\n",
       "</style>\n",
       "<table border=\"1\" class=\"dataframe\">\n",
       "  <thead>\n",
       "    <tr style=\"text-align: right;\">\n",
       "      <th></th>\n",
       "      <th></th>\n",
       "      <th></th>\n",
       "      <th></th>\n",
       "      <th>cnt</th>\n",
       "      <th>win_cnt</th>\n",
       "      <th>win_rate</th>\n",
       "    </tr>\n",
       "    <tr>\n",
       "      <th>t_champ</th>\n",
       "      <th>j_champ</th>\n",
       "      <th>enemy_t_champ</th>\n",
       "      <th>enemy_j_champ</th>\n",
       "      <th></th>\n",
       "      <th></th>\n",
       "      <th></th>\n",
       "    </tr>\n",
       "  </thead>\n",
       "  <tbody>\n",
       "    <tr>\n",
       "      <th>Yone</th>\n",
       "      <th>LeeSin</th>\n",
       "      <th>Aatrox</th>\n",
       "      <th>Graves</th>\n",
       "      <td>3</td>\n",
       "      <td>2</td>\n",
       "      <td>0.666667</td>\n",
       "    </tr>\n",
       "    <tr>\n",
       "      <th>Trundle</th>\n",
       "      <th>Graves</th>\n",
       "      <th>Jax</th>\n",
       "      <th>LeeSin</th>\n",
       "      <td>3</td>\n",
       "      <td>1</td>\n",
       "      <td>0.333333</td>\n",
       "    </tr>\n",
       "    <tr>\n",
       "      <th>Aatrox</th>\n",
       "      <th>Graves</th>\n",
       "      <th>Jax</th>\n",
       "      <th>LeeSin</th>\n",
       "      <td>3</td>\n",
       "      <td>1</td>\n",
       "      <td>0.333333</td>\n",
       "    </tr>\n",
       "    <tr>\n",
       "      <th>Jax</th>\n",
       "      <th>LeeSin</th>\n",
       "      <th>Trundle</th>\n",
       "      <th>Graves</th>\n",
       "      <td>3</td>\n",
       "      <td>2</td>\n",
       "      <td>0.666667</td>\n",
       "    </tr>\n",
       "    <tr>\n",
       "      <th>Aatrox</th>\n",
       "      <th>Graves</th>\n",
       "      <th>Yone</th>\n",
       "      <th>LeeSin</th>\n",
       "      <td>3</td>\n",
       "      <td>1</td>\n",
       "      <td>0.333333</td>\n",
       "    </tr>\n",
       "    <tr>\n",
       "      <th>...</th>\n",
       "      <th>...</th>\n",
       "      <th>...</th>\n",
       "      <th>...</th>\n",
       "      <td>...</td>\n",
       "      <td>...</td>\n",
       "      <td>...</td>\n",
       "    </tr>\n",
       "    <tr>\n",
       "      <th rowspan=\"4\" valign=\"top\">Irelia</th>\n",
       "      <th rowspan=\"4\" valign=\"top\">Kayn</th>\n",
       "      <th>Gwen</th>\n",
       "      <th>Shaco</th>\n",
       "      <td>1</td>\n",
       "      <td>0</td>\n",
       "      <td>0.000000</td>\n",
       "    </tr>\n",
       "    <tr>\n",
       "      <th>Jax</th>\n",
       "      <th>LeeSin</th>\n",
       "      <td>1</td>\n",
       "      <td>0</td>\n",
       "      <td>0.000000</td>\n",
       "    </tr>\n",
       "    <tr>\n",
       "      <th>Nasus</th>\n",
       "      <th>MonkeyKing</th>\n",
       "      <td>1</td>\n",
       "      <td>1</td>\n",
       "      <td>1.000000</td>\n",
       "    </tr>\n",
       "    <tr>\n",
       "      <th>Renekton</th>\n",
       "      <th>Shaco</th>\n",
       "      <td>1</td>\n",
       "      <td>1</td>\n",
       "      <td>1.000000</td>\n",
       "    </tr>\n",
       "    <tr>\n",
       "      <th>Zilean</th>\n",
       "      <th>Rammus</th>\n",
       "      <th>Jax</th>\n",
       "      <th>Nocturne</th>\n",
       "      <td>1</td>\n",
       "      <td>1</td>\n",
       "      <td>1.000000</td>\n",
       "    </tr>\n",
       "  </tbody>\n",
       "</table>\n",
       "<p>11686 rows × 3 columns</p>\n",
       "</div>"
      ],
      "text/plain": [
       "                                             cnt  win_cnt  win_rate\n",
       "t_champ j_champ enemy_t_champ enemy_j_champ                        \n",
       "Yone    LeeSin  Aatrox        Graves           3        2  0.666667\n",
       "Trundle Graves  Jax           LeeSin           3        1  0.333333\n",
       "Aatrox  Graves  Jax           LeeSin           3        1  0.333333\n",
       "Jax     LeeSin  Trundle       Graves           3        2  0.666667\n",
       "Aatrox  Graves  Yone          LeeSin           3        1  0.333333\n",
       "...                                          ...      ...       ...\n",
       "Irelia  Kayn    Gwen          Shaco            1        0  0.000000\n",
       "                Jax           LeeSin           1        0  0.000000\n",
       "                Nasus         MonkeyKing       1        1  1.000000\n",
       "                Renekton      Shaco            1        1  1.000000\n",
       "Zilean  Rammus  Jax           Nocturne         1        1  1.000000\n",
       "\n",
       "[11686 rows x 3 columns]"
      ]
     },
     "execution_count": 169,
     "metadata": {},
     "output_type": "execute_result"
    }
   ],
   "source": [
    "result"
   ]
  }
 ],
 "metadata": {
  "kernelspec": {
   "display_name": "Python 3 (ipykernel)",
   "language": "python",
   "name": "python3"
  },
  "language_info": {
   "codemirror_mode": {
    "name": "ipython",
    "version": 3
   },
   "file_extension": ".py",
   "mimetype": "text/x-python",
   "name": "python",
   "nbconvert_exporter": "python",
   "pygments_lexer": "ipython3",
   "version": "3.11.5"
  }
 },
 "nbformat": 4,
 "nbformat_minor": 5
}
