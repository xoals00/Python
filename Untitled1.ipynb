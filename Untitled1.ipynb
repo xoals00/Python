{
 "cells": [
  {
   "cell_type": "code",
   "execution_count": 2,
   "id": "e2c1d01f",
   "metadata": {},
   "outputs": [],
   "source": [
    "import pandas as pd\n",
    "from my_utils_copy import *\n",
    "import matplotlib.pyplot as plt\n",
    "from matplotlib import font_manager, rc\n",
    "import numpy as np\n",
    "import seaborn as sns"
   ]
  },
  {
   "cell_type": "code",
   "execution_count": null,
   "id": "f545332e",
   "metadata": {},
   "outputs": [],
   "source": [
    "df_BRONZE = get_rawdata('BRONZE')"
   ]
  },
  {
   "cell_type": "code",
   "execution_count": null,
   "id": "58ddc5be",
   "metadata": {},
   "outputs": [],
   "source": [
    "df_IRON = df"
   ]
  },
  {
   "cell_type": "code",
   "execution_count": null,
   "id": "f4bcc126",
   "metadata": {},
   "outputs": [],
   "source": [
    "df_IRON['matches'][1]['info']['participants'][0]['summonerName']"
   ]
  },
  {
   "cell_type": "code",
   "execution_count": null,
   "id": "146a3f7d",
   "metadata": {},
   "outputs": [],
   "source": [
    "df_BRONZE = get_rawdata('BRONZE')"
   ]
  },
  {
   "cell_type": "code",
   "execution_count": null,
   "id": "4fa1e070",
   "metadata": {},
   "outputs": [],
   "source": [
    "df_BRONZE"
   ]
  },
  {
   "cell_type": "code",
   "execution_count": null,
   "id": "2971ca8d",
   "metadata": {},
   "outputs": [],
   "source": [
    "df_SILVER = get_rawdata('SILVER')"
   ]
  },
  {
   "cell_type": "code",
   "execution_count": null,
   "id": "83a96458",
   "metadata": {},
   "outputs": [],
   "source": [
    "df_SILVER"
   ]
  },
  {
   "cell_type": "code",
   "execution_count": null,
   "id": "ed25897a",
   "metadata": {},
   "outputs": [],
   "source": [
    "df_GOLD = get_rawdata('GOLD')"
   ]
  },
  {
   "cell_type": "code",
   "execution_count": null,
   "id": "979d28de",
   "metadata": {},
   "outputs": [],
   "source": [
    "df_GOLD"
   ]
  },
  {
   "cell_type": "code",
   "execution_count": null,
   "id": "105b4379",
   "metadata": {},
   "outputs": [],
   "source": [
    "df_PLATINUM = get_rawdata('PLATINUM')"
   ]
  },
  {
   "cell_type": "code",
   "execution_count": null,
   "id": "94003859",
   "metadata": {},
   "outputs": [],
   "source": [
    "df_PLATINUM"
   ]
  },
  {
   "cell_type": "code",
   "execution_count": null,
   "id": "c921120f",
   "metadata": {},
   "outputs": [],
   "source": [
    "df_EMERALD = get_rawdata('EMERALD')"
   ]
  },
  {
   "cell_type": "code",
   "execution_count": null,
   "id": "7bf7965e",
   "metadata": {},
   "outputs": [],
   "source": [
    "df_EMERALD"
   ]
  },
  {
   "cell_type": "code",
   "execution_count": null,
   "id": "07a4b6a9",
   "metadata": {},
   "outputs": [],
   "source": [
    "df_DIAMOND = get_rawdata('DIAMOND')"
   ]
  },
  {
   "cell_type": "code",
   "execution_count": null,
   "id": "8fe460a2",
   "metadata": {},
   "outputs": [],
   "source": [
    "df_DIAMOND"
   ]
  },
  {
   "cell_type": "code",
   "execution_count": 3,
   "id": "d5166e2d",
   "metadata": {},
   "outputs": [],
   "source": [
    "query_mysql = \"\"\"\n",
    "create table lol_datas_final(gameId varchar(30), gameDuration int, allInPings int, assistMePings int, baitPings int,basicPings int,commandPings int,dangerPings int,enemyMissingPings int, getBackPings int,holdPings int, needVisionPings int, onMyWayPings int,pushPings int, visionClearedPings int ,summonerName varchar(50),\n",
    "summonerLevel int, participantId int, championName varchar(50), champExperience int,\n",
    "teamPosition varchar(50), teamId int, win varchar(50), kills int, deaths int, assists int,\n",
    "totalDamageDealtToChampions int ,totalDamageTaken int, g_2 int, g_3 int, g_4 int, g_5 int,g_6 int,g_7 int,\n",
    "g_8 int,g_9 int,g_10 int,g_11 int,g_12 int,g_13 int,g_14 int,\n",
    "g_15 int,g_16 int,g_17 int,g_18 int,g_19 int,g_20 int, Sum_Selected int, tier varchar(10)\n",
    ")\n",
    "\"\"\""
   ]
  },
  {
   "cell_type": "code",
   "execution_count": 4,
   "id": "33c336ae",
   "metadata": {},
   "outputs": [],
   "source": [
    "conn = connect_mysql()"
   ]
  },
  {
   "cell_type": "code",
   "execution_count": 5,
   "id": "fa85380d",
   "metadata": {},
   "outputs": [
    {
     "data": {
      "text/plain": [
       "()"
      ]
     },
     "execution_count": 5,
     "metadata": {},
     "output_type": "execute_result"
    }
   ],
   "source": [
    "sql_execute(conn,query_mysql)"
   ]
  },
  {
   "cell_type": "code",
   "execution_count": 6,
   "id": "5c97d335",
   "metadata": {},
   "outputs": [
    {
     "ename": "NameError",
     "evalue": "name 'df' is not defined",
     "output_type": "error",
     "traceback": [
      "\u001b[1;31m---------------------------------------------------------------------------\u001b[0m",
      "\u001b[1;31mNameError\u001b[0m                                 Traceback (most recent call last)",
      "Cell \u001b[1;32mIn[6], line 1\u001b[0m\n\u001b[1;32m----> 1\u001b[0m df\u001b[38;5;241m.\u001b[39miloc[\u001b[38;5;241m0\u001b[39m]\u001b[38;5;241m.\u001b[39mmatches[\u001b[38;5;124m'\u001b[39m\u001b[38;5;124minfo\u001b[39m\u001b[38;5;124m'\u001b[39m][\u001b[38;5;124m'\u001b[39m\u001b[38;5;124mparticipants\u001b[39m\u001b[38;5;124m'\u001b[39m]\n",
      "\u001b[1;31mNameError\u001b[0m: name 'df' is not defined"
     ]
    }
   ],
   "source": [
    "df.iloc[0].matches['info']['participants']"
   ]
  },
  {
   "cell_type": "code",
   "execution_count": null,
   "id": "2a1b937f",
   "metadata": {},
   "outputs": [],
   "source": [
    "df.iloc[i].timelines['info']['frames'][2]['participantFrames'][str(9)]['totalGold']"
   ]
  },
  {
   "cell_type": "code",
   "execution_count": 15,
   "id": "233ab9f4",
   "metadata": {},
   "outputs": [],
   "source": [
    "def lane_processing(tower_lane, tower_team, lane, team):\n",
    "    if (tower_lane[0] == lane[0]) and (tower_team == team):\n",
    "        return 1\n",
    "    else:\n",
    "        return 0"
   ]
  },
  {
   "cell_type": "code",
   "execution_count": 16,
   "id": "0dda66fe",
   "metadata": {},
   "outputs": [],
   "source": [
    "def assi_calc(y):\n",
    "    try:\n",
    "        return ','.join(list(map(lambda x: str(x), y['assistingParticipantIds'])))\n",
    "    except:\n",
    "        return ''"
   ]
  },
  {
   "cell_type": "code",
   "execution_count": 17,
   "id": "14db4fb8",
   "metadata": {},
   "outputs": [
    {
     "ename": "NameError",
     "evalue": "name 'df' is not defined",
     "output_type": "error",
     "traceback": [
      "\u001b[1;31m---------------------------------------------------------------------------\u001b[0m",
      "\u001b[1;31mNameError\u001b[0m                                 Traceback (most recent call last)",
      "Cell \u001b[1;32mIn[17], line 2\u001b[0m\n\u001b[0;32m      1\u001b[0m df_creates \u001b[38;5;241m=\u001b[39m []\n\u001b[1;32m----> 2\u001b[0m \u001b[38;5;28;01mfor\u001b[39;00m i \u001b[38;5;129;01min\u001b[39;00m \u001b[38;5;28mrange\u001b[39m(\u001b[38;5;28mlen\u001b[39m(df)):\n\u001b[0;32m      3\u001b[0m     \u001b[38;5;28;01mtry\u001b[39;00m:\n\u001b[0;32m      4\u001b[0m         match \u001b[38;5;241m=\u001b[39m df\u001b[38;5;241m.\u001b[39miloc[i]\u001b[38;5;241m.\u001b[39mmatches[\u001b[38;5;124m'\u001b[39m\u001b[38;5;124minfo\u001b[39m\u001b[38;5;124m'\u001b[39m][\u001b[38;5;124m'\u001b[39m\u001b[38;5;124mparticipants\u001b[39m\u001b[38;5;124m'\u001b[39m]\n",
      "\u001b[1;31mNameError\u001b[0m: name 'df' is not defined"
     ]
    }
   ],
   "source": [
    "df_creates = []\n",
    "for i in range(len(df)):\n",
    "    try:\n",
    "        match = df.iloc[i].matches['info']['participants']\n",
    "        for j in range(len(match)):\n",
    "            match_id = df.iloc[i].match_id\n",
    "            game_duration = df.iloc[i].matches['info']['gameDuration']\n",
    "            game_version = df.iloc[i].matches['info']['gameVersion']\n",
    "            try:\n",
    "                riotIdGameName = match[j]['riotIdGameName']\n",
    "            except:\n",
    "                riotIdGameName = ''\n",
    "            try:\n",
    "                riotIdTagline = match[j]['riotIdTagline']\n",
    "            except:\n",
    "                riotIdTagline = ''\n",
    "            summoner_level = match[j]['summonerLevel']\n",
    "            participants_id = match[j]['participantId']\n",
    "            champion_name = match[j]['championName']\n",
    "            champ_experience = match[j]['champExperience']\n",
    "            team_position = match[j]['teamPosition']\n",
    "            team_id = match[j]['teamId']\n",
    "            win = match[j]['win']\n",
    "            kills = match[j]['kills']\n",
    "            deaths = match[j]['deaths']\n",
    "            assists = match[j]['assists']\n",
    "            total_damage_dealt = match[j]['totalDamageDealtToChampions']\n",
    "            total_damage_taken = match[j]['totalDamageTaken']\n",
    "\n",
    "\n",
    "            df_list = list(map(lambda x: x['events'],df.iloc[i].timelines['info']['frames']))\n",
    "            event_list = [element for array in df_list for element in array]\n",
    "            tower_log = list(filter(lambda x:x['type'] == 'BUILDING_KILL' ,event_list))\n",
    "\n",
    "            try:\n",
    "                ft_tower_lane = tower_log[0]['laneType']\n",
    "                ft_tower_team = tower_log[0]['teamId']\n",
    "            except:\n",
    "                ft_tower_lane = 'n'\n",
    "                ft_tower_team = 'n'\n",
    "            ft = lane_processing(ft_tower_lane,ft_tower_team,team_position,team_id)\n",
    "\n",
    "            tower_tmp = list(map(lambda x: (x['laneType'],x['teamId'],x['timestamp']) ,tower_log))\n",
    "\n",
    "            try:\n",
    "                laneTower = list(filter(lambda x:(x[0][0] == team_position[0]) & (x[1] == team_id) ,tower_tmp))[0]\n",
    "                lane_flag = 1\n",
    "                laneTowerTime = laneTower[-1]\n",
    "            except:\n",
    "                lane_flag = 0\n",
    "                laneTowerTime = 0\n",
    "            \n",
    "            blue_ban = list(map(lambda x: str(x['championId']) ,df.iloc[i].matches['info']['teams'][0]['bans']))\n",
    "            red_ban = list(map(lambda x: str(x['championId']) ,df.iloc[i].matches['info']['teams'][1]['bans']))\n",
    "            ban_list = '|'.join(list(set(blue_ban + red_ban)))\n",
    "            \n",
    "            \n",
    "            kill_log = list(map(lambda x: list(filter(lambda z: z['type']=='CHAMPION_KILL',x['events'])),df.iloc[i].timelines['info']['frames']))\n",
    "            kill_log = [element for array in kill_log for element in array]\n",
    "            k = '|'.join(list(map(lambda x : str(x['killerId']) , kill_log)))\n",
    "            v = '|'.join(list(map(lambda x :str(x['victimId']), kill_log)))\n",
    "            a = '|'.join(list(map(lambda x : assi_calc(x) ,kill_log)))\n",
    "            \n",
    "            try:\n",
    "                g15 = df.iloc[i].timelines['info']['frames'][15]['participantFrames'][(str(j+1))]['totalGold']\n",
    "            except:\n",
    "                g15 = 0\n",
    "        \n",
    "            df_creates.append([match_id,game_duration,game_version,riotIdGameName,riotIdTagline,summoner_level,participants_id,\n",
    "                              champion_name,champ_experience,team_position,team_id,win,kills,deaths,assists,total_damage_dealt,total_damage_taken,\n",
    "                              ft,lane_flag,laneTowerTime,ban_list,k,v,a,g15])\n",
    "    except:\n",
    "        continue\n",
    "columns =['matchId', 'gameDuration', 'gameVersion', 'riotIdGameName','riotIdTagline', \n",
    "           'summonerLevel', 'participantId', 'championName', 'champExperience', \n",
    "           'teamPosition', 'teamId', 'win', 'kills', 'deaths', 'assists', 'totalDamageDealtToChampions', 'totalDamageTaken',\n",
    "         'firstDT','laneTower','LaneTowerTime','bans','killerId','victimId','assistId','G15']\n",
    "df2 = pd.DataFrame(df_creates , columns = columns)"
   ]
  },
  {
   "cell_type": "code",
   "execution_count": null,
   "id": "237cc10c",
   "metadata": {},
   "outputs": [],
   "source": [
    "df2"
   ]
  },
  {
   "cell_type": "code",
   "execution_count": 14,
   "id": "8b3d1ba7",
   "metadata": {},
   "outputs": [],
   "source": [
    "def get_match_timeline_df(df):\n",
    "    # df를 한개로 만들기\n",
    "    df_creater = []\n",
    "    print('소환사 스텟 생성중.....')\n",
    "    for i in tqdm(range(len(df))):       \n",
    "        # matches 관련된 데이터 \n",
    "        try:\n",
    "            if df.iloc[i].matches['info']['gameDuration'] > 900:   # 게임시간이 15분이 안넘을경우에는 패스하기\n",
    "                for j in range(10):\n",
    "                    tmp = []\n",
    "                    tmp.append(df.iloc[i].match_id)\n",
    "                    tmp.append(df.iloc[i].matches['info']['gameDuration'])\n",
    "                    tmp.append(df.iloc[i].matches['info']['gameVersion'])\n",
    "                    tmp.append(df.iloc[i].matches['info']['participants'][j]['summonerName'])\n",
    "                    tmp.append(df.iloc[i].matches['info']['participants'][j]['summonerLevel'])\n",
    "                    tmp.append(df.iloc[i].matches['info']['participants'][j]['participantId'])\n",
    "                    tmp.append(df.iloc[i].matches['info']['participants'][j]['championName'])\n",
    "                    tmp.append(df.iloc[i].matches['info']['participants'][j]['champExperience'])\n",
    "                    tmp.append(df.iloc[i].matches['info']['participants'][j]['teamPosition'])\n",
    "                    tmp.append(df.iloc[i].matches['info']['participants'][j]['teamId'])\n",
    "                    tmp.append(df.iloc[i].matches['info']['participants'][j]['win'])\n",
    "                    tmp.append(df.iloc[i].matches['info']['participants'][j]['kills'])\n",
    "                    tmp.append(df.iloc[i].matches['info']['participants'][j]['deaths'])\n",
    "                    tmp.append(df.iloc[i].matches['info']['participants'][j]['assists'])\n",
    "                    tmp.append(df.iloc[i].matches['info']['participants'][j]['totalDamageDealtToChampions'])\n",
    "                    tmp.append(df.iloc[i].matches['info']['participants'][j]['totalDamageTaken'])\n",
    "            #timeline 관련된 데이터\n",
    "                    for k in range(5,26):\n",
    "                        try:\n",
    "                            tmp.append(df.iloc[i].timeline['info']['frames'][k]['participantFrames'][str(j+1)]['totalGold'])\n",
    "                        except:\n",
    "                            tmp.append(0)\n",
    "                    df_creater.append(tmp)\n",
    "        except:\n",
    "            print(i)\n",
    "            continue\n",
    "    columns = ['gameId','gameDuration','gameVersion','summonerName','summonerLevel','participantId','championName','champExperience',\n",
    "    'teamPosition','teamId','win','kills','deaths','assists','totalDamageDealtToChampions','totalDamageTaken','g_5','g_6','g_7','g_8','g_9','g_10','g_11','g_12','g_13','g_14','g_15','g_16','g_17',\n",
    "    'g_18','g_19','g_20','g_21','g_22','g_23','g_24','g_25']\n",
    "    df = pd.DataFrame(df_creater,columns = columns).drop_duplicates()\n",
    "    print('df 제작이 완료되었습니다. 현재 df의 수는 %d 입니다'%len(df))\n",
    "    return df"
   ]
  },
  {
   "cell_type": "code",
   "execution_count": 18,
   "id": "fb3c49c4",
   "metadata": {},
   "outputs": [
    {
     "ename": "NameError",
     "evalue": "name 'df' is not defined",
     "output_type": "error",
     "traceback": [
      "\u001b[1;31m---------------------------------------------------------------------------\u001b[0m",
      "\u001b[1;31mNameError\u001b[0m                                 Traceback (most recent call last)",
      "Cell \u001b[1;32mIn[18], line 1\u001b[0m\n\u001b[1;32m----> 1\u001b[0m df\n",
      "\u001b[1;31mNameError\u001b[0m: name 'df' is not defined"
     ]
    }
   ],
   "source": [
    "df"
   ]
  },
  {
   "cell_type": "code",
   "execution_count": 19,
   "id": "222c5d20",
   "metadata": {},
   "outputs": [],
   "source": [
    "def insert_matches_timeline_mysql(row,conn):\n",
    "    # lambda를 이용해서 progress_apply를 통해 insert할 구문 만들기\n",
    "    query = (\n",
    "             f'insert into lol_datas_IRON(gameId, gameDuration, gameVersion, summonerName, summonerLevel, participantId,'\n",
    "             f'championName, champExperience, teamPosition, teamId, win, kills, deaths, assists,'\n",
    "             f'totalDamageDealtToChampions, totalDamageTaken, g_5, g_6, g_7, g_8, g_9, g_10, g_11, g_12 ,g_13,g_14,'\n",
    "             f'g_15, g_16, g_17, g_18, g_19, g_20, g_21, g_22, g_23, g_24, g_25)'\n",
    "             f'values(\\'{row.gameId}\\',{row.gameDuration}, \\'{row.gameVersion}\\', \\'{row.summonerName}\\','\n",
    "             f'{row.summonerLevel}, {row.participantId},\\'{row.championName}\\',{row.champExperience},'\n",
    "             f'\\'{row.teamPosition}\\', {row.teamId}, \\'{row.win}\\', {row. kills}, {row.deaths}, {row.assists},'\n",
    "             f'{row.totalDamageDealtToChampions},{row.totalDamageTaken},{row.g_5},{row.g_6},{row.g_7},{row.g_8},'\n",
    "             f'{row.g_9},{row.g_10},{row.g_11},{row.g_12},{row.g_13},{row.g_14},{row.g_15},{row.g_16},{row.g_17},'\n",
    "             f'{row.g_18},{row.g_19},{row.g_20},{row.g_21},{row.g_22},{row.g_23},{row.g_24},{row.g_25})'\n",
    "             f'ON DUPLICATE KEY UPDATE '\n",
    "             f'gameId = \\'{row.gameId}\\', gameDuration = {row.gameDuration}, gameVersion = \\'{row.gameVersion}\\', summonerName= \\'{row.summonerName}\\','\n",
    "             f'summonerLevel = {row.summonerLevel},participantId = {row.participantId},championName = \\'{row.championName}\\','\n",
    "             f'champExperience = {row.champExperience}, teamPosition = \\'{row.teamPosition}\\', teamId = {row.teamId},win = \\'{row.win}\\','\n",
    "             f'kills = {row. kills}, deaths = {row.deaths}, assists = {row.assists}, totalDamageDealtToChampions = {row.totalDamageDealtToChampions},'\n",
    "             f'totalDamageTaken = {row.totalDamageTaken},g_5 = {row.g_5},g_6 = {row.g_6},g_7 = {row.g_7},g_8 = {row.g_8},g_9 = {row.g_9},'\n",
    "             f'g_10 = {row.g_10},g_11 = {row.g_11},g_12 = {row.g_12},g_13 = {row.g_13},g_14 = {row.g_14},g_15 = {row.g_15},g_16 = {row.g_16},g_17 = {row.g_17},'\n",
    "             f'g_18 = {row.g_18},g_19 = {row.g_19},g_20 = {row.g_20},g_21 = {row.g_21},g_22 = {row.g_22},g_23 = {row.g_23},g_24 = {row.g_24},g_25 = {row.g_25}'\n",
    "            )\n",
    "    mysql_execute(query,conn)\n",
    "    return query\n"
   ]
  },
  {
   "cell_type": "code",
   "execution_count": 20,
   "id": "5744d362",
   "metadata": {},
   "outputs": [],
   "source": [
    "conn = connect_mysql()\n",
    "query = 'select * from lol_datas_IRON'\n",
    "result = sql_execute_dict(conn,query)\n",
    "conn.close()"
   ]
  },
  {
   "cell_type": "code",
   "execution_count": 21,
   "id": "d905d5d1",
   "metadata": {},
   "outputs": [],
   "source": [
    "result_df1 = pd.DataFrame(result)\n"
   ]
  },
  {
   "cell_type": "code",
   "execution_count": 22,
   "id": "eafd54bd",
   "metadata": {},
   "outputs": [
    {
     "data": {
      "text/html": [
       "<div>\n",
       "<style scoped>\n",
       "    .dataframe tbody tr th:only-of-type {\n",
       "        vertical-align: middle;\n",
       "    }\n",
       "\n",
       "    .dataframe tbody tr th {\n",
       "        vertical-align: top;\n",
       "    }\n",
       "\n",
       "    .dataframe thead th {\n",
       "        text-align: right;\n",
       "    }\n",
       "</style>\n",
       "<table border=\"1\" class=\"dataframe\">\n",
       "  <thead>\n",
       "    <tr style=\"text-align: right;\">\n",
       "      <th></th>\n",
       "      <th>gameDuration</th>\n",
       "      <th>allInPings</th>\n",
       "      <th>assistMePings</th>\n",
       "      <th>baitPings</th>\n",
       "      <th>basicPings</th>\n",
       "      <th>commandPings</th>\n",
       "      <th>dangerPings</th>\n",
       "      <th>enemyMissingPings</th>\n",
       "      <th>getBackPings</th>\n",
       "      <th>holdPings</th>\n",
       "      <th>...</th>\n",
       "      <th>g_11</th>\n",
       "      <th>g_12</th>\n",
       "      <th>g_13</th>\n",
       "      <th>g_14</th>\n",
       "      <th>g_15</th>\n",
       "      <th>g_16</th>\n",
       "      <th>g_17</th>\n",
       "      <th>g_18</th>\n",
       "      <th>g_19</th>\n",
       "      <th>g_20</th>\n",
       "    </tr>\n",
       "  </thead>\n",
       "  <tbody>\n",
       "    <tr>\n",
       "      <th>count</th>\n",
       "      <td>7788.000000</td>\n",
       "      <td>7788.000000</td>\n",
       "      <td>7788.000000</td>\n",
       "      <td>7788.000000</td>\n",
       "      <td>7788.0</td>\n",
       "      <td>7788.000000</td>\n",
       "      <td>7788.0</td>\n",
       "      <td>7788.000000</td>\n",
       "      <td>7788.000000</td>\n",
       "      <td>7788.000000</td>\n",
       "      <td>...</td>\n",
       "      <td>7788.000000</td>\n",
       "      <td>7788.000000</td>\n",
       "      <td>7788.000000</td>\n",
       "      <td>7788.000000</td>\n",
       "      <td>7788.000000</td>\n",
       "      <td>7788.000000</td>\n",
       "      <td>7788.000000</td>\n",
       "      <td>7788.000000</td>\n",
       "      <td>7788.000000</td>\n",
       "      <td>7788.000000</td>\n",
       "    </tr>\n",
       "    <tr>\n",
       "      <th>mean</th>\n",
       "      <td>1652.003852</td>\n",
       "      <td>0.261171</td>\n",
       "      <td>2.227144</td>\n",
       "      <td>0.016307</td>\n",
       "      <td>0.0</td>\n",
       "      <td>4.455701</td>\n",
       "      <td>0.0</td>\n",
       "      <td>4.455829</td>\n",
       "      <td>2.363508</td>\n",
       "      <td>0.023754</td>\n",
       "      <td>...</td>\n",
       "      <td>4429.048023</td>\n",
       "      <td>4869.560734</td>\n",
       "      <td>5315.529661</td>\n",
       "      <td>5812.891243</td>\n",
       "      <td>6281.730226</td>\n",
       "      <td>6713.345788</td>\n",
       "      <td>6386.220596</td>\n",
       "      <td>6183.196970</td>\n",
       "      <td>5975.129045</td>\n",
       "      <td>6022.379944</td>\n",
       "    </tr>\n",
       "    <tr>\n",
       "      <th>std</th>\n",
       "      <td>479.204406</td>\n",
       "      <td>1.443192</td>\n",
       "      <td>4.127684</td>\n",
       "      <td>0.189939</td>\n",
       "      <td>0.0</td>\n",
       "      <td>7.001492</td>\n",
       "      <td>0.0</td>\n",
       "      <td>6.227193</td>\n",
       "      <td>4.680218</td>\n",
       "      <td>0.213397</td>\n",
       "      <td>...</td>\n",
       "      <td>2706.591258</td>\n",
       "      <td>2877.335278</td>\n",
       "      <td>3165.116727</td>\n",
       "      <td>3494.977714</td>\n",
       "      <td>3767.615257</td>\n",
       "      <td>3879.022738</td>\n",
       "      <td>3945.932459</td>\n",
       "      <td>3808.740961</td>\n",
       "      <td>3528.423069</td>\n",
       "      <td>3556.380758</td>\n",
       "    </tr>\n",
       "    <tr>\n",
       "      <th>min</th>\n",
       "      <td>901.000000</td>\n",
       "      <td>0.000000</td>\n",
       "      <td>0.000000</td>\n",
       "      <td>0.000000</td>\n",
       "      <td>0.0</td>\n",
       "      <td>0.000000</td>\n",
       "      <td>0.0</td>\n",
       "      <td>0.000000</td>\n",
       "      <td>0.000000</td>\n",
       "      <td>0.000000</td>\n",
       "      <td>...</td>\n",
       "      <td>1623.000000</td>\n",
       "      <td>1745.000000</td>\n",
       "      <td>1867.000000</td>\n",
       "      <td>1990.000000</td>\n",
       "      <td>2112.000000</td>\n",
       "      <td>2141.000000</td>\n",
       "      <td>0.000000</td>\n",
       "      <td>0.000000</td>\n",
       "      <td>0.000000</td>\n",
       "      <td>0.000000</td>\n",
       "    </tr>\n",
       "    <tr>\n",
       "      <th>25%</th>\n",
       "      <td>1267.000000</td>\n",
       "      <td>0.000000</td>\n",
       "      <td>0.000000</td>\n",
       "      <td>0.000000</td>\n",
       "      <td>0.0</td>\n",
       "      <td>0.000000</td>\n",
       "      <td>0.0</td>\n",
       "      <td>0.000000</td>\n",
       "      <td>0.000000</td>\n",
       "      <td>0.000000</td>\n",
       "      <td>...</td>\n",
       "      <td>3086.000000</td>\n",
       "      <td>3407.000000</td>\n",
       "      <td>3719.750000</td>\n",
       "      <td>4051.000000</td>\n",
       "      <td>4377.000000</td>\n",
       "      <td>4715.000000</td>\n",
       "      <td>4800.750000</td>\n",
       "      <td>4907.250000</td>\n",
       "      <td>4956.750000</td>\n",
       "      <td>5055.500000</td>\n",
       "    </tr>\n",
       "    <tr>\n",
       "      <th>50%</th>\n",
       "      <td>1648.000000</td>\n",
       "      <td>0.000000</td>\n",
       "      <td>0.000000</td>\n",
       "      <td>0.000000</td>\n",
       "      <td>0.0</td>\n",
       "      <td>2.000000</td>\n",
       "      <td>0.0</td>\n",
       "      <td>2.000000</td>\n",
       "      <td>0.000000</td>\n",
       "      <td>0.000000</td>\n",
       "      <td>...</td>\n",
       "      <td>3607.000000</td>\n",
       "      <td>3988.000000</td>\n",
       "      <td>4354.000000</td>\n",
       "      <td>4761.500000</td>\n",
       "      <td>5160.500000</td>\n",
       "      <td>5578.500000</td>\n",
       "      <td>5802.500000</td>\n",
       "      <td>6065.000000</td>\n",
       "      <td>6297.000000</td>\n",
       "      <td>6601.000000</td>\n",
       "    </tr>\n",
       "    <tr>\n",
       "      <th>75%</th>\n",
       "      <td>1972.000000</td>\n",
       "      <td>0.000000</td>\n",
       "      <td>3.000000</td>\n",
       "      <td>0.000000</td>\n",
       "      <td>0.0</td>\n",
       "      <td>6.000000</td>\n",
       "      <td>0.0</td>\n",
       "      <td>6.000000</td>\n",
       "      <td>3.000000</td>\n",
       "      <td>0.000000</td>\n",
       "      <td>...</td>\n",
       "      <td>4267.000000</td>\n",
       "      <td>4743.250000</td>\n",
       "      <td>5212.000000</td>\n",
       "      <td>5722.000000</td>\n",
       "      <td>6201.000000</td>\n",
       "      <td>6707.250000</td>\n",
       "      <td>6988.500000</td>\n",
       "      <td>7270.750000</td>\n",
       "      <td>7566.500000</td>\n",
       "      <td>7907.250000</td>\n",
       "    </tr>\n",
       "    <tr>\n",
       "      <th>max</th>\n",
       "      <td>3101.000000</td>\n",
       "      <td>97.000000</td>\n",
       "      <td>50.000000</td>\n",
       "      <td>7.000000</td>\n",
       "      <td>0.0</td>\n",
       "      <td>88.000000</td>\n",
       "      <td>0.0</td>\n",
       "      <td>163.000000</td>\n",
       "      <td>61.000000</td>\n",
       "      <td>7.000000</td>\n",
       "      <td>...</td>\n",
       "      <td>16930.000000</td>\n",
       "      <td>20695.000000</td>\n",
       "      <td>21395.000000</td>\n",
       "      <td>22180.000000</td>\n",
       "      <td>25190.000000</td>\n",
       "      <td>25890.000000</td>\n",
       "      <td>25157.000000</td>\n",
       "      <td>25885.000000</td>\n",
       "      <td>27200.000000</td>\n",
       "      <td>27200.000000</td>\n",
       "    </tr>\n",
       "  </tbody>\n",
       "</table>\n",
       "<p>8 rows × 42 columns</p>\n",
       "</div>"
      ],
      "text/plain": [
       "       gameDuration   allInPings  assistMePings    baitPings  basicPings  \\\n",
       "count   7788.000000  7788.000000    7788.000000  7788.000000      7788.0   \n",
       "mean    1652.003852     0.261171       2.227144     0.016307         0.0   \n",
       "std      479.204406     1.443192       4.127684     0.189939         0.0   \n",
       "min      901.000000     0.000000       0.000000     0.000000         0.0   \n",
       "25%     1267.000000     0.000000       0.000000     0.000000         0.0   \n",
       "50%     1648.000000     0.000000       0.000000     0.000000         0.0   \n",
       "75%     1972.000000     0.000000       3.000000     0.000000         0.0   \n",
       "max     3101.000000    97.000000      50.000000     7.000000         0.0   \n",
       "\n",
       "       commandPings  dangerPings  enemyMissingPings  getBackPings  \\\n",
       "count   7788.000000       7788.0        7788.000000   7788.000000   \n",
       "mean       4.455701          0.0           4.455829      2.363508   \n",
       "std        7.001492          0.0           6.227193      4.680218   \n",
       "min        0.000000          0.0           0.000000      0.000000   \n",
       "25%        0.000000          0.0           0.000000      0.000000   \n",
       "50%        2.000000          0.0           2.000000      0.000000   \n",
       "75%        6.000000          0.0           6.000000      3.000000   \n",
       "max       88.000000          0.0         163.000000     61.000000   \n",
       "\n",
       "         holdPings  ...          g_11          g_12          g_13  \\\n",
       "count  7788.000000  ...   7788.000000   7788.000000   7788.000000   \n",
       "mean      0.023754  ...   4429.048023   4869.560734   5315.529661   \n",
       "std       0.213397  ...   2706.591258   2877.335278   3165.116727   \n",
       "min       0.000000  ...   1623.000000   1745.000000   1867.000000   \n",
       "25%       0.000000  ...   3086.000000   3407.000000   3719.750000   \n",
       "50%       0.000000  ...   3607.000000   3988.000000   4354.000000   \n",
       "75%       0.000000  ...   4267.000000   4743.250000   5212.000000   \n",
       "max       7.000000  ...  16930.000000  20695.000000  21395.000000   \n",
       "\n",
       "               g_14          g_15          g_16          g_17          g_18  \\\n",
       "count   7788.000000   7788.000000   7788.000000   7788.000000   7788.000000   \n",
       "mean    5812.891243   6281.730226   6713.345788   6386.220596   6183.196970   \n",
       "std     3494.977714   3767.615257   3879.022738   3945.932459   3808.740961   \n",
       "min     1990.000000   2112.000000   2141.000000      0.000000      0.000000   \n",
       "25%     4051.000000   4377.000000   4715.000000   4800.750000   4907.250000   \n",
       "50%     4761.500000   5160.500000   5578.500000   5802.500000   6065.000000   \n",
       "75%     5722.000000   6201.000000   6707.250000   6988.500000   7270.750000   \n",
       "max    22180.000000  25190.000000  25890.000000  25157.000000  25885.000000   \n",
       "\n",
       "               g_19          g_20  \n",
       "count   7788.000000   7788.000000  \n",
       "mean    5975.129045   6022.379944  \n",
       "std     3528.423069   3556.380758  \n",
       "min        0.000000      0.000000  \n",
       "25%     4956.750000   5055.500000  \n",
       "50%     6297.000000   6601.000000  \n",
       "75%     7566.500000   7907.250000  \n",
       "max    27200.000000  27200.000000  \n",
       "\n",
       "[8 rows x 42 columns]"
      ]
     },
     "execution_count": 22,
     "metadata": {},
     "output_type": "execute_result"
    }
   ],
   "source": [
    "result_df1.describe()"
   ]
  },
  {
   "cell_type": "code",
   "execution_count": 23,
   "id": "eaaab77f",
   "metadata": {},
   "outputs": [],
   "source": [
    "result_df_IRON = result_df1.dropna()"
   ]
  },
  {
   "cell_type": "code",
   "execution_count": 24,
   "id": "751a5c94",
   "metadata": {},
   "outputs": [
    {
     "data": {
      "text/html": [
       "<div>\n",
       "<style scoped>\n",
       "    .dataframe tbody tr th:only-of-type {\n",
       "        vertical-align: middle;\n",
       "    }\n",
       "\n",
       "    .dataframe tbody tr th {\n",
       "        vertical-align: top;\n",
       "    }\n",
       "\n",
       "    .dataframe thead th {\n",
       "        text-align: right;\n",
       "    }\n",
       "</style>\n",
       "<table border=\"1\" class=\"dataframe\">\n",
       "  <thead>\n",
       "    <tr style=\"text-align: right;\">\n",
       "      <th></th>\n",
       "      <th>gameId</th>\n",
       "      <th>gameDuration</th>\n",
       "      <th>allInPings</th>\n",
       "      <th>assistMePings</th>\n",
       "      <th>baitPings</th>\n",
       "      <th>basicPings</th>\n",
       "      <th>commandPings</th>\n",
       "      <th>dangerPings</th>\n",
       "      <th>enemyMissingPings</th>\n",
       "      <th>getBackPings</th>\n",
       "      <th>...</th>\n",
       "      <th>g_11</th>\n",
       "      <th>g_12</th>\n",
       "      <th>g_13</th>\n",
       "      <th>g_14</th>\n",
       "      <th>g_15</th>\n",
       "      <th>g_16</th>\n",
       "      <th>g_17</th>\n",
       "      <th>g_18</th>\n",
       "      <th>g_19</th>\n",
       "      <th>g_20</th>\n",
       "    </tr>\n",
       "  </thead>\n",
       "  <tbody>\n",
       "    <tr>\n",
       "      <th>0</th>\n",
       "      <td>KR_6841974869</td>\n",
       "      <td>1861</td>\n",
       "      <td>0</td>\n",
       "      <td>0</td>\n",
       "      <td>0</td>\n",
       "      <td>0</td>\n",
       "      <td>5</td>\n",
       "      <td>0</td>\n",
       "      <td>9</td>\n",
       "      <td>2</td>\n",
       "      <td>...</td>\n",
       "      <td>4128</td>\n",
       "      <td>4683</td>\n",
       "      <td>5284</td>\n",
       "      <td>5637</td>\n",
       "      <td>5991</td>\n",
       "      <td>6218</td>\n",
       "      <td>7330</td>\n",
       "      <td>7740</td>\n",
       "      <td>7925</td>\n",
       "      <td>8593</td>\n",
       "    </tr>\n",
       "    <tr>\n",
       "      <th>1</th>\n",
       "      <td>KR_6841974869</td>\n",
       "      <td>1861</td>\n",
       "      <td>0</td>\n",
       "      <td>1</td>\n",
       "      <td>0</td>\n",
       "      <td>0</td>\n",
       "      <td>3</td>\n",
       "      <td>0</td>\n",
       "      <td>11</td>\n",
       "      <td>3</td>\n",
       "      <td>...</td>\n",
       "      <td>3318</td>\n",
       "      <td>3618</td>\n",
       "      <td>3745</td>\n",
       "      <td>4083</td>\n",
       "      <td>4290</td>\n",
       "      <td>4721</td>\n",
       "      <td>4913</td>\n",
       "      <td>5306</td>\n",
       "      <td>5973</td>\n",
       "      <td>6229</td>\n",
       "    </tr>\n",
       "    <tr>\n",
       "      <th>2</th>\n",
       "      <td>KR_6841974869</td>\n",
       "      <td>1861</td>\n",
       "      <td>1</td>\n",
       "      <td>2</td>\n",
       "      <td>0</td>\n",
       "      <td>0</td>\n",
       "      <td>3</td>\n",
       "      <td>0</td>\n",
       "      <td>17</td>\n",
       "      <td>10</td>\n",
       "      <td>...</td>\n",
       "      <td>3195</td>\n",
       "      <td>3562</td>\n",
       "      <td>3727</td>\n",
       "      <td>3979</td>\n",
       "      <td>4333</td>\n",
       "      <td>4961</td>\n",
       "      <td>5133</td>\n",
       "      <td>5404</td>\n",
       "      <td>5617</td>\n",
       "      <td>6839</td>\n",
       "    </tr>\n",
       "    <tr>\n",
       "      <th>3</th>\n",
       "      <td>KR_6841974869</td>\n",
       "      <td>1861</td>\n",
       "      <td>0</td>\n",
       "      <td>2</td>\n",
       "      <td>0</td>\n",
       "      <td>0</td>\n",
       "      <td>2</td>\n",
       "      <td>0</td>\n",
       "      <td>8</td>\n",
       "      <td>4</td>\n",
       "      <td>...</td>\n",
       "      <td>4165</td>\n",
       "      <td>4350</td>\n",
       "      <td>4724</td>\n",
       "      <td>5047</td>\n",
       "      <td>5295</td>\n",
       "      <td>5492</td>\n",
       "      <td>5665</td>\n",
       "      <td>6213</td>\n",
       "      <td>6434</td>\n",
       "      <td>6917</td>\n",
       "    </tr>\n",
       "    <tr>\n",
       "      <th>4</th>\n",
       "      <td>KR_6841974869</td>\n",
       "      <td>1861</td>\n",
       "      <td>0</td>\n",
       "      <td>2</td>\n",
       "      <td>0</td>\n",
       "      <td>0</td>\n",
       "      <td>11</td>\n",
       "      <td>0</td>\n",
       "      <td>0</td>\n",
       "      <td>6</td>\n",
       "      <td>...</td>\n",
       "      <td>3213</td>\n",
       "      <td>3538</td>\n",
       "      <td>3863</td>\n",
       "      <td>4080</td>\n",
       "      <td>4384</td>\n",
       "      <td>4688</td>\n",
       "      <td>4888</td>\n",
       "      <td>5295</td>\n",
       "      <td>5714</td>\n",
       "      <td>6066</td>\n",
       "    </tr>\n",
       "    <tr>\n",
       "      <th>...</th>\n",
       "      <td>...</td>\n",
       "      <td>...</td>\n",
       "      <td>...</td>\n",
       "      <td>...</td>\n",
       "      <td>...</td>\n",
       "      <td>...</td>\n",
       "      <td>...</td>\n",
       "      <td>...</td>\n",
       "      <td>...</td>\n",
       "      <td>...</td>\n",
       "      <td>...</td>\n",
       "      <td>...</td>\n",
       "      <td>...</td>\n",
       "      <td>...</td>\n",
       "      <td>...</td>\n",
       "      <td>...</td>\n",
       "      <td>...</td>\n",
       "      <td>...</td>\n",
       "      <td>...</td>\n",
       "      <td>...</td>\n",
       "      <td>...</td>\n",
       "    </tr>\n",
       "    <tr>\n",
       "      <th>7783</th>\n",
       "      <td>KR_6866314283</td>\n",
       "      <td>1744</td>\n",
       "      <td>0</td>\n",
       "      <td>1</td>\n",
       "      <td>0</td>\n",
       "      <td>0</td>\n",
       "      <td>13</td>\n",
       "      <td>0</td>\n",
       "      <td>4</td>\n",
       "      <td>0</td>\n",
       "      <td>...</td>\n",
       "      <td>3987</td>\n",
       "      <td>4323</td>\n",
       "      <td>4754</td>\n",
       "      <td>5056</td>\n",
       "      <td>5409</td>\n",
       "      <td>5767</td>\n",
       "      <td>6365</td>\n",
       "      <td>6885</td>\n",
       "      <td>7050</td>\n",
       "      <td>7489</td>\n",
       "    </tr>\n",
       "    <tr>\n",
       "      <th>7784</th>\n",
       "      <td>KR_6866314283</td>\n",
       "      <td>1744</td>\n",
       "      <td>0</td>\n",
       "      <td>0</td>\n",
       "      <td>0</td>\n",
       "      <td>0</td>\n",
       "      <td>1</td>\n",
       "      <td>0</td>\n",
       "      <td>6</td>\n",
       "      <td>4</td>\n",
       "      <td>...</td>\n",
       "      <td>3923</td>\n",
       "      <td>4364</td>\n",
       "      <td>4862</td>\n",
       "      <td>5199</td>\n",
       "      <td>5669</td>\n",
       "      <td>5991</td>\n",
       "      <td>6318</td>\n",
       "      <td>7042</td>\n",
       "      <td>7248</td>\n",
       "      <td>7598</td>\n",
       "    </tr>\n",
       "    <tr>\n",
       "      <th>7785</th>\n",
       "      <td>KR_6866314283</td>\n",
       "      <td>1744</td>\n",
       "      <td>0</td>\n",
       "      <td>11</td>\n",
       "      <td>0</td>\n",
       "      <td>0</td>\n",
       "      <td>0</td>\n",
       "      <td>0</td>\n",
       "      <td>1</td>\n",
       "      <td>1</td>\n",
       "      <td>...</td>\n",
       "      <td>3773</td>\n",
       "      <td>4049</td>\n",
       "      <td>4260</td>\n",
       "      <td>4569</td>\n",
       "      <td>5095</td>\n",
       "      <td>5439</td>\n",
       "      <td>5561</td>\n",
       "      <td>5984</td>\n",
       "      <td>6285</td>\n",
       "      <td>6672</td>\n",
       "    </tr>\n",
       "    <tr>\n",
       "      <th>7786</th>\n",
       "      <td>KR_6866314283</td>\n",
       "      <td>1744</td>\n",
       "      <td>0</td>\n",
       "      <td>0</td>\n",
       "      <td>0</td>\n",
       "      <td>0</td>\n",
       "      <td>4</td>\n",
       "      <td>0</td>\n",
       "      <td>0</td>\n",
       "      <td>3</td>\n",
       "      <td>...</td>\n",
       "      <td>4194</td>\n",
       "      <td>4701</td>\n",
       "      <td>4957</td>\n",
       "      <td>5412</td>\n",
       "      <td>5807</td>\n",
       "      <td>6220</td>\n",
       "      <td>6758</td>\n",
       "      <td>7512</td>\n",
       "      <td>8199</td>\n",
       "      <td>8754</td>\n",
       "    </tr>\n",
       "    <tr>\n",
       "      <th>7787</th>\n",
       "      <td>KR_6866314283</td>\n",
       "      <td>1744</td>\n",
       "      <td>1</td>\n",
       "      <td>3</td>\n",
       "      <td>0</td>\n",
       "      <td>0</td>\n",
       "      <td>4</td>\n",
       "      <td>0</td>\n",
       "      <td>0</td>\n",
       "      <td>1</td>\n",
       "      <td>...</td>\n",
       "      <td>2652</td>\n",
       "      <td>2872</td>\n",
       "      <td>3088</td>\n",
       "      <td>3445</td>\n",
       "      <td>3600</td>\n",
       "      <td>3919</td>\n",
       "      <td>4445</td>\n",
       "      <td>4810</td>\n",
       "      <td>5116</td>\n",
       "      <td>5284</td>\n",
       "    </tr>\n",
       "  </tbody>\n",
       "</table>\n",
       "<p>7788 rows × 47 columns</p>\n",
       "</div>"
      ],
      "text/plain": [
       "             gameId  gameDuration  allInPings  assistMePings  baitPings  \\\n",
       "0     KR_6841974869          1861           0              0          0   \n",
       "1     KR_6841974869          1861           0              1          0   \n",
       "2     KR_6841974869          1861           1              2          0   \n",
       "3     KR_6841974869          1861           0              2          0   \n",
       "4     KR_6841974869          1861           0              2          0   \n",
       "...             ...           ...         ...            ...        ...   \n",
       "7783  KR_6866314283          1744           0              1          0   \n",
       "7784  KR_6866314283          1744           0              0          0   \n",
       "7785  KR_6866314283          1744           0             11          0   \n",
       "7786  KR_6866314283          1744           0              0          0   \n",
       "7787  KR_6866314283          1744           1              3          0   \n",
       "\n",
       "      basicPings  commandPings  dangerPings  enemyMissingPings  getBackPings  \\\n",
       "0              0             5            0                  9             2   \n",
       "1              0             3            0                 11             3   \n",
       "2              0             3            0                 17            10   \n",
       "3              0             2            0                  8             4   \n",
       "4              0            11            0                  0             6   \n",
       "...          ...           ...          ...                ...           ...   \n",
       "7783           0            13            0                  4             0   \n",
       "7784           0             1            0                  6             4   \n",
       "7785           0             0            0                  1             1   \n",
       "7786           0             4            0                  0             3   \n",
       "7787           0             4            0                  0             1   \n",
       "\n",
       "      ...  g_11  g_12  g_13  g_14  g_15  g_16  g_17  g_18  g_19  g_20  \n",
       "0     ...  4128  4683  5284  5637  5991  6218  7330  7740  7925  8593  \n",
       "1     ...  3318  3618  3745  4083  4290  4721  4913  5306  5973  6229  \n",
       "2     ...  3195  3562  3727  3979  4333  4961  5133  5404  5617  6839  \n",
       "3     ...  4165  4350  4724  5047  5295  5492  5665  6213  6434  6917  \n",
       "4     ...  3213  3538  3863  4080  4384  4688  4888  5295  5714  6066  \n",
       "...   ...   ...   ...   ...   ...   ...   ...   ...   ...   ...   ...  \n",
       "7783  ...  3987  4323  4754  5056  5409  5767  6365  6885  7050  7489  \n",
       "7784  ...  3923  4364  4862  5199  5669  5991  6318  7042  7248  7598  \n",
       "7785  ...  3773  4049  4260  4569  5095  5439  5561  5984  6285  6672  \n",
       "7786  ...  4194  4701  4957  5412  5807  6220  6758  7512  8199  8754  \n",
       "7787  ...  2652  2872  3088  3445  3600  3919  4445  4810  5116  5284  \n",
       "\n",
       "[7788 rows x 47 columns]"
      ]
     },
     "execution_count": 24,
     "metadata": {},
     "output_type": "execute_result"
    }
   ],
   "source": [
    "result_df_IRON"
   ]
  },
  {
   "cell_type": "code",
   "execution_count": 25,
   "id": "6b0f2e04",
   "metadata": {},
   "outputs": [
    {
     "ename": "NameError",
     "evalue": "name 'df3' is not defined",
     "output_type": "error",
     "traceback": [
      "\u001b[1;31m---------------------------------------------------------------------------\u001b[0m",
      "\u001b[1;31mNameError\u001b[0m                                 Traceback (most recent call last)",
      "Cell \u001b[1;32mIn[25], line 1\u001b[0m\n\u001b[1;32m----> 1\u001b[0m df3\n",
      "\u001b[1;31mNameError\u001b[0m: name 'df3' is not defined"
     ]
    }
   ],
   "source": [
    "df3"
   ]
  },
  {
   "cell_type": "code",
   "execution_count": 26,
   "id": "6bce5f5a",
   "metadata": {},
   "outputs": [
    {
     "ename": "NameError",
     "evalue": "name 'df' is not defined",
     "output_type": "error",
     "traceback": [
      "\u001b[1;31m---------------------------------------------------------------------------\u001b[0m",
      "\u001b[1;31mNameError\u001b[0m                                 Traceback (most recent call last)",
      "Cell \u001b[1;32mIn[26], line 1\u001b[0m\n\u001b[1;32m----> 1\u001b[0m df[\u001b[38;5;124m'\u001b[39m\u001b[38;5;124mmatches\u001b[39m\u001b[38;5;124m'\u001b[39m][\u001b[38;5;241m0\u001b[39m][\u001b[38;5;124m'\u001b[39m\u001b[38;5;124minfo\u001b[39m\u001b[38;5;124m'\u001b[39m][\u001b[38;5;124m'\u001b[39m\u001b[38;5;124mparticipants\u001b[39m\u001b[38;5;124m'\u001b[39m][\u001b[38;5;241m0\u001b[39m][\u001b[38;5;124m'\u001b[39m\u001b[38;5;124msummonerName\u001b[39m\u001b[38;5;124m'\u001b[39m]\n",
      "\u001b[1;31mNameError\u001b[0m: name 'df' is not defined"
     ]
    }
   ],
   "source": [
    "df['matches'][0]['info']['participants'][0]['summonerName'] # summonerName"
   ]
  },
  {
   "cell_type": "code",
   "execution_count": null,
   "id": "75cb5ba6",
   "metadata": {},
   "outputs": [],
   "source": [
    "df['matches'][0]['info']['participants'][0]"
   ]
  },
  {
   "cell_type": "code",
   "execution_count": null,
   "id": "c4af6f15",
   "metadata": {},
   "outputs": [],
   "source": [
    "df['matches'][0]['info']['participants'][0]['allInPings'] # allInPings"
   ]
  },
  {
   "cell_type": "code",
   "execution_count": null,
   "id": "6c15e33c",
   "metadata": {},
   "outputs": [],
   "source": [
    "df['matches'][0]['info']['participants'][0]['assistMePings'] # assistMePings"
   ]
  },
  {
   "cell_type": "code",
   "execution_count": null,
   "id": "257ddd81",
   "metadata": {},
   "outputs": [],
   "source": [
    "df['matches'][0]['info']['participants'][0]['baitPings'] # baitPings"
   ]
  },
  {
   "cell_type": "code",
   "execution_count": null,
   "id": "20cd6a8f",
   "metadata": {},
   "outputs": [],
   "source": [
    "df['matches'][0]['info']['participants'][0]['basicPings'] # basicPings"
   ]
  },
  {
   "cell_type": "code",
   "execution_count": null,
   "id": "6bd6d1ec",
   "metadata": {},
   "outputs": [],
   "source": [
    "df.iloc[0].matches['info']['participants'][0]['commandPings'] #commandPings"
   ]
  },
  {
   "cell_type": "code",
   "execution_count": null,
   "id": "2add9aee",
   "metadata": {},
   "outputs": [],
   "source": [
    "df.iloc[0].matches['info']['participants'][0]['dangerPings'] #dangerPings"
   ]
  },
  {
   "cell_type": "code",
   "execution_count": null,
   "id": "3a8b1df6",
   "metadata": {},
   "outputs": [],
   "source": [
    "df.iloc[0].matches['info']['participants'][0]['enemyMissingPings'] #enemyMissingPings"
   ]
  },
  {
   "cell_type": "code",
   "execution_count": null,
   "id": "95f528c9",
   "metadata": {},
   "outputs": [],
   "source": [
    "df.iloc[0].matches['info']['participants'][0]['enemyVisionPings'] #enemyVisionPings"
   ]
  },
  {
   "cell_type": "code",
   "execution_count": null,
   "id": "4c7a8894",
   "metadata": {},
   "outputs": [],
   "source": [
    "df.iloc[0].matches['info']['participants'][0]['getBackPings'] # getBackPings"
   ]
  },
  {
   "cell_type": "code",
   "execution_count": null,
   "id": "54cad0a4",
   "metadata": {},
   "outputs": [],
   "source": [
    "df.iloc[0].matches['info']['participants'][0]['holdPings'] # holdPings"
   ]
  },
  {
   "cell_type": "code",
   "execution_count": null,
   "id": "72871a4b",
   "metadata": {},
   "outputs": [],
   "source": [
    "df.iloc[0].matches['info']['participants'][0]['needVisionPings'] #needVisionPings"
   ]
  },
  {
   "cell_type": "code",
   "execution_count": null,
   "id": "0774911e",
   "metadata": {},
   "outputs": [],
   "source": [
    "df.iloc[0].matches['info']['participants'][0]['onMyWayPings'] #onMyWayPings"
   ]
  },
  {
   "cell_type": "code",
   "execution_count": null,
   "id": "5e82558a",
   "metadata": {},
   "outputs": [],
   "source": [
    "df.iloc[0].matches['info']['participants'][0]['pushPings'] #pushPings"
   ]
  },
  {
   "cell_type": "code",
   "execution_count": null,
   "id": "ec74afd2",
   "metadata": {},
   "outputs": [],
   "source": [
    "df.iloc[0].matches['info']['participants'][0]['visionClearedPings'] #visionClearedPings"
   ]
  },
  {
   "cell_type": "code",
   "execution_count": null,
   "id": "64547691",
   "metadata": {},
   "outputs": [],
   "source": [
    "df3 = get_match_timeline_df(df)"
   ]
  },
  {
   "cell_type": "code",
   "execution_count": null,
   "id": "82abb8fd",
   "metadata": {
    "scrolled": false
   },
   "outputs": [],
   "source": [
    "df3"
   ]
  },
  {
   "cell_type": "code",
   "execution_count": null,
   "id": "06b0af66",
   "metadata": {},
   "outputs": [],
   "source": [
    "df2.describe()"
   ]
  },
  {
   "cell_type": "code",
   "execution_count": null,
   "id": "5a493c03",
   "metadata": {},
   "outputs": [],
   "source": [
    "result_df_IRON"
   ]
  },
  {
   "cell_type": "code",
   "execution_count": null,
   "id": "0f583b16",
   "metadata": {},
   "outputs": [],
   "source": [
    "import pandas as pd\n",
    "\n",
    "# 예시 데이터프레임 생성\n",
    "data = {'Column1': [1, 2, 3],\n",
    "        'Column2': [4, 5, 6],\n",
    "        'Column3': [7, 8, 9]}\n",
    "df = pd.DataFrame(data)\n",
    "\n",
    "# 선택한 열들의 값을 합하여 새로운 열 생성\n",
    "selected_columns = ['allInPings', 'assistMePings','commandPings','basicPings','dangerPings','getBackPings','onMyWayPings','needVisionPings','enemyMissingPings','pushPings']\n",
    "result_df_IRON['Sum_Selected'] = result_df_IRON[selected_columns].sum(axis=1)\n",
    "\n",
    "# 결과 출력\n",
    "result_df_IRON\n"
   ]
  },
  {
   "cell_type": "code",
   "execution_count": null,
   "id": "dfbc63b3",
   "metadata": {},
   "outputs": [],
   "source": [
    "emerald_df = emerald_df[emerald_df.teamPosition != \"\"]\n",
    "\n",
    "emerald_df = emerald_df.drop(columns=['visionClearedPings','holdPings','baitPings'],axis=1)\n",
    "\n",
    "emerald_df"
   ]
  },
  {
   "cell_type": "code",
   "execution_count": null,
   "id": "7ca9c2ed",
   "metadata": {},
   "outputs": [],
   "source": [
    "result_df_IRON = result_df_IRON[result_df_IRON.teamPosition != \"\"]\n",
    "\n",
    "result_df_IRON = result_df_IRON.drop(columns=['visionClearedPings','holdPings','baitPings'],axis=1)"
   ]
  },
  {
   "cell_type": "code",
   "execution_count": null,
   "id": "4f8f1bd0",
   "metadata": {},
   "outputs": [],
   "source": [
    "result_df_DIAMOND = result_df_DIAMOND.drop(columns=['visionClearedPings','holdPings','baitPings'],axis=1)"
   ]
  },
  {
   "cell_type": "code",
   "execution_count": null,
   "id": "3d837038",
   "metadata": {},
   "outputs": [],
   "source": [
    "result_df_DIAMOND"
   ]
  },
  {
   "cell_type": "code",
   "execution_count": null,
   "id": "fd8d3a9d",
   "metadata": {},
   "outputs": [],
   "source": [
    "result_df_DIAMOND = result_df_DIAMOND[result_df_DIAMOND.teamPosition != \"\"]"
   ]
  },
  {
   "cell_type": "code",
   "execution_count": null,
   "id": "9ea015a7",
   "metadata": {},
   "outputs": [],
   "source": [
    "result_df_DIAMOND"
   ]
  },
  {
   "cell_type": "code",
   "execution_count": null,
   "id": "faf5122a",
   "metadata": {},
   "outputs": [],
   "source": [
    "result_df_DIAMOND['tier'] = 'DIAMOND'"
   ]
  },
  {
   "cell_type": "code",
   "execution_count": null,
   "id": "3ee339db",
   "metadata": {},
   "outputs": [],
   "source": [
    "result_df_EMERALD"
   ]
  },
  {
   "cell_type": "code",
   "execution_count": null,
   "id": "bd8687d4",
   "metadata": {},
   "outputs": [],
   "source": [
    "import pandas as pd\n",
    "\n",
    "# 첫 번째 데이터프레임 생성\n",
    "df1 = pd.DataFrame({'ID': [1, 2, 3], 'Name': ['Alice', 'Bob', 'Charlie']})\n",
    "\n",
    "# 두 번째 데이터프레임 생성\n",
    "df2 = pd.DataFrame({'ID': [1, 2, 4], 'Age': [25, 30, 22]})\n",
    "\n",
    "# 'ID' 열을 기준으로 두 데이터프레임 합치기\n",
    "merged_df = pd.merge(df1, df2, on='ID', how='inner')\n",
    "\n",
    "# 결과 출력\n",
    "print(merged_df)\n"
   ]
  },
  {
   "cell_type": "code",
   "execution_count": null,
   "id": "7fb105d2",
   "metadata": {},
   "outputs": [],
   "source": [
    "result_df_BRONZE"
   ]
  },
  {
   "cell_type": "code",
   "execution_count": null,
   "id": "eaa976bf",
   "metadata": {},
   "outputs": [],
   "source": [
    "import pandas as pd\n",
    "\n",
    "# 예시 데이터프레임 생성\n",
    "data = {'win': [True, False, True],\n",
    "        'numbers': [10, 20, 30]}\n",
    "df = pd.DataFrame(data)\n",
    "\n",
    "# 'win'이 True인 행의 'numbers' 값 합계\n",
    "sum_true = result_df_DIAMOND.loc[result_df_DIAMOND['win'] == 'True', 'Sum_Selected'].sum()\n",
    "\n",
    "# 'win'이 False인 행의 'numbers' 값 합계\n",
    "sum_false = result_df_DIAMOND.loc[result_df_DIAMOND['win'] == 'False', 'Sum_Selected'].sum()\n",
    "\n",
    "# 결과 출력\n",
    "print(\"Sum for True: \", sum_true)\n",
    "print(\"Sum for False: \", sum_false)\n",
    "\n",
    "# 합계를 비교\n",
    "if sum_true > sum_false:\n",
    "    print(\"True has a higher sum.\")\n",
    "elif sum_true < sum_false:\n",
    "    print(\"False has a higher sum.\")\n",
    "else:\n",
    "    print(\"Sums are equal.\")\n"
   ]
  },
  {
   "cell_type": "code",
   "execution_count": null,
   "id": "a94b517a",
   "metadata": {},
   "outputs": [],
   "source": [
    "sum_true"
   ]
  },
  {
   "cell_type": "code",
   "execution_count": null,
   "id": "7cde2f0f",
   "metadata": {},
   "outputs": [],
   "source": [
    "selected_rows = result_df[(result_df['g_2'] >= 900) & (result_df['win'] == 'True')]\n",
    "\n",
    "# 전체 판수\n",
    "total_games = len(result_df[result_df['g_2'] >= 900])\n",
    "\n",
    "print(total_games)\n",
    "\n",
    "# 조건에 해당하는 판수\n",
    "selected_games = len(selected_rows)\n",
    "\n",
    "print(selected_games)\n",
    "\n",
    "# 승률 계산\n",
    "win_rate = selected_games / total_games * 100"
   ]
  },
  {
   "cell_type": "code",
   "execution_count": null,
   "id": "60107616",
   "metadata": {},
   "outputs": [],
   "source": [
    "iron_issue_win = round(win_rate, 1)\n",
    "# bro_issue_win = round(win_rate, 1)\n",
    "# sil_issue_win = round(win_rate, 1)\n",
    "# gold_issue_win = round(win_rate, 1)\n",
    "# pla_issue_win = round(win_rate, 1)\n",
    "# eme_issue_win = round(win_rate, 1)\n",
    "# dia_issue_win = round(win_rate, 1)"
   ]
  },
  {
   "cell_type": "code",
   "execution_count": null,
   "id": "3b643071",
   "metadata": {},
   "outputs": [],
   "source": [
    "selected_rows2 = result_df[(result['g_2'] < 900) & (result['win'] == 'True')]\n",
    "\n",
    "# 전체 판수\n",
    "total_games2 = len(result[result['g_2'] < 900])\n",
    "\n",
    "print(total_games2)\n",
    "\n",
    "# 조건에 해당하는 판수\n",
    "selected_games2 = len(selected_rows2)\n",
    "\n",
    "print(selected_games2)\n",
    "\n",
    "# 승률 계산\n",
    "win_rate2 = selected_games2 / total_games2 * 100\n"
   ]
  },
  {
   "cell_type": "code",
   "execution_count": null,
   "id": "48434aa2",
   "metadata": {},
   "outputs": [],
   "source": [
    "# iron_no_issue_win = round(win_rate2, 1)\n",
    "# bro_no_issue_win = round(win_rate2, 1)\n",
    "# sil_no_issue_win = round(win_rate2, 1)\n",
    "# gold_no_issue_win = round(win_rate2, 1)\n",
    "# pla_no_issue_win = round(win_rate2, 1)\n",
    "# eme_no_issue_win = round(win_rate2, 1)\n",
    "dia_no_issue_win = round(win_rate2, 1)"
   ]
  },
  {
   "cell_type": "code",
   "execution_count": null,
   "id": "de3ee317",
   "metadata": {},
   "outputs": [],
   "source": [
    "tiers = ['IRON', 'BRONZE', 'SILVER', 'GOLD', 'PLATINUM', 'EMERALD', 'DIAMOND']\n",
    "\n",
    "result_df = pd.DataFrame(index=tiers, columns=['이긴 팀의 총 핑 횟수', '진 팀의 총 핑 횟수'])"
   ]
  },
  {
   "cell_type": "code",
   "execution_count": null,
   "id": "c9e3959a",
   "metadata": {},
   "outputs": [],
   "source": [
    "result_df.loc['DIAMOND', '이긴 팀의 총 핑 횟수'] = sum_true\n",
    "result_df.loc['DIAMOND', '진 팀의 총 핑 횟수'] = sum_false"
   ]
  },
  {
   "cell_type": "code",
   "execution_count": null,
   "id": "ba6b6893",
   "metadata": {},
   "outputs": [],
   "source": [
    "result_df_SILVER"
   ]
  },
  {
   "cell_type": "code",
   "execution_count": null,
   "id": "31215d67",
   "metadata": {},
   "outputs": [],
   "source": [
    "result_final = pd.merge(result_final,result_df_DIAMOND, how = 'outer')"
   ]
  },
  {
   "cell_type": "code",
   "execution_count": null,
   "id": "f2824242",
   "metadata": {},
   "outputs": [],
   "source": [
    "result_final"
   ]
  },
  {
   "cell_type": "code",
   "execution_count": null,
   "id": "bf4bd5c5",
   "metadata": {},
   "outputs": [],
   "source": [
    "result_df"
   ]
  },
  {
   "cell_type": "code",
   "execution_count": null,
   "id": "3f1c89b4",
   "metadata": {},
   "outputs": [],
   "source": [
    "result_final.to_csv('result_final.csv', index=False)"
   ]
  },
  {
   "cell_type": "code",
   "execution_count": null,
   "id": "f1afe3a9",
   "metadata": {},
   "outputs": [],
   "source": [
    "df = pd.read_csv('result_df_issue.csv')\n",
    "df"
   ]
  },
  {
   "cell_type": "code",
   "execution_count": null,
   "id": "ce736ea8",
   "metadata": {},
   "outputs": [],
   "source": [
    "with open(\"data.json\",\"w\",encoding = 'UTF-8') as file:\n",
    "    json.dump(result_final, file)"
   ]
  },
  {
   "cell_type": "code",
   "execution_count": null,
   "id": "051bbd3f",
   "metadata": {},
   "outputs": [],
   "source": [
    "data"
   ]
  },
  {
   "cell_type": "code",
   "execution_count": null,
   "id": "58464d2d",
   "metadata": {},
   "outputs": [],
   "source": [
    "import json\n",
    "\n",
    "# Example data\n",
    "data = {'ID': [1, 2, 3],\n",
    "        'Name': ['Alice', 'Bob', 'Charlie']}\n",
    "\n",
    "# Save data to a JSON file\n",
    "with open(\"data.json\", \"w\", encoding='UTF-8') as file:\n",
    "    json.dump(data, file)\n",
    "\n",
    "print(\"JSON file has been successfully created.\")\n"
   ]
  }
 ],
 "metadata": {
  "kernelspec": {
   "display_name": "Python 3 (ipykernel)",
   "language": "python",
   "name": "python3"
  },
  "language_info": {
   "codemirror_mode": {
    "name": "ipython",
    "version": 3
   },
   "file_extension": ".py",
   "mimetype": "text/x-python",
   "name": "python",
   "nbconvert_exporter": "python",
   "pygments_lexer": "ipython3",
   "version": "3.11.5"
  }
 },
 "nbformat": 4,
 "nbformat_minor": 5
}
